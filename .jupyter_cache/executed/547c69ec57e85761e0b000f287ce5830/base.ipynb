{
 "cells": [
  {
   "cell_type": "code",
   "execution_count": 1,
   "id": "74f42159",
   "metadata": {},
   "outputs": [
    {
     "name": "stdout",
     "output_type": "stream",
     "text": [
      "{\"C:\\\\Users\\\\pierr\\\\AppData\\\\Local\\\\Programs\\\\Python\\\\Python311\\\\Lib\\\\importlib\\\\_bootstrap.py\": 1680645850.0, \"C:\\\\Users\\\\pierr\\\\AppData\\\\Local\\\\Programs\\\\Python\\\\Python311\\\\Lib\\\\importlib\\\\_bootstrap_external.py\": 1680645850.0, \"C:\\\\Users\\\\pierr\\\\AppData\\\\Local\\\\Programs\\\\Python\\\\Python311\\\\Lib\\\\zipimport.py\": 1680645850.0, \"C:\\\\Users\\\\pierr\\\\AppData\\\\Local\\\\Programs\\\\Python\\\\Python311\\\\Lib\\\\codecs.py\": 1680645850.0, \"C:\\\\Users\\\\pierr\\\\AppData\\\\Local\\\\Programs\\\\Python\\\\Python311\\\\Lib\\\\encodings\\\\aliases.py\": 1680645850.0, \"C:\\\\Users\\\\pierr\\\\AppData\\\\Local\\\\Programs\\\\Python\\\\Python311\\\\Lib\\\\encodings\\\\__init__.py\": 1680645850.0, \"C:\\\\Users\\\\pierr\\\\AppData\\\\Local\\\\Programs\\\\Python\\\\Python311\\\\Lib\\\\encodings\\\\utf_8.py\": 1680645850.0, \"C:\\\\Users\\\\pierr\\\\AppData\\\\Local\\\\Programs\\\\Python\\\\Python311\\\\Lib\\\\abc.py\": 1680645850.0, \"C:\\\\Users\\\\pierr\\\\AppData\\\\Local\\\\Programs\\\\Python\\\\Python311\\\\Lib\\\\io.py\": 1680645850.0, \"C:\\\\Users\\\\pierr\\\\AppData\\\\Local\\\\Programs\\\\Python\\\\Python311\\\\Lib\\\\stat.py\": 1680645850.0, \"C:\\\\Users\\\\pierr\\\\AppData\\\\Local\\\\Programs\\\\Python\\\\Python311\\\\Lib\\\\_collections_abc.py\": 1680645850.0, \"C:\\\\Users\\\\pierr\\\\AppData\\\\Local\\\\Programs\\\\Python\\\\Python311\\\\Lib\\\\genericpath.py\": 1680645850.0, \"C:\\\\Users\\\\pierr\\\\AppData\\\\Local\\\\Programs\\\\Python\\\\Python311\\\\Lib\\\\ntpath.py\": 1680645850.0, \"C:\\\\Users\\\\pierr\\\\AppData\\\\Local\\\\Programs\\\\Python\\\\Python311\\\\Lib\\\\os.py\": 1680645850.0, \"C:\\\\Users\\\\pierr\\\\AppData\\\\Local\\\\Programs\\\\Python\\\\Python311\\\\Lib\\\\_sitebuiltins.py\": 1680645850.0, \"C:\\\\Users\\\\pierr\\\\AppData\\\\Local\\\\Programs\\\\Python\\\\Python311\\\\Lib\\\\encodings\\\\cp1252.py\": 1680645850.0, \"C:\\\\Users\\\\pierr\\\\AppData\\\\Local\\\\Programs\\\\Python\\\\Python311\\\\Lib\\\\site-packages\\\\_distutils_hack\\\\__init__.py\": 1682010681.7313247, \"C:\\\\Users\\\\pierr\\\\AppData\\\\Local\\\\Programs\\\\Python\\\\Python311\\\\Lib\\\\site-packages\\\\win32\\\\lib\\\\pywin32_bootstrap.py\": 1682861522.0600283, \"C:\\\\Users\\\\pierr\\\\AppData\\\\Local\\\\Programs\\\\Python\\\\Python311\\\\Lib\\\\site.py\": 1680645850.0, \"C:\\\\Users\\\\pierr\\\\AppData\\\\Local\\\\Programs\\\\Python\\\\Python311\\\\Lib\\\\warnings.py\": 1680645850.0, \"C:\\\\Users\\\\pierr\\\\AppData\\\\Local\\\\Programs\\\\Python\\\\Python311\\\\Lib\\\\importlib\\\\__init__.py\": 1680645850.0, \"C:\\\\Users\\\\pierr\\\\AppData\\\\Local\\\\Programs\\\\Python\\\\Python311\\\\Lib\\\\importlib\\\\machinery.py\": 1680645850.0, \"C:\\\\Users\\\\pierr\\\\AppData\\\\Local\\\\Programs\\\\Python\\\\Python311\\\\Lib\\\\importlib\\\\_abc.py\": 1680645850.0, \"C:\\\\Users\\\\pierr\\\\AppData\\\\Local\\\\Programs\\\\Python\\\\Python311\\\\Lib\\\\keyword.py\": 1680645850.0, \"C:\\\\Users\\\\pierr\\\\AppData\\\\Local\\\\Programs\\\\Python\\\\Python311\\\\Lib\\\\operator.py\": 1680645850.0, \"C:\\\\Users\\\\pierr\\\\AppData\\\\Local\\\\Programs\\\\Python\\\\Python311\\\\Lib\\\\reprlib.py\": 1680645850.0, \"C:\\\\Users\\\\pierr\\\\AppData\\\\Local\\\\Programs\\\\Python\\\\Python311\\\\Lib\\\\collections\\\\__init__.py\": 1680645850.0, \"C:\\\\Users\\\\pierr\\\\AppData\\\\Local\\\\Programs\\\\Python\\\\Python311\\\\Lib\\\\types.py\": 1680645850.0, \"C:\\\\Users\\\\pierr\\\\AppData\\\\Local\\\\Programs\\\\Python\\\\Python311\\\\Lib\\\\functools.py\": 1680645850.0, \"C:\\\\Users\\\\pierr\\\\AppData\\\\Local\\\\Programs\\\\Python\\\\Python311\\\\Lib\\\\contextlib.py\": 1680645850.0, \"C:\\\\Users\\\\pierr\\\\AppData\\\\Local\\\\Programs\\\\Python\\\\Python311\\\\Lib\\\\importlib\\\\util.py\": 1680645850.0, \"C:\\\\Users\\\\pierr\\\\AppData\\\\Local\\\\Programs\\\\Python\\\\Python311\\\\Lib\\\\runpy.py\": 1680645850.0, \"C:\\\\Users\\\\pierr\\\\AppData\\\\Local\\\\Programs\\\\Python\\\\Python311\\\\Lib\\\\enum.py\": 1680645850.0, \"C:\\\\Users\\\\pierr\\\\AppData\\\\Local\\\\Programs\\\\Python\\\\Python311\\\\Lib\\\\re\\\\_constants.py\": 1680645850.0, \"C:\\\\Users\\\\pierr\\\\AppData\\\\Local\\\\Programs\\\\Python\\\\Python311\\\\Lib\\\\re\\\\_parser.py\": 1680645850.0, \"C:\\\\Users\\\\pierr\\\\AppData\\\\Local\\\\Programs\\\\Python\\\\Python311\\\\Lib\\\\re\\\\_casefix.py\": 1680645850.0, \"C:\\\\Users\\\\pierr\\\\AppData\\\\Local\\\\Programs\\\\Python\\\\Python311\\\\Lib\\\\re\\\\_compiler.py\": 1680645850.0, \"C:\\\\Users\\\\pierr\\\\AppData\\\\Local\\\\Programs\\\\Python\\\\Python311\\\\Lib\\\\copyreg.py\": 1680645850.0, \"C:\\\\Users\\\\pierr\\\\AppData\\\\Local\\\\Programs\\\\Python\\\\Python311\\\\Lib\\\\re\\\\__init__.py\": 1680645850.0, \"C:\\\\Users\\\\pierr\\\\AppData\\\\Local\\\\Programs\\\\Python\\\\Python311\\\\Lib\\\\collections\\\\abc.py\": 1680645850.0, \"C:\\\\Users\\\\pierr\\\\AppData\\\\Local\\\\Programs\\\\Python\\\\Python311\\\\Lib\\\\typing.py\": 1680645850.0, \"C:\\\\Users\\\\pierr\\\\AppData\\\\Local\\\\Programs\\\\Python\\\\Python311\\\\Lib\\\\site-packages\\\\ipykernel\\\\_version.py\": 1682861544.2266896, \"C:\\\\Users\\\\pierr\\\\AppData\\\\Local\\\\Programs\\\\Python\\\\Python311\\\\Lib\\\\json\\\\scanner.py\": 1680645850.0, \"C:\\\\Users\\\\pierr\\\\AppData\\\\Local\\\\Programs\\\\Python\\\\Python311\\\\Lib\\\\json\\\\decoder.py\": 1680645850.0, \"C:\\\\Users\\\\pierr\\\\AppData\\\\Local\\\\Programs\\\\Python\\\\Python311\\\\Lib\\\\json\\\\encoder.py\": 1680645850.0, \"C:\\\\Users\\\\pierr\\\\AppData\\\\Local\\\\Programs\\\\Python\\\\Python311\\\\Lib\\\\json\\\\__init__.py\": 1680645850.0, \"C:\\\\Users\\\\pierr\\\\AppData\\\\Local\\\\Programs\\\\Python\\\\Python311\\\\Lib\\\\locale.py\": 1680645850.0, \"C:\\\\Users\\\\pierr\\\\AppData\\\\Local\\\\Programs\\\\Python\\\\Python311\\\\Lib\\\\signal.py\": 1680645850.0, \"C:\\\\Users\\\\pierr\\\\AppData\\\\Local\\\\Programs\\\\Python\\\\Python311\\\\Lib\\\\_weakrefset.py\": 1680645850.0, \"C:\\\\Users\\\\pierr\\\\AppData\\\\Local\\\\Programs\\\\Python\\\\Python311\\\\Lib\\\\threading.py\": 1680645850.0, \"C:\\\\Users\\\\pierr\\\\AppData\\\\Local\\\\Programs\\\\Python\\\\Python311\\\\Lib\\\\subprocess.py\": 1680645850.0, \"C:\\\\Users\\\\pierr\\\\AppData\\\\Local\\\\Programs\\\\Python\\\\Python311\\\\Lib\\\\site-packages\\\\jupyter_client\\\\_version.py\": 1682861540.7193544, \"C:\\\\Users\\\\pierr\\\\AppData\\\\Local\\\\Programs\\\\Python\\\\Python311\\\\Lib\\\\platform.py\": 1680645850.0, \"C:\\\\Users\\\\pierr\\\\AppData\\\\Local\\\\Programs\\\\Python\\\\Python311\\\\Lib\\\\site-packages\\\\zmq\\\\backend\\\\select.py\": 1682861527.5214193, \"C:\\\\Users\\\\pierr\\\\AppData\\\\Local\\\\Programs\\\\Python\\\\Python311\\\\Lib\\\\site-packages\\\\zmq\\\\error.py\": 1682861527.514893, \"C:\\\\Users\\\\pierr\\\\AppData\\\\Local\\\\Programs\\\\Python\\\\Python311\\\\Lib\\\\site-packages\\\\zmq\\\\backend\\\\cython\\\\context.cp311-win_amd64.pyd\": 1682861527.5284605, \"C:\\\\Users\\\\pierr\\\\AppData\\\\Local\\\\Programs\\\\Python\\\\Python311\\\\Lib\\\\weakref.py\": 1680645850.0, \"C:\\\\Users\\\\pierr\\\\AppData\\\\Local\\\\Programs\\\\Python\\\\Python311\\\\Lib\\\\site-packages\\\\zmq\\\\backend\\\\cython\\\\message.cp311-win_amd64.pyd\": 1682861527.5314581, \"C:\\\\Users\\\\pierr\\\\AppData\\\\Local\\\\Programs\\\\Python\\\\Python311\\\\Lib\\\\copy.py\": 1680645850.0, \"C:\\\\Users\\\\pierr\\\\AppData\\\\Local\\\\Programs\\\\Python\\\\Python311\\\\Lib\\\\bisect.py\": 1680645850.0, \"C:\\\\Users\\\\pierr\\\\AppData\\\\Local\\\\Programs\\\\Python\\\\Python311\\\\Lib\\\\random.py\": 1680645850.0, \"C:\\\\Users\\\\pierr\\\\AppData\\\\Local\\\\Programs\\\\Python\\\\Python311\\\\Lib\\\\struct.py\": 1680645850.0, \"C:\\\\Users\\\\pierr\\\\AppData\\\\Local\\\\Programs\\\\Python\\\\Python311\\\\Lib\\\\_compat_pickle.py\": 1680645850.0, \"C:\\\\Users\\\\pierr\\\\AppData\\\\Local\\\\Programs\\\\Python\\\\Python311\\\\Lib\\\\pickle.py\": 1680645850.0, \"C:\\\\Users\\\\pierr\\\\AppData\\\\Local\\\\Programs\\\\Python\\\\Python311\\\\Lib\\\\site-packages\\\\zmq\\\\constants.py\": 1682861527.514893, \"C:\\\\Users\\\\pierr\\\\AppData\\\\Local\\\\Programs\\\\Python\\\\Python311\\\\Lib\\\\site-packages\\\\zmq\\\\backend\\\\cython\\\\socket.cp311-win_amd64.pyd\": 1682861527.5324576, \"C:\\\\Users\\\\pierr\\\\AppData\\\\Local\\\\Programs\\\\Python\\\\Python311\\\\Lib\\\\site-packages\\\\zmq\\\\backend\\\\cython\\\\_device.cp311-win_amd64.pyd\": 1682861527.5350263, \"C:\\\\Users\\\\pierr\\\\AppData\\\\Local\\\\Programs\\\\Python\\\\Python311\\\\Lib\\\\site-packages\\\\zmq\\\\backend\\\\cython\\\\_poll.cp311-win_amd64.pyd\": 1682861527.5350263, \"C:\\\\Users\\\\pierr\\\\AppData\\\\Local\\\\Programs\\\\Python\\\\Python311\\\\Lib\\\\site-packages\\\\zmq\\\\backend\\\\cython\\\\_proxy_steerable.cp311-win_amd64.pyd\": 1682861527.5360327, \"C:\\\\Users\\\\pierr\\\\AppData\\\\Local\\\\Programs\\\\Python\\\\Python311\\\\Lib\\\\site-packages\\\\zmq\\\\backend\\\\cython\\\\_version.cp311-win_amd64.pyd\": 1682861527.5370386, \"C:\\\\Users\\\\pierr\\\\AppData\\\\Local\\\\Programs\\\\Python\\\\Python311\\\\Lib\\\\site-packages\\\\zmq\\\\backend\\\\cython\\\\error.cp311-win_amd64.pyd\": 1682861527.530457, \"C:\\\\Users\\\\pierr\\\\AppData\\\\Local\\\\Programs\\\\Python\\\\Python311\\\\Lib\\\\site-packages\\\\zmq\\\\backend\\\\cython\\\\utils.cp311-win_amd64.pyd\": 1682861527.5334578, \"C:\\\\Users\\\\pierr\\\\AppData\\\\Local\\\\Programs\\\\Python\\\\Python311\\\\Lib\\\\site-packages\\\\zmq\\\\backend\\\\cython\\\\__init__.py\": 1682861527.5370386, \"C:\\\\Users\\\\pierr\\\\AppData\\\\Local\\\\Programs\\\\Python\\\\Python311\\\\Lib\\\\site-packages\\\\zmq\\\\backend\\\\__init__.py\": 1682861527.52242, \"C:\\\\Users\\\\pierr\\\\AppData\\\\Local\\\\Programs\\\\Python\\\\Python311\\\\Lib\\\\site-packages\\\\zmq\\\\utils\\\\__init__.py\": 1682861527.5811753, \"C:\\\\Users\\\\pierr\\\\AppData\\\\Local\\\\Programs\\\\Python\\\\Python311\\\\Lib\\\\site-packages\\\\zmq\\\\utils\\\\interop.py\": 1682861527.5771737, \"C:\\\\Users\\\\pierr\\\\AppData\\\\Local\\\\Programs\\\\Python\\\\Python311\\\\Lib\\\\site-packages\\\\zmq\\\\sugar\\\\attrsettr.py\": 1682861527.55107, \"C:\\\\Users\\\\pierr\\\\AppData\\\\Local\\\\Programs\\\\Python\\\\Python311\\\\Lib\\\\site-packages\\\\zmq\\\\_typing.py\": 1682861527.5174193, \"C:\\\\Users\\\\pierr\\\\AppData\\\\Local\\\\Programs\\\\Python\\\\Python311\\\\Lib\\\\site-packages\\\\zmq\\\\utils\\\\jsonapi.py\": 1682861527.5781746, \"C:\\\\Users\\\\pierr\\\\AppData\\\\Local\\\\Programs\\\\Python\\\\Python311\\\\Lib\\\\site-packages\\\\zmq\\\\sugar\\\\poll.py\": 1682861527.55307, \"C:\\\\Users\\\\pierr\\\\AppData\\\\Local\\\\Programs\\\\Python\\\\Python311\\\\Lib\\\\site-packages\\\\zmq\\\\sugar\\\\socket.py\": 1682861527.55307, \"C:\\\\Users\\\\pierr\\\\AppData\\\\Local\\\\Programs\\\\Python\\\\Python311\\\\Lib\\\\site-packages\\\\zmq\\\\sugar\\\\context.py\": 1682861527.5520694, \"C:\\\\Users\\\\pierr\\\\AppData\\\\Local\\\\Programs\\\\Python\\\\Python311\\\\Lib\\\\site-packages\\\\zmq\\\\sugar\\\\frame.py\": 1682861527.5520694, \"C:\\\\Users\\\\pierr\\\\AppData\\\\Local\\\\Programs\\\\Python\\\\Python311\\\\Lib\\\\site-packages\\\\zmq\\\\sugar\\\\tracker.py\": 1682861527.5540698, \"C:\\\\Users\\\\pierr\\\\AppData\\\\Local\\\\Programs\\\\Python\\\\Python311\\\\Lib\\\\site-packages\\\\zmq\\\\sugar\\\\version.py\": 1682861527.5540698, \"C:\\\\Users\\\\pierr\\\\AppData\\\\Local\\\\Programs\\\\Python\\\\Python311\\\\Lib\\\\site-packages\\\\zmq\\\\sugar\\\\stopwatch.py\": 1682861527.5540698, \"C:\\\\Users\\\\pierr\\\\AppData\\\\Local\\\\Programs\\\\Python\\\\Python311\\\\Lib\\\\site-packages\\\\zmq\\\\sugar\\\\__init__.py\": 1682861527.555575, \"C:\\\\Users\\\\pierr\\\\AppData\\\\Local\\\\Programs\\\\Python\\\\Python311\\\\Lib\\\\site-packages\\\\zmq\\\\__init__.py\": 1682861527.5174193, \"C:\\\\Users\\\\pierr\\\\AppData\\\\Local\\\\Programs\\\\Python\\\\Python311\\\\Lib\\\\concurrent\\\\__init__.py\": 1680645850.0, \"C:\\\\Users\\\\pierr\\\\AppData\\\\Local\\\\Programs\\\\Python\\\\Python311\\\\Lib\\\\token.py\": 1680645850.0, \"C:\\\\Users\\\\pierr\\\\AppData\\\\Local\\\\Programs\\\\Python\\\\Python311\\\\Lib\\\\tokenize.py\": 1680645850.0, \"C:\\\\Users\\\\pierr\\\\AppData\\\\Local\\\\Programs\\\\Python\\\\Python311\\\\Lib\\\\linecache.py\": 1680645850.0, \"C:\\\\Users\\\\pierr\\\\AppData\\\\Local\\\\Programs\\\\Python\\\\Python311\\\\Lib\\\\textwrap.py\": 1680645850.0, \"C:\\\\Users\\\\pierr\\\\AppData\\\\Local\\\\Programs\\\\Python\\\\Python311\\\\Lib\\\\traceback.py\": 1680645850.0, \"C:\\\\Users\\\\pierr\\\\AppData\\\\Local\\\\Programs\\\\Python\\\\Python311\\\\Lib\\\\string.py\": 1680645850.0, \"C:\\\\Users\\\\pierr\\\\AppData\\\\Local\\\\Programs\\\\Python\\\\Python311\\\\Lib\\\\logging\\\\__init__.py\": 1680645850.0, \"C:\\\\Users\\\\pierr\\\\AppData\\\\Local\\\\Programs\\\\Python\\\\Python311\\\\Lib\\\\concurrent\\\\futures\\\\_base.py\": 1680645850.0, \"C:\\\\Users\\\\pierr\\\\AppData\\\\Local\\\\Programs\\\\Python\\\\Python311\\\\Lib\\\\concurrent\\\\futures\\\\__init__.py\": 1680645850.0, \"C:\\\\Users\\\\pierr\\\\AppData\\\\Local\\\\Programs\\\\Python\\\\Python311\\\\Lib\\\\heapq.py\": 1680645850.0, \"C:\\\\Users\\\\pierr\\\\AppData\\\\Local\\\\Programs\\\\Python\\\\Python311\\\\DLLs\\\\_socket.pyd\": 1680645876.0, \"C:\\\\Users\\\\pierr\\\\AppData\\\\Local\\\\Programs\\\\Python\\\\Python311\\\\DLLs\\\\select.pyd\": 1680645876.0, \"C:\\\\Users\\\\pierr\\\\AppData\\\\Local\\\\Programs\\\\Python\\\\Python311\\\\Lib\\\\selectors.py\": 1680645850.0, \"C:\\\\Users\\\\pierr\\\\AppData\\\\Local\\\\Programs\\\\Python\\\\Python311\\\\Lib\\\\socket.py\": 1680645850.0, \"C:\\\\Users\\\\pierr\\\\AppData\\\\Local\\\\Programs\\\\Python\\\\Python311\\\\DLLs\\\\_ssl.pyd\": 1680645876.0, \"C:\\\\Users\\\\pierr\\\\AppData\\\\Local\\\\Programs\\\\Python\\\\Python311\\\\Lib\\\\base64.py\": 1680645850.0, \"C:\\\\Users\\\\pierr\\\\AppData\\\\Local\\\\Programs\\\\Python\\\\Python311\\\\Lib\\\\ssl.py\": 1680645850.0, \"C:\\\\Users\\\\pierr\\\\AppData\\\\Local\\\\Programs\\\\Python\\\\Python311\\\\Lib\\\\asyncio\\\\constants.py\": 1680645850.0, \"C:\\\\Users\\\\pierr\\\\AppData\\\\Local\\\\Programs\\\\Python\\\\Python311\\\\Lib\\\\ast.py\": 1680645850.0, \"C:\\\\Users\\\\pierr\\\\AppData\\\\Local\\\\Programs\\\\Python\\\\Python311\\\\Lib\\\\opcode.py\": 1680645850.0, \"C:\\\\Users\\\\pierr\\\\AppData\\\\Local\\\\Programs\\\\Python\\\\Python311\\\\Lib\\\\dis.py\": 1680645850.0, \"C:\\\\Users\\\\pierr\\\\AppData\\\\Local\\\\Programs\\\\Python\\\\Python311\\\\Lib\\\\inspect.py\": 1680645850.0, \"C:\\\\Users\\\\pierr\\\\AppData\\\\Local\\\\Programs\\\\Python\\\\Python311\\\\Lib\\\\asyncio\\\\coroutines.py\": 1680645850.0, \"C:\\\\Users\\\\pierr\\\\AppData\\\\Local\\\\Programs\\\\Python\\\\Python311\\\\Lib\\\\contextvars.py\": 1680645850.0, \"C:\\\\Users\\\\pierr\\\\AppData\\\\Local\\\\Programs\\\\Python\\\\Python311\\\\Lib\\\\asyncio\\\\format_helpers.py\": 1680645850.0, \"C:\\\\Users\\\\pierr\\\\AppData\\\\Local\\\\Programs\\\\Python\\\\Python311\\\\Lib\\\\asyncio\\\\base_futures.py\": 1680645850.0, \"C:\\\\Users\\\\pierr\\\\AppData\\\\Local\\\\Programs\\\\Python\\\\Python311\\\\Lib\\\\asyncio\\\\exceptions.py\": 1680645850.0, \"C:\\\\Users\\\\pierr\\\\AppData\\\\Local\\\\Programs\\\\Python\\\\Python311\\\\Lib\\\\asyncio\\\\base_tasks.py\": 1680645850.0, \"C:\\\\Users\\\\pierr\\\\AppData\\\\Local\\\\Programs\\\\Python\\\\Python311\\\\DLLs\\\\_asyncio.pyd\": 1680645876.0, \"C:\\\\Users\\\\pierr\\\\AppData\\\\Local\\\\Programs\\\\Python\\\\Python311\\\\Lib\\\\asyncio\\\\events.py\": 1680645850.0, \"C:\\\\Users\\\\pierr\\\\AppData\\\\Local\\\\Programs\\\\Python\\\\Python311\\\\Lib\\\\asyncio\\\\futures.py\": 1680645850.0, \"C:\\\\Users\\\\pierr\\\\AppData\\\\Local\\\\Programs\\\\Python\\\\Python311\\\\Lib\\\\asyncio\\\\protocols.py\": 1680645850.0, \"C:\\\\Users\\\\pierr\\\\AppData\\\\Local\\\\Programs\\\\Python\\\\Python311\\\\Lib\\\\asyncio\\\\transports.py\": 1680645850.0, \"C:\\\\Users\\\\pierr\\\\AppData\\\\Local\\\\Programs\\\\Python\\\\Python311\\\\Lib\\\\asyncio\\\\log.py\": 1680645850.0, \"C:\\\\Users\\\\pierr\\\\AppData\\\\Local\\\\Programs\\\\Python\\\\Python311\\\\Lib\\\\asyncio\\\\sslproto.py\": 1680645850.0, \"C:\\\\Users\\\\pierr\\\\AppData\\\\Local\\\\Programs\\\\Python\\\\Python311\\\\Lib\\\\asyncio\\\\mixins.py\": 1680645850.0, \"C:\\\\Users\\\\pierr\\\\AppData\\\\Local\\\\Programs\\\\Python\\\\Python311\\\\Lib\\\\asyncio\\\\tasks.py\": 1680645850.0, \"C:\\\\Users\\\\pierr\\\\AppData\\\\Local\\\\Programs\\\\Python\\\\Python311\\\\Lib\\\\asyncio\\\\locks.py\": 1680645850.0, \"C:\\\\Users\\\\pierr\\\\AppData\\\\Local\\\\Programs\\\\Python\\\\Python311\\\\Lib\\\\asyncio\\\\staggered.py\": 1680645850.0, \"C:\\\\Users\\\\pierr\\\\AppData\\\\Local\\\\Programs\\\\Python\\\\Python311\\\\Lib\\\\asyncio\\\\trsock.py\": 1680645850.0, \"C:\\\\Users\\\\pierr\\\\AppData\\\\Local\\\\Programs\\\\Python\\\\Python311\\\\Lib\\\\asyncio\\\\base_events.py\": 1680645850.0, \"C:\\\\Users\\\\pierr\\\\AppData\\\\Local\\\\Programs\\\\Python\\\\Python311\\\\Lib\\\\asyncio\\\\runners.py\": 1680645850.0, \"C:\\\\Users\\\\pierr\\\\AppData\\\\Local\\\\Programs\\\\Python\\\\Python311\\\\Lib\\\\asyncio\\\\queues.py\": 1680645850.0, \"C:\\\\Users\\\\pierr\\\\AppData\\\\Local\\\\Programs\\\\Python\\\\Python311\\\\Lib\\\\asyncio\\\\streams.py\": 1680645850.0, \"C:\\\\Users\\\\pierr\\\\AppData\\\\Local\\\\Programs\\\\Python\\\\Python311\\\\Lib\\\\asyncio\\\\subprocess.py\": 1680645850.0, \"C:\\\\Users\\\\pierr\\\\AppData\\\\Local\\\\Programs\\\\Python\\\\Python311\\\\Lib\\\\asyncio\\\\taskgroups.py\": 1680645850.0, \"C:\\\\Users\\\\pierr\\\\AppData\\\\Local\\\\Programs\\\\Python\\\\Python311\\\\Lib\\\\asyncio\\\\timeouts.py\": 1680645850.0, \"C:\\\\Users\\\\pierr\\\\AppData\\\\Local\\\\Programs\\\\Python\\\\Python311\\\\Lib\\\\asyncio\\\\threads.py\": 1680645850.0, \"C:\\\\Users\\\\pierr\\\\AppData\\\\Local\\\\Programs\\\\Python\\\\Python311\\\\DLLs\\\\_overlapped.pyd\": 1680645876.0, \"C:\\\\Users\\\\pierr\\\\AppData\\\\Local\\\\Programs\\\\Python\\\\Python311\\\\Lib\\\\asyncio\\\\base_subprocess.py\": 1680645850.0, \"C:\\\\Users\\\\pierr\\\\AppData\\\\Local\\\\Programs\\\\Python\\\\Python311\\\\Lib\\\\asyncio\\\\proactor_events.py\": 1680645850.0, \"C:\\\\Users\\\\pierr\\\\AppData\\\\Local\\\\Programs\\\\Python\\\\Python311\\\\Lib\\\\asyncio\\\\selector_events.py\": 1680645850.0, \"C:\\\\Users\\\\pierr\\\\AppData\\\\Local\\\\Programs\\\\Python\\\\Python311\\\\Lib\\\\posixpath.py\": 1680645850.0, \"C:\\\\Users\\\\pierr\\\\AppData\\\\Local\\\\Programs\\\\Python\\\\Python311\\\\Lib\\\\fnmatch.py\": 1680645850.0, \"C:\\\\Users\\\\pierr\\\\AppData\\\\Local\\\\Programs\\\\Python\\\\Python311\\\\Lib\\\\_compression.py\": 1680645850.0, \"C:\\\\Users\\\\pierr\\\\AppData\\\\Local\\\\Programs\\\\Python\\\\Python311\\\\DLLs\\\\_bz2.pyd\": 1680645876.0, \"C:\\\\Users\\\\pierr\\\\AppData\\\\Local\\\\Programs\\\\Python\\\\Python311\\\\Lib\\\\bz2.py\": 1680645850.0, \"C:\\\\Users\\\\pierr\\\\AppData\\\\Local\\\\Programs\\\\Python\\\\Python311\\\\DLLs\\\\_lzma.pyd\": 1680645876.0, \"C:\\\\Users\\\\pierr\\\\AppData\\\\Local\\\\Programs\\\\Python\\\\Python311\\\\Lib\\\\lzma.py\": 1680645850.0, \"C:\\\\Users\\\\pierr\\\\AppData\\\\Local\\\\Programs\\\\Python\\\\Python311\\\\Lib\\\\shutil.py\": 1680645850.0, \"C:\\\\Users\\\\pierr\\\\AppData\\\\Local\\\\Programs\\\\Python\\\\Python311\\\\Lib\\\\tempfile.py\": 1680645850.0, \"C:\\\\Users\\\\pierr\\\\AppData\\\\Local\\\\Programs\\\\Python\\\\Python311\\\\Lib\\\\asyncio\\\\windows_utils.py\": 1680645850.0, \"C:\\\\Users\\\\pierr\\\\AppData\\\\Local\\\\Programs\\\\Python\\\\Python311\\\\Lib\\\\asyncio\\\\windows_events.py\": 1680645850.0, \"C:\\\\Users\\\\pierr\\\\AppData\\\\Local\\\\Programs\\\\Python\\\\Python311\\\\Lib\\\\asyncio\\\\__init__.py\": 1680645850.0, \"C:\\\\Users\\\\pierr\\\\AppData\\\\Local\\\\Programs\\\\Python\\\\Python311\\\\Lib\\\\site-packages\\\\zmq\\\\_future.py\": 1682861527.5164096, \"C:\\\\Users\\\\pierr\\\\AppData\\\\Local\\\\Programs\\\\Python\\\\Python311\\\\Lib\\\\site-packages\\\\zmq\\\\asyncio.py\": 1682861527.5133867, \"C:\\\\Users\\\\pierr\\\\AppData\\\\Local\\\\Programs\\\\Python\\\\Python311\\\\Lib\\\\urllib\\\\__init__.py\": 1680645850.0, \"C:\\\\Users\\\\pierr\\\\AppData\\\\Local\\\\Programs\\\\Python\\\\Python311\\\\Lib\\\\urllib\\\\parse.py\": 1680645850.0, \"C:\\\\Users\\\\pierr\\\\AppData\\\\Local\\\\Programs\\\\Python\\\\Python311\\\\Lib\\\\pathlib.py\": 1680645850.0, \"C:\\\\Users\\\\pierr\\\\AppData\\\\Local\\\\Programs\\\\Python\\\\Python311\\\\Lib\\\\site-packages\\\\traitlets\\\\utils\\\\__init__.py\": 1682861526.234126, \"C:\\\\Users\\\\pierr\\\\AppData\\\\Local\\\\Programs\\\\Python\\\\Python311\\\\Lib\\\\site-packages\\\\traitlets\\\\utils\\\\bunch.py\": 1682861526.234126, \"C:\\\\Users\\\\pierr\\\\AppData\\\\Local\\\\Programs\\\\Python\\\\Python311\\\\Lib\\\\site-packages\\\\traitlets\\\\utils\\\\descriptions.py\": 1682861526.2351265, \"C:\\\\Users\\\\pierr\\\\AppData\\\\Local\\\\Programs\\\\Python\\\\Python311\\\\Lib\\\\site-packages\\\\traitlets\\\\utils\\\\getargspec.py\": 1682861526.2361262, \"C:\\\\Users\\\\pierr\\\\AppData\\\\Local\\\\Programs\\\\Python\\\\Python311\\\\Lib\\\\site-packages\\\\traitlets\\\\utils\\\\importstring.py\": 1682861526.2366288, \"C:\\\\Users\\\\pierr\\\\AppData\\\\Local\\\\Programs\\\\Python\\\\Python311\\\\Lib\\\\site-packages\\\\traitlets\\\\utils\\\\sentinel.py\": 1682861526.2376354, \"C:\\\\Users\\\\pierr\\\\AppData\\\\Local\\\\Programs\\\\Python\\\\Python311\\\\Lib\\\\site-packages\\\\traitlets\\\\traitlets.py\": 1682861526.224104, \"C:\\\\Users\\\\pierr\\\\AppData\\\\Local\\\\Programs\\\\Python\\\\Python311\\\\Lib\\\\site-packages\\\\traitlets\\\\_version.py\": 1682861526.2220964, \"C:\\\\Users\\\\pierr\\\\AppData\\\\Local\\\\Programs\\\\Python\\\\Python311\\\\Lib\\\\site-packages\\\\traitlets\\\\utils\\\\decorators.py\": 1682861526.2351265, \"C:\\\\Users\\\\pierr\\\\AppData\\\\Local\\\\Programs\\\\Python\\\\Python311\\\\Lib\\\\site-packages\\\\traitlets\\\\__init__.py\": 1682861526.2215934, \"C:\\\\Users\\\\pierr\\\\AppData\\\\Local\\\\Programs\\\\Python\\\\Python311\\\\DLLs\\\\_queue.pyd\": 1680645876.0, \"C:\\\\Users\\\\pierr\\\\AppData\\\\Local\\\\Programs\\\\Python\\\\Python311\\\\Lib\\\\queue.py\": 1680645850.0, \"C:\\\\Users\\\\pierr\\\\AppData\\\\Local\\\\Programs\\\\Python\\\\Python311\\\\Lib\\\\site-packages\\\\jupyter_core\\\\version.py\": 1682861537.4431245, \"C:\\\\Users\\\\pierr\\\\AppData\\\\Local\\\\Programs\\\\Python\\\\Python311\\\\Lib\\\\site-packages\\\\jupyter_core\\\\__init__.py\": 1682861537.4391248, \"C:\\\\Users\\\\pierr\\\\AppData\\\\Local\\\\Programs\\\\Python\\\\Python311\\\\Lib\\\\site-packages\\\\jupyter_core\\\\utils\\\\__init__.py\": 1682861537.4566617, \"C:\\\\Users\\\\pierr\\\\AppData\\\\Local\\\\Programs\\\\Python\\\\Python311\\\\Lib\\\\site-packages\\\\jupyter_client\\\\channelsabc.py\": 1682861540.7213552, \"C:\\\\Users\\\\pierr\\\\AppData\\\\Local\\\\Programs\\\\Python\\\\Python311\\\\DLLs\\\\_hashlib.pyd\": 1680645876.0, \"C:\\\\Users\\\\pierr\\\\AppData\\\\Local\\\\Programs\\\\Python\\\\Python311\\\\Lib\\\\hashlib.py\": 1680645850.0, \"C:\\\\Users\\\\pierr\\\\AppData\\\\Local\\\\Programs\\\\Python\\\\Python311\\\\Lib\\\\hmac.py\": 1680645850.0, \"C:\\\\Users\\\\pierr\\\\AppData\\\\Local\\\\Programs\\\\Python\\\\Python311\\\\Lib\\\\dataclasses.py\": 1680645850.0, \"C:\\\\Users\\\\pierr\\\\AppData\\\\Local\\\\Programs\\\\Python\\\\Python311\\\\Lib\\\\pprint.py\": 1680645850.0, \"C:\\\\Users\\\\pierr\\\\AppData\\\\Local\\\\Programs\\\\Python\\\\Python311\\\\Lib\\\\datetime.py\": 1680645850.0, \"C:\\\\Users\\\\pierr\\\\AppData\\\\Local\\\\Programs\\\\Python\\\\Python311\\\\Lib\\\\site-packages\\\\tornado\\\\__init__.py\": 1682861526.5064309, \"C:\\\\Users\\\\pierr\\\\AppData\\\\Local\\\\Programs\\\\Python\\\\Python311\\\\Lib\\\\numbers.py\": 1680645850.0, \"C:\\\\Users\\\\pierr\\\\AppData\\\\Local\\\\Programs\\\\Python\\\\Python311\\\\Lib\\\\logging\\\\handlers.py\": 1680645850.0, \"C:\\\\Users\\\\pierr\\\\AppData\\\\Local\\\\Programs\\\\Python\\\\Python311\\\\Lib\\\\html\\\\entities.py\": 1680645850.0, \"C:\\\\Users\\\\pierr\\\\AppData\\\\Local\\\\Programs\\\\Python\\\\Python311\\\\Lib\\\\html\\\\__init__.py\": 1680645850.0, \"C:\\\\Users\\\\pierr\\\\AppData\\\\Local\\\\Programs\\\\Python\\\\Python311\\\\Lib\\\\site-packages\\\\tornado\\\\speedups.pyd\": 1682861526.5206332, \"C:\\\\Users\\\\pierr\\\\AppData\\\\Local\\\\Programs\\\\Python\\\\Python311\\\\Lib\\\\site-packages\\\\tornado\\\\util.py\": 1682861526.5236337, \"C:\\\\Users\\\\pierr\\\\AppData\\\\Local\\\\Programs\\\\Python\\\\Python311\\\\Lib\\\\site-packages\\\\tornado\\\\escape.py\": 1682861526.5104458, \"C:\\\\Users\\\\pierr\\\\AppData\\\\Local\\\\Programs\\\\Python\\\\Python311\\\\Lib\\\\site-packages\\\\colorama\\\\ansi.py\": 1682861536.022155, \"C:\\\\Users\\\\pierr\\\\AppData\\\\Local\\\\Programs\\\\Python\\\\Python311\\\\DLLs\\\\_ctypes.pyd\": 1680645876.0, \"C:\\\\Users\\\\pierr\\\\AppData\\\\Local\\\\Programs\\\\Python\\\\Python311\\\\Lib\\\\ctypes\\\\_endian.py\": 1680645850.0, \"C:\\\\Users\\\\pierr\\\\AppData\\\\Local\\\\Programs\\\\Python\\\\Python311\\\\Lib\\\\ctypes\\\\__init__.py\": 1680645850.0, \"C:\\\\Users\\\\pierr\\\\AppData\\\\Local\\\\Programs\\\\Python\\\\Python311\\\\Lib\\\\ctypes\\\\wintypes.py\": 1680645850.0, \"C:\\\\Users\\\\pierr\\\\AppData\\\\Local\\\\Programs\\\\Python\\\\Python311\\\\Lib\\\\site-packages\\\\colorama\\\\win32.py\": 1682861536.0236614, \"C:\\\\Users\\\\pierr\\\\AppData\\\\Local\\\\Programs\\\\Python\\\\Python311\\\\Lib\\\\site-packages\\\\colorama\\\\winterm.py\": 1682861536.024669, \"C:\\\\Users\\\\pierr\\\\AppData\\\\Local\\\\Programs\\\\Python\\\\Python311\\\\Lib\\\\site-packages\\\\colorama\\\\ansitowin32.py\": 1682861536.0231555, \"C:\\\\Users\\\\pierr\\\\AppData\\\\Local\\\\Programs\\\\Python\\\\Python311\\\\Lib\\\\site-packages\\\\colorama\\\\initialise.py\": 1682861536.0236614, \"C:\\\\Users\\\\pierr\\\\AppData\\\\Local\\\\Programs\\\\Python\\\\Python311\\\\Lib\\\\site-packages\\\\colorama\\\\__init__.py\": 1682861536.022155, \"C:\\\\Users\\\\pierr\\\\AppData\\\\Local\\\\Programs\\\\Python\\\\Python311\\\\Lib\\\\site-packages\\\\tornado\\\\log.py\": 1682861526.516449, \"C:\\\\Users\\\\pierr\\\\AppData\\\\Local\\\\Programs\\\\Python\\\\Python311\\\\Lib\\\\site-packages\\\\tornado\\\\concurrent.py\": 1682861526.5094461, \"C:\\\\Users\\\\pierr\\\\AppData\\\\Local\\\\Programs\\\\Python\\\\Python311\\\\Lib\\\\site-packages\\\\tornado\\\\ioloop.py\": 1682861526.5144463, \"C:\\\\Users\\\\pierr\\\\AppData\\\\Local\\\\Programs\\\\Python\\\\Python311\\\\Lib\\\\socketserver.py\": 1680645850.0, \"C:\\\\Users\\\\pierr\\\\AppData\\\\Local\\\\Programs\\\\Python\\\\Python311\\\\Lib\\\\logging\\\\config.py\": 1680645850.0, \"C:\\\\Users\\\\pierr\\\\AppData\\\\Local\\\\Programs\\\\Python\\\\Python311\\\\Lib\\\\site-packages\\\\traitlets\\\\utils\\\\text.py\": 1682861526.2376354, \"C:\\\\Users\\\\pierr\\\\AppData\\\\Local\\\\Programs\\\\Python\\\\Python311\\\\Lib\\\\gettext.py\": 1680645850.0, \"C:\\\\Users\\\\pierr\\\\AppData\\\\Local\\\\Programs\\\\Python\\\\Python311\\\\Lib\\\\argparse.py\": 1680645850.0, \"C:\\\\Users\\\\pierr\\\\AppData\\\\Local\\\\Programs\\\\Python\\\\Python311\\\\Lib\\\\site-packages\\\\traitlets\\\\config\\\\loader.py\": 1682861526.2266042, \"C:\\\\Users\\\\pierr\\\\AppData\\\\Local\\\\Programs\\\\Python\\\\Python311\\\\Lib\\\\site-packages\\\\traitlets\\\\config\\\\configurable.py\": 1682861526.2266042, \"C:\\\\Users\\\\pierr\\\\AppData\\\\Local\\\\Programs\\\\Python\\\\Python311\\\\Lib\\\\site-packages\\\\traitlets\\\\utils\\\\nested_update.py\": 1682861526.2366288, \"C:\\\\Users\\\\pierr\\\\AppData\\\\Local\\\\Programs\\\\Python\\\\Python311\\\\Lib\\\\site-packages\\\\traitlets\\\\config\\\\application.py\": 1682861526.2251017, \"C:\\\\Users\\\\pierr\\\\AppData\\\\Local\\\\Programs\\\\Python\\\\Python311\\\\Lib\\\\site-packages\\\\traitlets\\\\config\\\\__init__.py\": 1682861526.2251017, \"C:\\\\Users\\\\pierr\\\\AppData\\\\Local\\\\Programs\\\\Python\\\\Python311\\\\Lib\\\\site-packages\\\\traitlets\\\\log.py\": 1682861526.2220964, \"C:\\\\Users\\\\pierr\\\\AppData\\\\Local\\\\Programs\\\\Python\\\\Python311\\\\Lib\\\\site-packages\\\\zmq\\\\eventloop\\\\__init__.py\": 1682861527.544039, \"C:\\\\Users\\\\pierr\\\\AppData\\\\Local\\\\Programs\\\\Python\\\\Python311\\\\Lib\\\\site-packages\\\\zmq\\\\eventloop\\\\zmqstream.py\": 1682861527.5430393, \"C:\\\\Users\\\\pierr\\\\AppData\\\\Local\\\\Programs\\\\Python\\\\Python311\\\\Lib\\\\site-packages\\\\jupyter_client\\\\adapter.py\": 1682861540.720357, \"C:\\\\Users\\\\pierr\\\\AppData\\\\Local\\\\Programs\\\\Python\\\\Python311\\\\Lib\\\\site-packages\\\\dateutil\\\\_version.py\": 1682861537.2566645, \"C:\\\\Users\\\\pierr\\\\AppData\\\\Local\\\\Programs\\\\Python\\\\Python311\\\\Lib\\\\site-packages\\\\dateutil\\\\__init__.py\": 1682861537.2551453, \"C:\\\\Users\\\\pierr\\\\AppData\\\\Local\\\\Programs\\\\Python\\\\Python311\\\\Lib\\\\__future__.py\": 1680645850.0, \"C:\\\\Users\\\\pierr\\\\AppData\\\\Local\\\\Programs\\\\Python\\\\Python311\\\\Lib\\\\calendar.py\": 1680645850.0, \"C:\\\\Users\\\\pierr\\\\AppData\\\\Local\\\\Programs\\\\Python\\\\Python311\\\\Lib\\\\site-packages\\\\six.py\": 1682861527.3373213, \"C:\\\\Users\\\\pierr\\\\AppData\\\\Local\\\\Programs\\\\Python\\\\Python311\\\\DLLs\\\\_decimal.pyd\": 1680645876.0, \"C:\\\\Users\\\\pierr\\\\AppData\\\\Local\\\\Programs\\\\Python\\\\Python311\\\\Lib\\\\decimal.py\": 1680645850.0, \"C:\\\\Users\\\\pierr\\\\AppData\\\\Local\\\\Programs\\\\Python\\\\Python311\\\\Lib\\\\site-packages\\\\dateutil\\\\_common.py\": 1682861537.2566645, \"C:\\\\Users\\\\pierr\\\\AppData\\\\Local\\\\Programs\\\\Python\\\\Python311\\\\Lib\\\\site-packages\\\\dateutil\\\\relativedelta.py\": 1682861537.2576723, \"C:\\\\Users\\\\pierr\\\\AppData\\\\Local\\\\Programs\\\\Python\\\\Python311\\\\Lib\\\\site-packages\\\\dateutil\\\\tz\\\\_common.py\": 1682861537.2626793, \"C:\\\\Users\\\\pierr\\\\AppData\\\\Local\\\\Programs\\\\Python\\\\Python311\\\\Lib\\\\site-packages\\\\dateutil\\\\tz\\\\_factories.py\": 1682861537.2626793, \"C:\\\\Users\\\\pierr\\\\AppData\\\\Local\\\\Programs\\\\Python\\\\Python311\\\\Lib\\\\site-packages\\\\dateutil\\\\tz\\\\win.py\": 1682861537.2636788, \"C:\\\\Users\\\\pierr\\\\AppData\\\\Local\\\\Programs\\\\Python\\\\Python311\\\\Lib\\\\site-packages\\\\dateutil\\\\tz\\\\tz.py\": 1682861537.2636788, \"C:\\\\Users\\\\pierr\\\\AppData\\\\Local\\\\Programs\\\\Python\\\\Python311\\\\Lib\\\\site-packages\\\\dateutil\\\\tz\\\\__init__.py\": 1682861537.2616787, \"C:\\\\Users\\\\pierr\\\\AppData\\\\Local\\\\Programs\\\\Python\\\\Python311\\\\Lib\\\\site-packages\\\\dateutil\\\\parser\\\\_parser.py\": 1682861537.2606788, \"C:\\\\Users\\\\pierr\\\\AppData\\\\Local\\\\Programs\\\\Python\\\\Python311\\\\Lib\\\\site-packages\\\\dateutil\\\\parser\\\\isoparser.py\": 1682861537.2616787, \"C:\\\\Users\\\\pierr\\\\AppData\\\\Local\\\\Programs\\\\Python\\\\Python311\\\\Lib\\\\site-packages\\\\dateutil\\\\parser\\\\__init__.py\": 1682861537.259679, \"C:\\\\Users\\\\pierr\\\\AppData\\\\Local\\\\Programs\\\\Python\\\\Python311\\\\Lib\\\\_strptime.py\": 1680645850.0, \"C:\\\\Users\\\\pierr\\\\AppData\\\\Local\\\\Programs\\\\Python\\\\Python311\\\\Lib\\\\site-packages\\\\jupyter_client\\\\jsonutil.py\": 1682861540.7238681, \"C:\\\\Users\\\\pierr\\\\AppData\\\\Local\\\\Programs\\\\Python\\\\Python311\\\\Lib\\\\site-packages\\\\jupyter_client\\\\session.py\": 1682861540.730382, \"C:\\\\Users\\\\pierr\\\\AppData\\\\Local\\\\Programs\\\\Python\\\\Python311\\\\Lib\\\\site-packages\\\\jupyter_client\\\\channels.py\": 1682861540.720357, \"C:\\\\Users\\\\pierr\\\\AppData\\\\Local\\\\Programs\\\\Python\\\\Python311\\\\Lib\\\\getpass.py\": 1680645850.0, \"C:\\\\Users\\\\pierr\\\\AppData\\\\Local\\\\Programs\\\\Python\\\\Python311\\\\Lib\\\\site-packages\\\\jupyter_client\\\\clientabc.py\": 1682861540.7228608, \"C:\\\\Users\\\\pierr\\\\AppData\\\\Local\\\\Programs\\\\Python\\\\Python311\\\\Lib\\\\glob.py\": 1680645850.0, \"C:\\\\Users\\\\pierr\\\\AppData\\\\Local\\\\Programs\\\\Python\\\\Python311\\\\Lib\\\\site-packages\\\\platformdirs\\\\api.py\": 1682861533.0232763, \"C:\\\\Users\\\\pierr\\\\AppData\\\\Local\\\\Programs\\\\Python\\\\Python311\\\\Lib\\\\site-packages\\\\platformdirs\\\\version.py\": 1682861533.0253546, \"C:\\\\Users\\\\pierr\\\\AppData\\\\Local\\\\Programs\\\\Python\\\\Python311\\\\Lib\\\\site-packages\\\\platformdirs\\\\windows.py\": 1682861533.0253546, \"C:\\\\Users\\\\pierr\\\\AppData\\\\Local\\\\Programs\\\\Python\\\\Python311\\\\Lib\\\\site-packages\\\\platformdirs\\\\__init__.py\": 1682861533.0212746, \"C:\\\\Users\\\\pierr\\\\AppData\\\\Local\\\\Programs\\\\Python\\\\Python311\\\\Lib\\\\site-packages\\\\jupyter_core\\\\paths.py\": 1682861537.442124, \"C:\\\\Users\\\\pierr\\\\AppData\\\\Local\\\\Programs\\\\Python\\\\Python311\\\\Lib\\\\site-packages\\\\jupyter_client\\\\localinterfaces.py\": 1682861540.7263744, \"C:\\\\Users\\\\pierr\\\\AppData\\\\Local\\\\Programs\\\\Python\\\\Python311\\\\Lib\\\\site-packages\\\\jupyter_client\\\\utils.py\": 1682861540.7313817, \"C:\\\\Users\\\\pierr\\\\AppData\\\\Local\\\\Programs\\\\Python\\\\Python311\\\\Lib\\\\site-packages\\\\jupyter_client\\\\connect.py\": 1682861540.7228608, \"C:\\\\Users\\\\pierr\\\\AppData\\\\Local\\\\Programs\\\\Python\\\\Python311\\\\Lib\\\\site-packages\\\\jupyter_client\\\\client.py\": 1682861540.7213552, \"C:\\\\Users\\\\pierr\\\\AppData\\\\Local\\\\Programs\\\\Python\\\\Python311\\\\Lib\\\\site-packages\\\\jupyter_client\\\\asynchronous\\\\client.py\": 1682861540.732381, \"C:\\\\Users\\\\pierr\\\\AppData\\\\Local\\\\Programs\\\\Python\\\\Python311\\\\Lib\\\\site-packages\\\\jupyter_client\\\\asynchronous\\\\__init__.py\": 1682861540.732381, \"C:\\\\Users\\\\pierr\\\\AppData\\\\Local\\\\Programs\\\\Python\\\\Python311\\\\Lib\\\\site-packages\\\\jupyter_client\\\\blocking\\\\client.py\": 1682861540.733888, \"C:\\\\Users\\\\pierr\\\\AppData\\\\Local\\\\Programs\\\\Python\\\\Python311\\\\Lib\\\\site-packages\\\\jupyter_client\\\\blocking\\\\__init__.py\": 1682861540.7333817, \"C:\\\\Users\\\\pierr\\\\AppData\\\\Local\\\\Programs\\\\Python\\\\Python311\\\\Lib\\\\site-packages\\\\jupyter_client\\\\launcher.py\": 1682861540.7263744, \"C:\\\\Users\\\\pierr\\\\AppData\\\\Local\\\\Programs\\\\Python\\\\Python311\\\\DLLs\\\\_uuid.pyd\": 1680645876.0, \"C:\\\\Users\\\\pierr\\\\AppData\\\\Local\\\\Programs\\\\Python\\\\Python311\\\\Lib\\\\uuid.py\": 1680645850.0, \"C:\\\\Users\\\\pierr\\\\AppData\\\\Local\\\\Programs\\\\Python\\\\Python311\\\\Lib\\\\csv.py\": 1680645850.0, \"C:\\\\Users\\\\pierr\\\\AppData\\\\Local\\\\Programs\\\\Python\\\\Python311\\\\Lib\\\\email\\\\__init__.py\": 1680645850.0, \"C:\\\\Users\\\\pierr\\\\AppData\\\\Local\\\\Programs\\\\Python\\\\Python311\\\\Lib\\\\zipfile.py\": 1680645850.0, \"C:\\\\Users\\\\pierr\\\\AppData\\\\Local\\\\Programs\\\\Python\\\\Python311\\\\Lib\\\\quopri.py\": 1680645850.0, \"C:\\\\Users\\\\pierr\\\\AppData\\\\Local\\\\Programs\\\\Python\\\\Python311\\\\Lib\\\\email\\\\_parseaddr.py\": 1680645850.0, \"C:\\\\Users\\\\pierr\\\\AppData\\\\Local\\\\Programs\\\\Python\\\\Python311\\\\Lib\\\\email\\\\base64mime.py\": 1680645850.0, \"C:\\\\Users\\\\pierr\\\\AppData\\\\Local\\\\Programs\\\\Python\\\\Python311\\\\Lib\\\\email\\\\quoprimime.py\": 1680645850.0, \"C:\\\\Users\\\\pierr\\\\AppData\\\\Local\\\\Programs\\\\Python\\\\Python311\\\\Lib\\\\email\\\\errors.py\": 1680645850.0, \"C:\\\\Users\\\\pierr\\\\AppData\\\\Local\\\\Programs\\\\Python\\\\Python311\\\\Lib\\\\email\\\\encoders.py\": 1680645850.0, \"C:\\\\Users\\\\pierr\\\\AppData\\\\Local\\\\Programs\\\\Python\\\\Python311\\\\Lib\\\\email\\\\charset.py\": 1680645850.0, \"C:\\\\Users\\\\pierr\\\\AppData\\\\Local\\\\Programs\\\\Python\\\\Python311\\\\Lib\\\\email\\\\utils.py\": 1680645850.0, \"C:\\\\Users\\\\pierr\\\\AppData\\\\Local\\\\Programs\\\\Python\\\\Python311\\\\Lib\\\\email\\\\header.py\": 1680645850.0, \"C:\\\\Users\\\\pierr\\\\AppData\\\\Local\\\\Programs\\\\Python\\\\Python311\\\\Lib\\\\email\\\\_policybase.py\": 1680645850.0, \"C:\\\\Users\\\\pierr\\\\AppData\\\\Local\\\\Programs\\\\Python\\\\Python311\\\\Lib\\\\email\\\\_encoded_words.py\": 1680645850.0, \"C:\\\\Users\\\\pierr\\\\AppData\\\\Local\\\\Programs\\\\Python\\\\Python311\\\\Lib\\\\email\\\\iterators.py\": 1680645850.0, \"C:\\\\Users\\\\pierr\\\\AppData\\\\Local\\\\Programs\\\\Python\\\\Python311\\\\Lib\\\\email\\\\message.py\": 1680645850.0, \"C:\\\\Users\\\\pierr\\\\AppData\\\\Local\\\\Programs\\\\Python\\\\Python311\\\\Lib\\\\importlib\\\\metadata\\\\_functools.py\": 1680645850.0, \"C:\\\\Users\\\\pierr\\\\AppData\\\\Local\\\\Programs\\\\Python\\\\Python311\\\\Lib\\\\importlib\\\\metadata\\\\_text.py\": 1680645850.0, \"C:\\\\Users\\\\pierr\\\\AppData\\\\Local\\\\Programs\\\\Python\\\\Python311\\\\Lib\\\\importlib\\\\metadata\\\\_adapters.py\": 1680645850.0, \"C:\\\\Users\\\\pierr\\\\AppData\\\\Local\\\\Programs\\\\Python\\\\Python311\\\\Lib\\\\importlib\\\\metadata\\\\_meta.py\": 1680645850.0, \"C:\\\\Users\\\\pierr\\\\AppData\\\\Local\\\\Programs\\\\Python\\\\Python311\\\\Lib\\\\importlib\\\\metadata\\\\_collections.py\": 1680645850.0, \"C:\\\\Users\\\\pierr\\\\AppData\\\\Local\\\\Programs\\\\Python\\\\Python311\\\\Lib\\\\importlib\\\\metadata\\\\_itertools.py\": 1680645850.0, \"C:\\\\Users\\\\pierr\\\\AppData\\\\Local\\\\Programs\\\\Python\\\\Python311\\\\Lib\\\\importlib\\\\resources\\\\abc.py\": 1680645850.0, \"C:\\\\Users\\\\pierr\\\\AppData\\\\Local\\\\Programs\\\\Python\\\\Python311\\\\Lib\\\\importlib\\\\resources\\\\_adapters.py\": 1680645850.0, \"C:\\\\Users\\\\pierr\\\\AppData\\\\Local\\\\Programs\\\\Python\\\\Python311\\\\Lib\\\\importlib\\\\resources\\\\_common.py\": 1680645850.0, \"C:\\\\Users\\\\pierr\\\\AppData\\\\Local\\\\Programs\\\\Python\\\\Python311\\\\Lib\\\\importlib\\\\resources\\\\_legacy.py\": 1680645850.0, \"C:\\\\Users\\\\pierr\\\\AppData\\\\Local\\\\Programs\\\\Python\\\\Python311\\\\Lib\\\\importlib\\\\resources\\\\__init__.py\": 1680645850.0, \"C:\\\\Users\\\\pierr\\\\AppData\\\\Local\\\\Programs\\\\Python\\\\Python311\\\\Lib\\\\importlib\\\\abc.py\": 1680645850.0, \"C:\\\\Users\\\\pierr\\\\AppData\\\\Local\\\\Programs\\\\Python\\\\Python311\\\\Lib\\\\importlib\\\\metadata\\\\__init__.py\": 1680645850.0, \"C:\\\\Users\\\\pierr\\\\AppData\\\\Local\\\\Programs\\\\Python\\\\Python311\\\\Lib\\\\site-packages\\\\jupyter_client\\\\provisioning\\\\provisioner_base.py\": 1682861540.7374084, \"C:\\\\Users\\\\pierr\\\\AppData\\\\Local\\\\Programs\\\\Python\\\\Python311\\\\Lib\\\\site-packages\\\\jupyter_client\\\\provisioning\\\\factory.py\": 1682861540.7348955, \"C:\\\\Users\\\\pierr\\\\AppData\\\\Local\\\\Programs\\\\Python\\\\Python311\\\\Lib\\\\site-packages\\\\jupyter_client\\\\provisioning\\\\local_provisioner.py\": 1682861540.7364018, \"C:\\\\Users\\\\pierr\\\\AppData\\\\Local\\\\Programs\\\\Python\\\\Python311\\\\Lib\\\\site-packages\\\\jupyter_client\\\\provisioning\\\\__init__.py\": 1682861540.7348955, \"C:\\\\Users\\\\pierr\\\\AppData\\\\Local\\\\Programs\\\\Python\\\\Python311\\\\Lib\\\\site-packages\\\\jupyter_client\\\\kernelspec.py\": 1682861540.7248678, \"C:\\\\Users\\\\pierr\\\\AppData\\\\Local\\\\Programs\\\\Python\\\\Python311\\\\Lib\\\\site-packages\\\\jupyter_client\\\\managerabc.py\": 1682861540.727382, \"C:\\\\Users\\\\pierr\\\\AppData\\\\Local\\\\Programs\\\\Python\\\\Python311\\\\Lib\\\\site-packages\\\\jupyter_client\\\\manager.py\": 1682861540.727382, \"C:\\\\Users\\\\pierr\\\\AppData\\\\Local\\\\Programs\\\\Python\\\\Python311\\\\Lib\\\\site-packages\\\\jupyter_client\\\\multikernelmanager.py\": 1682861540.7283812, \"C:\\\\Users\\\\pierr\\\\AppData\\\\Local\\\\Programs\\\\Python\\\\Python311\\\\Lib\\\\site-packages\\\\jupyter_client\\\\__init__.py\": 1682861540.7193544, \"C:\\\\Users\\\\pierr\\\\AppData\\\\Local\\\\Programs\\\\Python\\\\Python311\\\\Lib\\\\site-packages\\\\ipykernel\\\\connect.py\": 1682861544.2287054, \"C:\\\\Users\\\\pierr\\\\AppData\\\\Local\\\\Programs\\\\Python\\\\Python311\\\\Lib\\\\site-packages\\\\ipykernel\\\\__init__.py\": 1682861544.2251682, \"C:\\\\Users\\\\pierr\\\\AppData\\\\Local\\\\Programs\\\\Python\\\\Python311\\\\Lib\\\\site-packages\\\\IPython\\\\core\\\\__init__.py\": 1682861541.5852568, \"C:\\\\Users\\\\pierr\\\\AppData\\\\Local\\\\Programs\\\\Python\\\\Python311\\\\Lib\\\\site-packages\\\\IPython\\\\core\\\\getipython.py\": 1682861541.599423, \"C:\\\\Users\\\\pierr\\\\AppData\\\\Local\\\\Programs\\\\Python\\\\Python311\\\\Lib\\\\site-packages\\\\IPython\\\\core\\\\release.py\": 1682861541.610448, \"C:\\\\Users\\\\pierr\\\\AppData\\\\Local\\\\Programs\\\\Python\\\\Python311\\\\Lib\\\\pkgutil.py\": 1680645850.0, \"C:\\\\Users\\\\pierr\\\\AppData\\\\Local\\\\Programs\\\\Python\\\\Python311\\\\Lib\\\\sysconfig.py\": 1680645850.0, \"C:\\\\Users\\\\pierr\\\\AppData\\\\Local\\\\Programs\\\\Python\\\\Python311\\\\Lib\\\\pydoc.py\": 1680645850.0, \"C:\\\\Users\\\\pierr\\\\AppData\\\\Local\\\\Programs\\\\Python\\\\Python311\\\\Lib\\\\site-packages\\\\executing\\\\_exceptions.py\": 1682861525.7697277, \"C:\\\\Users\\\\pierr\\\\AppData\\\\Local\\\\Programs\\\\Python\\\\Python311\\\\Lib\\\\site-packages\\\\executing\\\\_position_node_finder.py\": 1682861525.7707276, \"C:\\\\Users\\\\pierr\\\\AppData\\\\Local\\\\Programs\\\\Python\\\\Python311\\\\Lib\\\\site-packages\\\\executing\\\\executing.py\": 1682861525.7707276, \"C:\\\\Users\\\\pierr\\\\AppData\\\\Local\\\\Programs\\\\Python\\\\Python311\\\\Lib\\\\site-packages\\\\executing\\\\version.py\": 1682861525.7717283, \"C:\\\\Users\\\\pierr\\\\AppData\\\\Local\\\\Programs\\\\Python\\\\Python311\\\\Lib\\\\site-packages\\\\executing\\\\__init__.py\": 1682861525.7697277, \"C:\\\\Users\\\\pierr\\\\AppData\\\\Local\\\\Programs\\\\Python\\\\Python311\\\\Lib\\\\site-packages\\\\asttokens\\\\line_numbers.py\": 1682861540.243529, \"C:\\\\Users\\\\pierr\\\\AppData\\\\Local\\\\Programs\\\\Python\\\\Python311\\\\Lib\\\\site-packages\\\\asttokens\\\\util.py\": 1682861540.244533, \"C:\\\\Users\\\\pierr\\\\AppData\\\\Local\\\\Programs\\\\Python\\\\Python311\\\\Lib\\\\site-packages\\\\asttokens\\\\asttokens.py\": 1682861540.2425303, \"C:\\\\Users\\\\pierr\\\\AppData\\\\Local\\\\Programs\\\\Python\\\\Python311\\\\Lib\\\\site-packages\\\\asttokens\\\\__init__.py\": 1682861540.2415287, \"C:\\\\Users\\\\pierr\\\\AppData\\\\Local\\\\Programs\\\\Python\\\\Python311\\\\Lib\\\\fractions.py\": 1680645850.0, \"C:\\\\Users\\\\pierr\\\\AppData\\\\Local\\\\Programs\\\\Python\\\\Python311\\\\Lib\\\\site-packages\\\\pure_eval\\\\utils.py\": 1682861525.3936255, \"C:\\\\Users\\\\pierr\\\\AppData\\\\Local\\\\Programs\\\\Python\\\\Python311\\\\Lib\\\\site-packages\\\\pure_eval\\\\my_getattr_static.py\": 1682861525.392115, \"C:\\\\Users\\\\pierr\\\\AppData\\\\Local\\\\Programs\\\\Python\\\\Python311\\\\Lib\\\\site-packages\\\\pure_eval\\\\core.py\": 1682861525.391112, \"C:\\\\Users\\\\pierr\\\\AppData\\\\Local\\\\Programs\\\\Python\\\\Python311\\\\Lib\\\\site-packages\\\\pure_eval\\\\version.py\": 1682861525.3936255, \"C:\\\\Users\\\\pierr\\\\AppData\\\\Local\\\\Programs\\\\Python\\\\Python311\\\\Lib\\\\site-packages\\\\pure_eval\\\\__init__.py\": 1682861525.391112, \"C:\\\\Users\\\\pierr\\\\AppData\\\\Local\\\\Programs\\\\Python\\\\Python311\\\\Lib\\\\site-packages\\\\stack_data\\\\utils.py\": 1682861540.3225055, \"C:\\\\Users\\\\pierr\\\\AppData\\\\Local\\\\Programs\\\\Python\\\\Python311\\\\Lib\\\\site-packages\\\\stack_data\\\\core.py\": 1682861540.3209958, \"C:\\\\Users\\\\pierr\\\\AppData\\\\Local\\\\Programs\\\\Python\\\\Python311\\\\Lib\\\\site-packages\\\\stack_data\\\\formatting.py\": 1682861540.3209958, \"C:\\\\Users\\\\pierr\\\\AppData\\\\Local\\\\Programs\\\\Python\\\\Python311\\\\Lib\\\\site-packages\\\\stack_data\\\\serializing.py\": 1682861540.3225055, \"C:\\\\Users\\\\pierr\\\\AppData\\\\Local\\\\Programs\\\\Python\\\\Python311\\\\Lib\\\\site-packages\\\\stack_data\\\\version.py\": 1682861540.3235123, \"C:\\\\Users\\\\pierr\\\\AppData\\\\Local\\\\Programs\\\\Python\\\\Python311\\\\Lib\\\\site-packages\\\\stack_data\\\\__init__.py\": 1682861540.3199966, \"C:\\\\Users\\\\pierr\\\\AppData\\\\Local\\\\Programs\\\\Python\\\\Python311\\\\Lib\\\\site-packages\\\\pygments\\\\__init__.py\": 1682861528.6864667, \"C:\\\\Users\\\\pierr\\\\AppData\\\\Local\\\\Programs\\\\Python\\\\Python311\\\\Lib\\\\site-packages\\\\pygments\\\\formatters\\\\_mapping.py\": 1682861528.6964748, \"C:\\\\Users\\\\pierr\\\\AppData\\\\Local\\\\Programs\\\\Python\\\\Python311\\\\Lib\\\\site-packages\\\\pygments\\\\plugin.py\": 1682861528.6904724, \"C:\\\\Users\\\\pierr\\\\AppData\\\\Local\\\\Programs\\\\Python\\\\Python311\\\\Lib\\\\site-packages\\\\pygments\\\\util.py\": 1682861528.694472, \"C:\\\\Users\\\\pierr\\\\AppData\\\\Local\\\\Programs\\\\Python\\\\Python311\\\\Lib\\\\site-packages\\\\pygments\\\\formatters\\\\__init__.py\": 1682861528.6954727, \"C:\\\\Users\\\\pierr\\\\AppData\\\\Local\\\\Programs\\\\Python\\\\Python311\\\\Lib\\\\site-packages\\\\pygments\\\\styles\\\\__init__.py\": 1682861528.8203242, \"C:\\\\Users\\\\pierr\\\\AppData\\\\Local\\\\Programs\\\\Python\\\\Python311\\\\Lib\\\\site-packages\\\\pygments\\\\formatter.py\": 1682861528.6894722, \"C:\\\\Users\\\\pierr\\\\AppData\\\\Local\\\\Programs\\\\Python\\\\Python311\\\\Lib\\\\site-packages\\\\pygments\\\\console.py\": 1682861528.6884737, \"C:\\\\Users\\\\pierr\\\\AppData\\\\Local\\\\Programs\\\\Python\\\\Python311\\\\Lib\\\\site-packages\\\\pygments\\\\token.py\": 1682861528.6934726, \"C:\\\\Users\\\\pierr\\\\AppData\\\\Local\\\\Programs\\\\Python\\\\Python311\\\\Lib\\\\site-packages\\\\pygments\\\\style.py\": 1682861528.692472, \"C:\\\\Users\\\\pierr\\\\AppData\\\\Local\\\\Programs\\\\Python\\\\Python311\\\\Lib\\\\site-packages\\\\pygments\\\\formatters\\\\terminal256.py\": 1682861528.7019868, \"C:\\\\Users\\\\pierr\\\\AppData\\\\Local\\\\Programs\\\\Python\\\\Python311\\\\Lib\\\\site-packages\\\\IPython\\\\utils\\\\__init__.py\": 1682861541.691841, \"C:\\\\Users\\\\pierr\\\\AppData\\\\Local\\\\Programs\\\\Python\\\\Python311\\\\Lib\\\\site-packages\\\\IPython\\\\utils\\\\colorable.py\": 1682861541.6952517, \"C:\\\\Users\\\\pierr\\\\AppData\\\\Local\\\\Programs\\\\Python\\\\Python311\\\\Lib\\\\site-packages\\\\IPython\\\\utils\\\\ipstruct.py\": 1682861541.7017741, \"C:\\\\Users\\\\pierr\\\\AppData\\\\Local\\\\Programs\\\\Python\\\\Python311\\\\Lib\\\\site-packages\\\\IPython\\\\utils\\\\coloransi.py\": 1682861541.6952517, \"C:\\\\Users\\\\pierr\\\\AppData\\\\Local\\\\Programs\\\\Python\\\\Python311\\\\Lib\\\\site-packages\\\\IPython\\\\utils\\\\PyColorize.py\": 1682861541.691841, \"C:\\\\Users\\\\pierr\\\\AppData\\\\Local\\\\Programs\\\\Python\\\\Python311\\\\Lib\\\\site-packages\\\\IPython\\\\utils\\\\encoding.py\": 1682861541.6997721, \"C:\\\\Users\\\\pierr\\\\AppData\\\\Local\\\\Programs\\\\Python\\\\Python311\\\\Lib\\\\site-packages\\\\IPython\\\\utils\\\\py3compat.py\": 1682861541.7057726, \"C:\\\\Users\\\\pierr\\\\AppData\\\\Local\\\\Programs\\\\Python\\\\Python311\\\\Lib\\\\site-packages\\\\IPython\\\\core\\\\excolors.py\": 1682861541.5974228, \"C:\\\\Users\\\\pierr\\\\AppData\\\\Local\\\\Programs\\\\Python\\\\Python311\\\\Lib\\\\cmd.py\": 1680645850.0, \"C:\\\\Users\\\\pierr\\\\AppData\\\\Local\\\\Programs\\\\Python\\\\Python311\\\\Lib\\\\bdb.py\": 1680645850.0, \"C:\\\\Users\\\\pierr\\\\AppData\\\\Local\\\\Programs\\\\Python\\\\Python311\\\\Lib\\\\codeop.py\": 1680645850.0, \"C:\\\\Users\\\\pierr\\\\AppData\\\\Local\\\\Programs\\\\Python\\\\Python311\\\\Lib\\\\code.py\": 1680645850.0, \"C:\\\\Users\\\\pierr\\\\AppData\\\\Local\\\\Programs\\\\Python\\\\Python311\\\\Lib\\\\pdb.py\": 1680645850.0, \"C:\\\\Users\\\\pierr\\\\AppData\\\\Local\\\\Programs\\\\Python\\\\Python311\\\\Lib\\\\site-packages\\\\IPython\\\\core\\\\debugger.py\": 1682861541.5927713, \"C:\\\\Users\\\\pierr\\\\AppData\\\\Local\\\\Programs\\\\Python\\\\Python311\\\\Lib\\\\site-packages\\\\IPython\\\\core\\\\display_trap.py\": 1682861541.5949092, \"C:\\\\Users\\\\pierr\\\\AppData\\\\Local\\\\Programs\\\\Python\\\\Python311\\\\Lib\\\\shlex.py\": 1680645850.0, \"C:\\\\Users\\\\pierr\\\\AppData\\\\Local\\\\Programs\\\\Python\\\\Python311\\\\Lib\\\\site-packages\\\\IPython\\\\utils\\\\_process_common.py\": 1682861541.6928408, \"C:\\\\Users\\\\pierr\\\\AppData\\\\Local\\\\Programs\\\\Python\\\\Python311\\\\Lib\\\\site-packages\\\\IPython\\\\utils\\\\_process_win32.py\": 1682861541.694251, \"C:\\\\Users\\\\pierr\\\\AppData\\\\Local\\\\Programs\\\\Python\\\\Python311\\\\Lib\\\\site-packages\\\\IPython\\\\utils\\\\process.py\": 1682861541.7047727, \"C:\\\\Users\\\\pierr\\\\AppData\\\\Local\\\\Programs\\\\Python\\\\Python311\\\\Lib\\\\site-packages\\\\IPython\\\\utils\\\\path.py\": 1682861541.7047727, \"C:\\\\Users\\\\pierr\\\\AppData\\\\Local\\\\Programs\\\\Python\\\\Python311\\\\Lib\\\\site-packages\\\\IPython\\\\utils\\\\terminal.py\": 1682861541.7092865, \"C:\\\\Users\\\\pierr\\\\AppData\\\\Local\\\\Programs\\\\Python\\\\Python311\\\\Lib\\\\site-packages\\\\IPython\\\\core\\\\ultratb.py\": 1682861541.612448, \"C:\\\\Users\\\\pierr\\\\AppData\\\\Local\\\\Programs\\\\Python\\\\Python311\\\\Lib\\\\site-packages\\\\IPython\\\\utils\\\\_sysinfo.py\": 1682861541.6952517, \"C:\\\\Users\\\\pierr\\\\AppData\\\\Local\\\\Programs\\\\Python\\\\Python311\\\\Lib\\\\site-packages\\\\IPython\\\\utils\\\\sysinfo.py\": 1682861541.7082865, \"C:\\\\Users\\\\pierr\\\\AppData\\\\Local\\\\Programs\\\\Python\\\\Python311\\\\Lib\\\\site-packages\\\\IPython\\\\core\\\\crashhandler.py\": 1682861541.59177, \"C:\\\\Users\\\\pierr\\\\AppData\\\\Local\\\\Programs\\\\Python\\\\Python311\\\\Lib\\\\site-packages\\\\IPython\\\\utils\\\\importstring.py\": 1682861541.7007728, \"C:\\\\Users\\\\pierr\\\\AppData\\\\Local\\\\Programs\\\\Python\\\\Python311\\\\Lib\\\\site-packages\\\\IPython\\\\paths.py\": 1682861541.584253, \"C:\\\\Users\\\\pierr\\\\AppData\\\\Local\\\\Programs\\\\Python\\\\Python311\\\\Lib\\\\site-packages\\\\IPython\\\\core\\\\profiledir.py\": 1682861541.6094487, \"C:\\\\Users\\\\pierr\\\\AppData\\\\Local\\\\Programs\\\\Python\\\\Python311\\\\Lib\\\\site-packages\\\\IPython\\\\core\\\\application.py\": 1682861541.5877707, \"C:\\\\Users\\\\pierr\\\\AppData\\\\Local\\\\Programs\\\\Python\\\\Python311\\\\Lib\\\\site-packages\\\\IPython\\\\terminal\\\\__init__.py\": 1682861541.665567, \"C:\\\\Users\\\\pierr\\\\AppData\\\\Local\\\\Programs\\\\Python\\\\Python311\\\\Lib\\\\site-packages\\\\IPython\\\\core\\\\compilerop.py\": 1682861541.5897708, \"C:\\\\Users\\\\pierr\\\\AppData\\\\Local\\\\Programs\\\\Python\\\\Python311\\\\Lib\\\\site-packages\\\\IPython\\\\core\\\\error.py\": 1682861541.5964155, \"C:\\\\Users\\\\pierr\\\\AppData\\\\Local\\\\Programs\\\\Python\\\\Python311\\\\Lib\\\\site-packages\\\\IPython\\\\utils\\\\docs.py\": 1682861541.698773, \"C:\\\\Users\\\\pierr\\\\AppData\\\\Local\\\\Programs\\\\Python\\\\Python311\\\\Lib\\\\site-packages\\\\IPython\\\\utils\\\\decorators.py\": 1682861541.6977663, \"C:\\\\Users\\\\pierr\\\\AppData\\\\Local\\\\Programs\\\\Python\\\\Python311\\\\Lib\\\\site-packages\\\\IPython\\\\utils\\\\text.py\": 1682861541.710287, \"C:\\\\Users\\\\pierr\\\\AppData\\\\Local\\\\Programs\\\\Python\\\\Python311\\\\Lib\\\\site-packages\\\\IPython\\\\core\\\\magic_arguments.py\": 1682861541.6064343, \"C:\\\\Users\\\\pierr\\\\AppData\\\\Local\\\\Programs\\\\Python\\\\Python311\\\\Lib\\\\getopt.py\": 1680645850.0, \"C:\\\\Users\\\\pierr\\\\AppData\\\\Local\\\\Programs\\\\Python\\\\Python311\\\\Lib\\\\site-packages\\\\IPython\\\\core\\\\display_functions.py\": 1682861541.5939076, \"C:\\\\Users\\\\pierr\\\\AppData\\\\Local\\\\Programs\\\\Python\\\\Python311\\\\Lib\\\\mimetypes.py\": 1680645850.0, \"C:\\\\Users\\\\pierr\\\\AppData\\\\Local\\\\Programs\\\\Python\\\\Python311\\\\Lib\\\\site-packages\\\\IPython\\\\testing\\\\__init__.py\": 1682861541.6807134, \"C:\\\\Users\\\\pierr\\\\AppData\\\\Local\\\\Programs\\\\Python\\\\Python311\\\\Lib\\\\site-packages\\\\IPython\\\\testing\\\\skipdoctest.py\": 1682861541.682714, \"C:\\\\Users\\\\pierr\\\\AppData\\\\Local\\\\Programs\\\\Python\\\\Python311\\\\Lib\\\\site-packages\\\\IPython\\\\core\\\\display.py\": 1682861541.5927713, \"C:\\\\Users\\\\pierr\\\\AppData\\\\Local\\\\Programs\\\\Python\\\\Python311\\\\Lib\\\\site-packages\\\\IPython\\\\lib\\\\__init__.py\": 1682861541.652486, \"C:\\\\Users\\\\pierr\\\\AppData\\\\Local\\\\Programs\\\\Python\\\\Python311\\\\Lib\\\\site-packages\\\\IPython\\\\lib\\\\display.py\": 1682861541.6544864, \"C:\\\\Users\\\\pierr\\\\AppData\\\\Local\\\\Programs\\\\Python\\\\Python311\\\\Lib\\\\site-packages\\\\IPython\\\\display.py\": 1682861541.5832531, \"C:\\\\Users\\\\pierr\\\\AppData\\\\Local\\\\Programs\\\\Python\\\\Python311\\\\Lib\\\\site-packages\\\\IPython\\\\utils\\\\data.py\": 1682861541.6977663, \"C:\\\\Users\\\\pierr\\\\AppData\\\\Local\\\\Programs\\\\Python\\\\Python311\\\\Lib\\\\site-packages\\\\IPython\\\\core\\\\page.py\": 1682861541.607442, \"C:\\\\Users\\\\pierr\\\\AppData\\\\Local\\\\Programs\\\\Python\\\\Python311\\\\Lib\\\\site-packages\\\\IPython\\\\lib\\\\pretty.py\": 1682861541.65756, \"C:\\\\Users\\\\pierr\\\\AppData\\\\Local\\\\Programs\\\\Python\\\\Python311\\\\Lib\\\\site-packages\\\\IPython\\\\utils\\\\openpy.py\": 1682861541.7037723, \"C:\\\\Users\\\\pierr\\\\AppData\\\\Local\\\\Programs\\\\Python\\\\Python311\\\\Lib\\\\site-packages\\\\IPython\\\\utils\\\\dir2.py\": 1682861541.698773, \"C:\\\\Users\\\\pierr\\\\AppData\\\\Local\\\\Programs\\\\Python\\\\Python311\\\\Lib\\\\site-packages\\\\IPython\\\\utils\\\\wildcard.py\": 1682861541.7132862, \"C:\\\\Users\\\\pierr\\\\AppData\\\\Local\\\\Programs\\\\Python\\\\Python311\\\\Lib\\\\site-packages\\\\pygments\\\\lexers\\\\_mapping.py\": 1682861528.709015, \"C:\\\\Users\\\\pierr\\\\AppData\\\\Local\\\\Programs\\\\Python\\\\Python311\\\\Lib\\\\site-packages\\\\pygments\\\\modeline.py\": 1682861528.6904724, \"C:\\\\Users\\\\pierr\\\\AppData\\\\Local\\\\Programs\\\\Python\\\\Python311\\\\Lib\\\\site-packages\\\\pygments\\\\lexers\\\\__init__.py\": 1682861528.7029881, \"C:\\\\Users\\\\pierr\\\\AppData\\\\Local\\\\Programs\\\\Python\\\\Python311\\\\Lib\\\\site-packages\\\\pygments\\\\filter.py\": 1682861528.6884737, \"C:\\\\Users\\\\pierr\\\\AppData\\\\Local\\\\Programs\\\\Python\\\\Python311\\\\Lib\\\\site-packages\\\\pygments\\\\filters\\\\__init__.py\": 1682861528.6954727, \"C:\\\\Users\\\\pierr\\\\AppData\\\\Local\\\\Programs\\\\Python\\\\Python311\\\\Lib\\\\site-packages\\\\pygments\\\\regexopt.py\": 1682861528.6914728, \"C:\\\\Users\\\\pierr\\\\AppData\\\\Local\\\\Programs\\\\Python\\\\Python311\\\\Lib\\\\site-packages\\\\pygments\\\\lexer.py\": 1682861528.6904724, \"C:\\\\Users\\\\pierr\\\\AppData\\\\Local\\\\Programs\\\\Python\\\\Python311\\\\Lib\\\\site-packages\\\\pygments\\\\unistring.py\": 1682861528.6934726, \"C:\\\\Users\\\\pierr\\\\AppData\\\\Local\\\\Programs\\\\Python\\\\Python311\\\\Lib\\\\site-packages\\\\pygments\\\\lexers\\\\python.py\": 1682861528.7874496, \"C:\\\\Users\\\\pierr\\\\AppData\\\\Local\\\\Programs\\\\Python\\\\Python311\\\\Lib\\\\site-packages\\\\pygments\\\\formatters\\\\html.py\": 1682861528.6979885, \"C:\\\\Users\\\\pierr\\\\AppData\\\\Local\\\\Programs\\\\Python\\\\Python311\\\\Lib\\\\site-packages\\\\IPython\\\\core\\\\oinspect.py\": 1682861541.6064343, \"C:\\\\Users\\\\pierr\\\\AppData\\\\Local\\\\Programs\\\\Python\\\\Python311\\\\Lib\\\\site-packages\\\\IPython\\\\core\\\\inputtransformer2.py\": 1682861541.602423, \"C:\\\\Users\\\\pierr\\\\AppData\\\\Local\\\\Programs\\\\Python\\\\Python311\\\\Lib\\\\site-packages\\\\IPython\\\\core\\\\magic.py\": 1682861541.6049297, \"C:\\\\Users\\\\pierr\\\\AppData\\\\Local\\\\Programs\\\\Python\\\\Python311\\\\Lib\\\\site-packages\\\\pickleshare.py\": 1682861525.4322662, \"C:\\\\Users\\\\pierr\\\\AppData\\\\Local\\\\Programs\\\\Python\\\\Python311\\\\Lib\\\\site-packages\\\\IPython\\\\core\\\\hooks.py\": 1682861541.6014225, \"C:\\\\Users\\\\pierr\\\\AppData\\\\Local\\\\Programs\\\\Python\\\\Python311\\\\Lib\\\\site-packages\\\\IPython\\\\core\\\\autocall.py\": 1682861541.5887728, \"C:\\\\Users\\\\pierr\\\\AppData\\\\Local\\\\Programs\\\\Python\\\\Python311\\\\Lib\\\\site-packages\\\\IPython\\\\core\\\\macro.py\": 1682861541.6049297, \"C:\\\\Users\\\\pierr\\\\AppData\\\\Local\\\\Programs\\\\Python\\\\Python311\\\\Lib\\\\site-packages\\\\IPython\\\\core\\\\splitinput.py\": 1682861541.611448, \"C:\\\\Users\\\\pierr\\\\AppData\\\\Local\\\\Programs\\\\Python\\\\Python311\\\\Lib\\\\site-packages\\\\IPython\\\\core\\\\prefilter.py\": 1682861541.6084418, \"C:\\\\Users\\\\pierr\\\\AppData\\\\Local\\\\Programs\\\\Python\\\\Python311\\\\Lib\\\\site-packages\\\\IPython\\\\core\\\\alias.py\": 1682861541.5867634, \"C:\\\\Users\\\\pierr\\\\AppData\\\\Local\\\\Programs\\\\Python\\\\Python311\\\\Lib\\\\site-packages\\\\IPython\\\\core\\\\builtin_trap.py\": 1682861541.5887728, \"C:\\\\Users\\\\pierr\\\\AppData\\\\Local\\\\Programs\\\\Python\\\\Python311\\\\Lib\\\\site-packages\\\\IPython\\\\core\\\\displayhook.py\": 1682861541.5949092, \"C:\\\\Users\\\\pierr\\\\AppData\\\\Local\\\\Programs\\\\Python\\\\Python311\\\\Lib\\\\site-packages\\\\IPython\\\\core\\\\displaypub.py\": 1682861541.5949092, \"C:\\\\Users\\\\pierr\\\\AppData\\\\Local\\\\Programs\\\\Python\\\\Python311\\\\Lib\\\\site-packages\\\\backcall\\\\backcall.py\": 1682861525.8174472, \"C:\\\\Users\\\\pierr\\\\AppData\\\\Local\\\\Programs\\\\Python\\\\Python311\\\\Lib\\\\site-packages\\\\backcall\\\\__init__.py\": 1682861525.8164406, \"C:\\\\Users\\\\pierr\\\\AppData\\\\Local\\\\Programs\\\\Python\\\\Python311\\\\Lib\\\\site-packages\\\\IPython\\\\core\\\\events.py\": 1682861541.5974228, \"C:\\\\Users\\\\pierr\\\\AppData\\\\Local\\\\Programs\\\\Python\\\\Python311\\\\Lib\\\\site-packages\\\\IPython\\\\core\\\\extensions.py\": 1682861541.5974228, \"C:\\\\Users\\\\pierr\\\\AppData\\\\Local\\\\Programs\\\\Python\\\\Python311\\\\Lib\\\\site-packages\\\\decorator.py\": 1682861533.6203363, \"C:\\\\Users\\\\pierr\\\\AppData\\\\Local\\\\Programs\\\\Python\\\\Python311\\\\Lib\\\\site-packages\\\\IPython\\\\utils\\\\sentinel.py\": 1682861541.7057726, \"C:\\\\Users\\\\pierr\\\\AppData\\\\Local\\\\Programs\\\\Python\\\\Python311\\\\Lib\\\\site-packages\\\\IPython\\\\core\\\\formatters.py\": 1682861541.5984228, \"C:\\\\Users\\\\pierr\\\\AppData\\\\Local\\\\Programs\\\\Python\\\\Python311\\\\DLLs\\\\_sqlite3.pyd\": 1680645876.0, \"C:\\\\Users\\\\pierr\\\\AppData\\\\Local\\\\Programs\\\\Python\\\\Python311\\\\Lib\\\\sqlite3\\\\dbapi2.py\": 1680645850.0, \"C:\\\\Users\\\\pierr\\\\AppData\\\\Local\\\\Programs\\\\Python\\\\Python311\\\\Lib\\\\sqlite3\\\\__init__.py\": 1680645850.0, \"C:\\\\Users\\\\pierr\\\\AppData\\\\Local\\\\Programs\\\\Python\\\\Python311\\\\Lib\\\\site-packages\\\\IPython\\\\core\\\\history.py\": 1682861541.600423, \"C:\\\\Users\\\\pierr\\\\AppData\\\\Local\\\\Programs\\\\Python\\\\Python311\\\\Lib\\\\site-packages\\\\IPython\\\\core\\\\logger.py\": 1682861541.6049297, \"C:\\\\Users\\\\pierr\\\\AppData\\\\Local\\\\Programs\\\\Python\\\\Python311\\\\Lib\\\\site-packages\\\\IPython\\\\core\\\\payload.py\": 1682861541.607442, \"C:\\\\Users\\\\pierr\\\\AppData\\\\Local\\\\Programs\\\\Python\\\\Python311\\\\Lib\\\\site-packages\\\\IPython\\\\core\\\\usage.py\": 1682861541.6134484, \"C:\\\\Users\\\\pierr\\\\AppData\\\\Local\\\\Programs\\\\Python\\\\Python311\\\\Lib\\\\site-packages\\\\IPython\\\\utils\\\\capture.py\": 1682861541.6952517, \"C:\\\\Users\\\\pierr\\\\AppData\\\\Local\\\\Programs\\\\Python\\\\Python311\\\\Lib\\\\site-packages\\\\IPython\\\\utils\\\\io.py\": 1682861541.7017741, \"C:\\\\Users\\\\pierr\\\\AppData\\\\Local\\\\Programs\\\\Python\\\\Python311\\\\Lib\\\\site-packages\\\\IPython\\\\utils\\\\strdispatch.py\": 1682861541.7072797, \"C:\\\\Users\\\\pierr\\\\AppData\\\\Local\\\\Programs\\\\Python\\\\Python311\\\\Lib\\\\site-packages\\\\IPython\\\\utils\\\\syspathcontext.py\": 1682861541.7082865, \"C:\\\\Users\\\\pierr\\\\AppData\\\\Local\\\\Programs\\\\Python\\\\Python311\\\\Lib\\\\site-packages\\\\IPython\\\\core\\\\async_helpers.py\": 1682861541.5877707, \"C:\\\\Users\\\\pierr\\\\AppData\\\\Local\\\\Programs\\\\Python\\\\Python311\\\\Lib\\\\site-packages\\\\IPython\\\\core\\\\interactiveshell.py\": 1682861541.6034234, \"C:\\\\Users\\\\pierr\\\\AppData\\\\Local\\\\Programs\\\\Python\\\\Python311\\\\Lib\\\\site-packages\\\\prompt_toolkit\\\\application\\\\current.py\": 1682861531.6712449, \"C:\\\\Users\\\\pierr\\\\AppData\\\\Local\\\\Programs\\\\Python\\\\Python311\\\\Lib\\\\site-packages\\\\prompt_toolkit\\\\eventloop\\\\utils.py\": 1682861531.6884103, \"C:\\\\Users\\\\pierr\\\\AppData\\\\Local\\\\Programs\\\\Python\\\\Python311\\\\Lib\\\\site-packages\\\\prompt_toolkit\\\\eventloop\\\\async_generator.py\": 1682861531.687315, \"C:\\\\Users\\\\pierr\\\\AppData\\\\Local\\\\Programs\\\\Python\\\\Python311\\\\Lib\\\\site-packages\\\\prompt_toolkit\\\\eventloop\\\\inputhook.py\": 1682861531.687315, \"C:\\\\Users\\\\pierr\\\\AppData\\\\Local\\\\Programs\\\\Python\\\\Python311\\\\Lib\\\\site-packages\\\\prompt_toolkit\\\\eventloop\\\\__init__.py\": 1682861531.6863067, \"C:\\\\Users\\\\pierr\\\\AppData\\\\Local\\\\Programs\\\\Python\\\\Python311\\\\Lib\\\\site-packages\\\\prompt_toolkit\\\\application\\\\run_in_terminal.py\": 1682861531.672246, \"C:\\\\Users\\\\pierr\\\\AppData\\\\Local\\\\Programs\\\\Python\\\\Python311\\\\Lib\\\\site-packages\\\\prompt_toolkit\\\\selection.py\": 1682861531.6682446, \"C:\\\\Users\\\\pierr\\\\AppData\\\\Local\\\\Programs\\\\Python\\\\Python311\\\\Lib\\\\site-packages\\\\prompt_toolkit\\\\clipboard\\\\base.py\": 1682861531.673246, \"C:\\\\Users\\\\pierr\\\\AppData\\\\Local\\\\Programs\\\\Python\\\\Python311\\\\Lib\\\\site-packages\\\\prompt_toolkit\\\\clipboard\\\\in_memory.py\": 1682861531.673246, \"C:\\\\Users\\\\pierr\\\\AppData\\\\Local\\\\Programs\\\\Python\\\\Python311\\\\Lib\\\\site-packages\\\\prompt_toolkit\\\\clipboard\\\\__init__.py\": 1682861531.673246, \"C:\\\\Users\\\\pierr\\\\AppData\\\\Local\\\\Programs\\\\Python\\\\Python311\\\\Lib\\\\site-packages\\\\prompt_toolkit\\\\cache.py\": 1682861531.6622138, \"C:\\\\Users\\\\pierr\\\\AppData\\\\Local\\\\Programs\\\\Python\\\\Python311\\\\Lib\\\\site-packages\\\\prompt_toolkit\\\\enums.py\": 1682861531.6632116, \"C:\\\\Users\\\\pierr\\\\AppData\\\\Local\\\\Programs\\\\Python\\\\Python311\\\\Lib\\\\site-packages\\\\prompt_toolkit\\\\filters\\\\base.py\": 1682861531.69041, \"C:\\\\Users\\\\pierr\\\\AppData\\\\Local\\\\Programs\\\\Python\\\\Python311\\\\Lib\\\\site-packages\\\\prompt_toolkit\\\\filters\\\\app.py\": 1682861531.6894145, \"C:\\\\Users\\\\pierr\\\\AppData\\\\Local\\\\Programs\\\\Python\\\\Python311\\\\Lib\\\\site-packages\\\\prompt_toolkit\\\\filters\\\\cli.py\": 1682861531.69041, \"C:\\\\Users\\\\pierr\\\\AppData\\\\Local\\\\Programs\\\\Python\\\\Python311\\\\Lib\\\\site-packages\\\\prompt_toolkit\\\\filters\\\\utils.py\": 1682861531.6914103, \"C:\\\\Users\\\\pierr\\\\AppData\\\\Local\\\\Programs\\\\Python\\\\Python311\\\\Lib\\\\site-packages\\\\prompt_toolkit\\\\filters\\\\__init__.py\": 1682861531.6894145, \"C:\\\\Users\\\\pierr\\\\AppData\\\\Local\\\\Programs\\\\Python\\\\Python311\\\\Lib\\\\site-packages\\\\prompt_toolkit\\\\document.py\": 1682861531.6632116, \"C:\\\\Users\\\\pierr\\\\AppData\\\\Local\\\\Programs\\\\Python\\\\Python311\\\\Lib\\\\site-packages\\\\prompt_toolkit\\\\auto_suggest.py\": 1682861531.6612127, \"C:\\\\Users\\\\pierr\\\\AppData\\\\Local\\\\Programs\\\\Python\\\\Python311\\\\Lib\\\\site-packages\\\\prompt_toolkit\\\\keys.py\": 1682861531.6647174, \"C:\\\\Users\\\\pierr\\\\AppData\\\\Local\\\\Programs\\\\Python\\\\Python311\\\\Lib\\\\site-packages\\\\prompt_toolkit\\\\key_binding\\\\key_bindings.py\": 1682861531.7014408, \"C:\\\\Users\\\\pierr\\\\AppData\\\\Local\\\\Programs\\\\Python\\\\Python311\\\\Lib\\\\site-packages\\\\wcwidth\\\\table_wide.py\": 1682861521.7359257, \"C:\\\\Users\\\\pierr\\\\AppData\\\\Local\\\\Programs\\\\Python\\\\Python311\\\\Lib\\\\site-packages\\\\wcwidth\\\\table_zero.py\": 1682861521.7369325, \"C:\\\\Users\\\\pierr\\\\AppData\\\\Local\\\\Programs\\\\Python\\\\Python311\\\\Lib\\\\site-packages\\\\wcwidth\\\\unicode_versions.py\": 1682861521.7369325, \"C:\\\\Users\\\\pierr\\\\AppData\\\\Local\\\\Programs\\\\Python\\\\Python311\\\\Lib\\\\site-packages\\\\wcwidth\\\\wcwidth.py\": 1682861521.7379355, \"C:\\\\Users\\\\pierr\\\\AppData\\\\Local\\\\Programs\\\\Python\\\\Python311\\\\Lib\\\\site-packages\\\\wcwidth\\\\__init__.py\": 1682861521.7344193, \"C:\\\\Users\\\\pierr\\\\AppData\\\\Local\\\\Programs\\\\Python\\\\Python311\\\\Lib\\\\site-packages\\\\prompt_toolkit\\\\utils.py\": 1682861531.669245, \"C:\\\\Users\\\\pierr\\\\AppData\\\\Local\\\\Programs\\\\Python\\\\Python311\\\\Lib\\\\site-packages\\\\prompt_toolkit\\\\key_binding\\\\key_processor.py\": 1682861531.702441, \"C:\\\\Users\\\\pierr\\\\AppData\\\\Local\\\\Programs\\\\Python\\\\Python311\\\\Lib\\\\site-packages\\\\prompt_toolkit\\\\key_binding\\\\__init__.py\": 1682861531.699441, \"C:\\\\Users\\\\pierr\\\\AppData\\\\Local\\\\Programs\\\\Python\\\\Python311\\\\Lib\\\\site-packages\\\\prompt_toolkit\\\\key_binding\\\\vi_state.py\": 1682861531.70344, \"C:\\\\Users\\\\pierr\\\\AppData\\\\Local\\\\Programs\\\\Python\\\\Python311\\\\Lib\\\\site-packages\\\\prompt_toolkit\\\\cursor_shapes.py\": 1682861531.6622138, \"C:\\\\Users\\\\pierr\\\\AppData\\\\Local\\\\Programs\\\\Python\\\\Python311\\\\Lib\\\\site-packages\\\\prompt_toolkit\\\\data_structures.py\": 1682861531.6632116, \"C:\\\\Users\\\\pierr\\\\AppData\\\\Local\\\\Programs\\\\Python\\\\Python311\\\\Lib\\\\site-packages\\\\prompt_toolkit\\\\styles\\\\base.py\": 1682861531.7285588, \"C:\\\\Users\\\\pierr\\\\AppData\\\\Local\\\\Programs\\\\Python\\\\Python311\\\\Lib\\\\site-packages\\\\prompt_toolkit\\\\styles\\\\named_colors.py\": 1682861531.729558, \"C:\\\\Users\\\\pierr\\\\AppData\\\\Local\\\\Programs\\\\Python\\\\Python311\\\\Lib\\\\site-packages\\\\prompt_toolkit\\\\styles\\\\style.py\": 1682861531.7305572, \"C:\\\\Users\\\\pierr\\\\AppData\\\\Local\\\\Programs\\\\Python\\\\Python311\\\\Lib\\\\site-packages\\\\prompt_toolkit\\\\styles\\\\defaults.py\": 1682861531.729558, \"C:\\\\Users\\\\pierr\\\\AppData\\\\Local\\\\Programs\\\\Python\\\\Python311\\\\Lib\\\\site-packages\\\\prompt_toolkit\\\\styles\\\\pygments.py\": 1682861531.7305572, \"C:\\\\Users\\\\pierr\\\\AppData\\\\Local\\\\Programs\\\\Python\\\\Python311\\\\Lib\\\\colorsys.py\": 1680645850.0, \"C:\\\\Users\\\\pierr\\\\AppData\\\\Local\\\\Programs\\\\Python\\\\Python311\\\\Lib\\\\site-packages\\\\prompt_toolkit\\\\styles\\\\style_transformation.py\": 1682861531.731558, \"C:\\\\Users\\\\pierr\\\\AppData\\\\Local\\\\Programs\\\\Python\\\\Python311\\\\Lib\\\\site-packages\\\\prompt_toolkit\\\\styles\\\\__init__.py\": 1682861531.7285588, \"C:\\\\Users\\\\pierr\\\\AppData\\\\Local\\\\Programs\\\\Python\\\\Python311\\\\Lib\\\\site-packages\\\\prompt_toolkit\\\\output\\\\color_depth.py\": 1682861531.7205162, \"C:\\\\Users\\\\pierr\\\\AppData\\\\Local\\\\Programs\\\\Python\\\\Python311\\\\Lib\\\\site-packages\\\\prompt_toolkit\\\\output\\\\base.py\": 1682861531.7195125, \"C:\\\\Users\\\\pierr\\\\AppData\\\\Local\\\\Programs\\\\Python\\\\Python311\\\\Lib\\\\site-packages\\\\prompt_toolkit\\\\output\\\\flush_stdout.py\": 1682861531.721516, \"C:\\\\Users\\\\pierr\\\\AppData\\\\Local\\\\Programs\\\\Python\\\\Python311\\\\Lib\\\\site-packages\\\\prompt_toolkit\\\\output\\\\plain_text.py\": 1682861531.7225158, \"C:\\\\Users\\\\pierr\\\\AppData\\\\Local\\\\Programs\\\\Python\\\\Python311\\\\Lib\\\\site-packages\\\\prompt_toolkit\\\\output\\\\defaults.py\": 1682861531.721516, \"C:\\\\Users\\\\pierr\\\\AppData\\\\Local\\\\Programs\\\\Python\\\\Python311\\\\Lib\\\\site-packages\\\\prompt_toolkit\\\\output\\\\__init__.py\": 1682861531.7195125, \"C:\\\\Users\\\\pierr\\\\AppData\\\\Local\\\\Programs\\\\Python\\\\Python311\\\\Lib\\\\site-packages\\\\prompt_toolkit\\\\output\\\\vt100.py\": 1682861531.7225158, \"C:\\\\Users\\\\pierr\\\\AppData\\\\Local\\\\Programs\\\\Python\\\\Python311\\\\Lib\\\\site-packages\\\\prompt_toolkit\\\\mouse_events.py\": 1682861531.666238, \"C:\\\\Users\\\\pierr\\\\AppData\\\\Local\\\\Programs\\\\Python\\\\Python311\\\\Lib\\\\site-packages\\\\prompt_toolkit\\\\formatted_text\\\\base.py\": 1682861531.6924098, \"C:\\\\Users\\\\pierr\\\\AppData\\\\Local\\\\Programs\\\\Python\\\\Python311\\\\Lib\\\\site-packages\\\\prompt_toolkit\\\\formatted_text\\\\ansi.py\": 1682861531.6924098, \"C:\\\\Users\\\\pierr\\\\AppData\\\\Local\\\\Programs\\\\Python\\\\Python311\\\\Lib\\\\xml\\\\__init__.py\": 1680645850.0, \"C:\\\\Users\\\\pierr\\\\AppData\\\\Local\\\\Programs\\\\Python\\\\Python311\\\\Lib\\\\xml\\\\dom\\\\domreg.py\": 1680645850.0, \"C:\\\\Users\\\\pierr\\\\AppData\\\\Local\\\\Programs\\\\Python\\\\Python311\\\\Lib\\\\xml\\\\dom\\\\__init__.py\": 1680645850.0, \"C:\\\\Users\\\\pierr\\\\AppData\\\\Local\\\\Programs\\\\Python\\\\Python311\\\\Lib\\\\xml\\\\dom\\\\minicompat.py\": 1680645850.0, \"C:\\\\Users\\\\pierr\\\\AppData\\\\Local\\\\Programs\\\\Python\\\\Python311\\\\Lib\\\\xml\\\\dom\\\\NodeFilter.py\": 1680645850.0, \"C:\\\\Users\\\\pierr\\\\AppData\\\\Local\\\\Programs\\\\Python\\\\Python311\\\\Lib\\\\xml\\\\dom\\\\xmlbuilder.py\": 1680645850.0, \"C:\\\\Users\\\\pierr\\\\AppData\\\\Local\\\\Programs\\\\Python\\\\Python311\\\\Lib\\\\xml\\\\dom\\\\minidom.py\": 1680645850.0, \"C:\\\\Users\\\\pierr\\\\AppData\\\\Local\\\\Programs\\\\Python\\\\Python311\\\\Lib\\\\site-packages\\\\prompt_toolkit\\\\formatted_text\\\\html.py\": 1682861531.6924098, \"C:\\\\Users\\\\pierr\\\\AppData\\\\Local\\\\Programs\\\\Python\\\\Python311\\\\Lib\\\\site-packages\\\\prompt_toolkit\\\\formatted_text\\\\pygments.py\": 1682861531.6934106, \"C:\\\\Users\\\\pierr\\\\AppData\\\\Local\\\\Programs\\\\Python\\\\Python311\\\\Lib\\\\site-packages\\\\prompt_toolkit\\\\formatted_text\\\\utils.py\": 1682861531.6934106, \"C:\\\\Users\\\\pierr\\\\AppData\\\\Local\\\\Programs\\\\Python\\\\Python311\\\\Lib\\\\site-packages\\\\prompt_toolkit\\\\formatted_text\\\\__init__.py\": 1682861531.6914103, \"C:\\\\Users\\\\pierr\\\\AppData\\\\Local\\\\Programs\\\\Python\\\\Python311\\\\Lib\\\\site-packages\\\\prompt_toolkit\\\\completion\\\\base.py\": 1682861531.6747525, \"C:\\\\Users\\\\pierr\\\\AppData\\\\Local\\\\Programs\\\\Python\\\\Python311\\\\Lib\\\\site-packages\\\\prompt_toolkit\\\\completion\\\\deduplicate.py\": 1682861531.6762679, \"C:\\\\Users\\\\pierr\\\\AppData\\\\Local\\\\Programs\\\\Python\\\\Python311\\\\Lib\\\\site-packages\\\\prompt_toolkit\\\\completion\\\\filesystem.py\": 1682861531.6762679, \"C:\\\\Users\\\\pierr\\\\AppData\\\\Local\\\\Programs\\\\Python\\\\Python311\\\\Lib\\\\site-packages\\\\prompt_toolkit\\\\completion\\\\word_completer.py\": 1682861531.678275, \"C:\\\\Users\\\\pierr\\\\AppData\\\\Local\\\\Programs\\\\Python\\\\Python311\\\\Lib\\\\site-packages\\\\prompt_toolkit\\\\completion\\\\fuzzy_completer.py\": 1682861531.677276, \"C:\\\\Users\\\\pierr\\\\AppData\\\\Local\\\\Programs\\\\Python\\\\Python311\\\\Lib\\\\site-packages\\\\prompt_toolkit\\\\completion\\\\nested.py\": 1682861531.677276, \"C:\\\\Users\\\\pierr\\\\AppData\\\\Local\\\\Programs\\\\Python\\\\Python311\\\\Lib\\\\site-packages\\\\prompt_toolkit\\\\completion\\\\__init__.py\": 1682861531.6747525, \"C:\\\\Users\\\\pierr\\\\AppData\\\\Local\\\\Programs\\\\Python\\\\Python311\\\\Lib\\\\site-packages\\\\prompt_toolkit\\\\history.py\": 1682861531.6647174, \"C:\\\\Users\\\\pierr\\\\AppData\\\\Local\\\\Programs\\\\Python\\\\Python311\\\\Lib\\\\site-packages\\\\prompt_toolkit\\\\search.py\": 1682861531.6672454, \"C:\\\\Users\\\\pierr\\\\AppData\\\\Local\\\\Programs\\\\Python\\\\Python311\\\\Lib\\\\site-packages\\\\prompt_toolkit\\\\validation.py\": 1682861531.669245, \"C:\\\\Users\\\\pierr\\\\AppData\\\\Local\\\\Programs\\\\Python\\\\Python311\\\\Lib\\\\site-packages\\\\prompt_toolkit\\\\buffer.py\": 1682861531.6612127, \"C:\\\\Users\\\\pierr\\\\AppData\\\\Local\\\\Programs\\\\Python\\\\Python311\\\\Lib\\\\site-packages\\\\prompt_toolkit\\\\input\\\\base.py\": 1682861531.694918, \"C:\\\\Users\\\\pierr\\\\AppData\\\\Local\\\\Programs\\\\Python\\\\Python311\\\\Lib\\\\site-packages\\\\prompt_toolkit\\\\input\\\\defaults.py\": 1682861531.694918, \"C:\\\\Users\\\\pierr\\\\AppData\\\\Local\\\\Programs\\\\Python\\\\Python311\\\\Lib\\\\site-packages\\\\prompt_toolkit\\\\input\\\\__init__.py\": 1682861531.6934106, \"C:\\\\Users\\\\pierr\\\\AppData\\\\Local\\\\Programs\\\\Python\\\\Python311\\\\Lib\\\\site-packages\\\\prompt_toolkit\\\\input\\\\typeahead.py\": 1682861531.6974416, \"C:\\\\Users\\\\pierr\\\\AppData\\\\Local\\\\Programs\\\\Python\\\\Python311\\\\Lib\\\\site-packages\\\\prompt_toolkit\\\\key_binding\\\\bindings\\\\__init__.py\": 1682861531.70344, \"C:\\\\Users\\\\pierr\\\\AppData\\\\Local\\\\Programs\\\\Python\\\\Python311\\\\Lib\\\\site-packages\\\\prompt_toolkit\\\\key_binding\\\\bindings\\\\scroll.py\": 1682861531.708472, \"C:\\\\Users\\\\pierr\\\\AppData\\\\Local\\\\Programs\\\\Python\\\\Python311\\\\Lib\\\\site-packages\\\\prompt_toolkit\\\\key_binding\\\\bindings\\\\page_navigation.py\": 1682861531.708472, \"C:\\\\Users\\\\pierr\\\\AppData\\\\Local\\\\Programs\\\\Python\\\\Python311\\\\Lib\\\\site-packages\\\\prompt_toolkit\\\\lexers\\\\base.py\": 1682861531.7175126, \"C:\\\\Users\\\\pierr\\\\AppData\\\\Local\\\\Programs\\\\Python\\\\Python311\\\\Lib\\\\site-packages\\\\prompt_toolkit\\\\lexers\\\\pygments.py\": 1682861531.7185118, \"C:\\\\Users\\\\pierr\\\\AppData\\\\Local\\\\Programs\\\\Python\\\\Python311\\\\Lib\\\\site-packages\\\\prompt_toolkit\\\\lexers\\\\__init__.py\": 1682861531.7175126, \"C:\\\\Users\\\\pierr\\\\AppData\\\\Local\\\\Programs\\\\Python\\\\Python311\\\\Lib\\\\site-packages\\\\prompt_toolkit\\\\layout\\\\utils.py\": 1682861531.7165036, \"C:\\\\Users\\\\pierr\\\\AppData\\\\Local\\\\Programs\\\\Python\\\\Python311\\\\Lib\\\\site-packages\\\\prompt_toolkit\\\\layout\\\\processors.py\": 1682861531.7149856, \"C:\\\\Users\\\\pierr\\\\AppData\\\\Local\\\\Programs\\\\Python\\\\Python311\\\\Lib\\\\site-packages\\\\prompt_toolkit\\\\layout\\\\controls.py\": 1682861531.711478, \"C:\\\\Users\\\\pierr\\\\AppData\\\\Local\\\\Programs\\\\Python\\\\Python311\\\\Lib\\\\site-packages\\\\prompt_toolkit\\\\layout\\\\dimension.py\": 1682861531.712478, \"C:\\\\Users\\\\pierr\\\\AppData\\\\Local\\\\Programs\\\\Python\\\\Python311\\\\Lib\\\\site-packages\\\\prompt_toolkit\\\\layout\\\\margins.py\": 1682861531.713478, \"C:\\\\Users\\\\pierr\\\\AppData\\\\Local\\\\Programs\\\\Python\\\\Python311\\\\Lib\\\\site-packages\\\\prompt_toolkit\\\\layout\\\\mouse_handlers.py\": 1682861531.7149856, \"C:\\\\Users\\\\pierr\\\\AppData\\\\Local\\\\Programs\\\\Python\\\\Python311\\\\Lib\\\\site-packages\\\\prompt_toolkit\\\\layout\\\\screen.py\": 1682861531.7149856, \"C:\\\\Users\\\\pierr\\\\AppData\\\\Local\\\\Programs\\\\Python\\\\Python311\\\\Lib\\\\site-packages\\\\prompt_toolkit\\\\layout\\\\containers.py\": 1682861531.711478, \"C:\\\\Users\\\\pierr\\\\AppData\\\\Local\\\\Programs\\\\Python\\\\Python311\\\\Lib\\\\site-packages\\\\prompt_toolkit\\\\layout\\\\layout.py\": 1682861531.713478, \"C:\\\\Users\\\\pierr\\\\AppData\\\\Local\\\\Programs\\\\Python\\\\Python311\\\\Lib\\\\site-packages\\\\prompt_toolkit\\\\layout\\\\menus.py\": 1682861531.713478, \"C:\\\\Users\\\\pierr\\\\AppData\\\\Local\\\\Programs\\\\Python\\\\Python311\\\\Lib\\\\site-packages\\\\prompt_toolkit\\\\layout\\\\scrollable_pane.py\": 1682861531.7165036, \"C:\\\\Users\\\\pierr\\\\AppData\\\\Local\\\\Programs\\\\Python\\\\Python311\\\\Lib\\\\site-packages\\\\prompt_toolkit\\\\layout\\\\__init__.py\": 1682861531.7104778, \"C:\\\\Users\\\\pierr\\\\AppData\\\\Local\\\\Programs\\\\Python\\\\Python311\\\\Lib\\\\site-packages\\\\prompt_toolkit\\\\key_binding\\\\bindings\\\\completion.py\": 1682861531.704946, \"C:\\\\Users\\\\pierr\\\\AppData\\\\Local\\\\Programs\\\\Python\\\\Python311\\\\Lib\\\\site-packages\\\\prompt_toolkit\\\\key_binding\\\\bindings\\\\named_commands.py\": 1682861531.707472, \"C:\\\\Users\\\\pierr\\\\AppData\\\\Local\\\\Programs\\\\Python\\\\Python311\\\\Lib\\\\site-packages\\\\prompt_toolkit\\\\key_binding\\\\bindings\\\\basic.py\": 1682861531.70344, \"C:\\\\Users\\\\pierr\\\\AppData\\\\Local\\\\Programs\\\\Python\\\\Python311\\\\Lib\\\\site-packages\\\\prompt_toolkit\\\\key_binding\\\\bindings\\\\cpr.py\": 1682861531.704946, \"C:\\\\Users\\\\pierr\\\\AppData\\\\Local\\\\Programs\\\\Python\\\\Python311\\\\Lib\\\\site-packages\\\\prompt_toolkit\\\\key_binding\\\\bindings\\\\emacs.py\": 1682861531.704946, \"C:\\\\Users\\\\pierr\\\\AppData\\\\Local\\\\Programs\\\\Python\\\\Python311\\\\Lib\\\\site-packages\\\\prompt_toolkit\\\\key_binding\\\\bindings\\\\mouse.py\": 1682861531.706465, \"C:\\\\Users\\\\pierr\\\\AppData\\\\Local\\\\Programs\\\\Python\\\\Python311\\\\Lib\\\\site-packages\\\\prompt_toolkit\\\\input\\\\ansi_escape_sequences.py\": 1682861531.694918, \"C:\\\\Users\\\\pierr\\\\AppData\\\\Local\\\\Programs\\\\Python\\\\Python311\\\\Lib\\\\site-packages\\\\prompt_toolkit\\\\input\\\\vt100_parser.py\": 1682861531.6984406, \"C:\\\\Users\\\\pierr\\\\AppData\\\\Local\\\\Programs\\\\Python\\\\Python311\\\\Lib\\\\site-packages\\\\prompt_toolkit\\\\key_binding\\\\digraphs.py\": 1682861531.7004423, \"C:\\\\Users\\\\pierr\\\\AppData\\\\Local\\\\Programs\\\\Python\\\\Python311\\\\Lib\\\\site-packages\\\\prompt_toolkit\\\\key_binding\\\\bindings\\\\vi.py\": 1682861531.709478, \"C:\\\\Users\\\\pierr\\\\AppData\\\\Local\\\\Programs\\\\Python\\\\Python311\\\\Lib\\\\site-packages\\\\prompt_toolkit\\\\key_binding\\\\defaults.py\": 1682861531.7004423, \"C:\\\\Users\\\\pierr\\\\AppData\\\\Local\\\\Programs\\\\Python\\\\Python311\\\\Lib\\\\site-packages\\\\prompt_toolkit\\\\key_binding\\\\emacs_state.py\": 1682861531.7014408, \"C:\\\\Users\\\\pierr\\\\AppData\\\\Local\\\\Programs\\\\Python\\\\Python311\\\\Lib\\\\site-packages\\\\prompt_toolkit\\\\layout\\\\dummy.py\": 1682861531.712478, \"C:\\\\Users\\\\pierr\\\\AppData\\\\Local\\\\Programs\\\\Python\\\\Python311\\\\Lib\\\\site-packages\\\\prompt_toolkit\\\\renderer.py\": 1682861531.6672454, \"C:\\\\Users\\\\pierr\\\\AppData\\\\Local\\\\Programs\\\\Python\\\\Python311\\\\Lib\\\\site-packages\\\\prompt_toolkit\\\\application\\\\application.py\": 1682861531.6712449, \"C:\\\\Users\\\\pierr\\\\AppData\\\\Local\\\\Programs\\\\Python\\\\Python311\\\\Lib\\\\site-packages\\\\prompt_toolkit\\\\application\\\\dummy.py\": 1682861531.672246, \"C:\\\\Users\\\\pierr\\\\AppData\\\\Local\\\\Programs\\\\Python\\\\Python311\\\\Lib\\\\site-packages\\\\prompt_toolkit\\\\application\\\\__init__.py\": 1682861531.670245, \"C:\\\\Users\\\\pierr\\\\AppData\\\\Local\\\\Programs\\\\Python\\\\Python311\\\\Lib\\\\site-packages\\\\prompt_toolkit\\\\key_binding\\\\bindings\\\\focus.py\": 1682861531.706465, \"C:\\\\Users\\\\pierr\\\\AppData\\\\Local\\\\Programs\\\\Python\\\\Python311\\\\Lib\\\\site-packages\\\\prompt_toolkit\\\\widgets\\\\toolbars.py\": 1682861531.733558, \"C:\\\\Users\\\\pierr\\\\AppData\\\\Local\\\\Programs\\\\Python\\\\Python311\\\\Lib\\\\site-packages\\\\prompt_toolkit\\\\widgets\\\\base.py\": 1682861531.7325585, \"C:\\\\Users\\\\pierr\\\\AppData\\\\Local\\\\Programs\\\\Python\\\\Python311\\\\Lib\\\\site-packages\\\\prompt_toolkit\\\\widgets\\\\dialogs.py\": 1682861531.7325585, \"C:\\\\Users\\\\pierr\\\\AppData\\\\Local\\\\Programs\\\\Python\\\\Python311\\\\Lib\\\\site-packages\\\\prompt_toolkit\\\\widgets\\\\menus.py\": 1682861531.733558, \"C:\\\\Users\\\\pierr\\\\AppData\\\\Local\\\\Programs\\\\Python\\\\Python311\\\\Lib\\\\site-packages\\\\prompt_toolkit\\\\widgets\\\\__init__.py\": 1682861531.731558, \"C:\\\\Users\\\\pierr\\\\AppData\\\\Local\\\\Programs\\\\Python\\\\Python311\\\\Lib\\\\site-packages\\\\prompt_toolkit\\\\shortcuts\\\\dialogs.py\": 1682861531.7250278, \"C:\\\\Users\\\\pierr\\\\AppData\\\\Local\\\\Programs\\\\Python\\\\Python311\\\\Lib\\\\site-packages\\\\prompt_toolkit\\\\shortcuts\\\\progress_bar\\\\formatters.py\": 1682861531.727563, \"C:\\\\Users\\\\pierr\\\\AppData\\\\Local\\\\Programs\\\\Python\\\\Python311\\\\Lib\\\\site-packages\\\\prompt_toolkit\\\\shortcuts\\\\progress_bar\\\\base.py\": 1682861531.727563, \"C:\\\\Users\\\\pierr\\\\AppData\\\\Local\\\\Programs\\\\Python\\\\Python311\\\\Lib\\\\site-packages\\\\prompt_toolkit\\\\shortcuts\\\\progress_bar\\\\__init__.py\": 1682861531.7265508, \"C:\\\\Users\\\\pierr\\\\AppData\\\\Local\\\\Programs\\\\Python\\\\Python311\\\\Lib\\\\site-packages\\\\prompt_toolkit\\\\key_binding\\\\bindings\\\\auto_suggest.py\": 1682861531.70344, \"C:\\\\Users\\\\pierr\\\\AppData\\\\Local\\\\Programs\\\\Python\\\\Python311\\\\Lib\\\\site-packages\\\\prompt_toolkit\\\\key_binding\\\\bindings\\\\open_in_editor.py\": 1682861531.707472, \"C:\\\\Users\\\\pierr\\\\AppData\\\\Local\\\\Programs\\\\Python\\\\Python311\\\\Lib\\\\site-packages\\\\prompt_toolkit\\\\shortcuts\\\\prompt.py\": 1682861531.7250278, \"C:\\\\Users\\\\pierr\\\\AppData\\\\Local\\\\Programs\\\\Python\\\\Python311\\\\Lib\\\\site-packages\\\\prompt_toolkit\\\\shortcuts\\\\utils.py\": 1682861531.7265508, \"C:\\\\Users\\\\pierr\\\\AppData\\\\Local\\\\Programs\\\\Python\\\\Python311\\\\Lib\\\\site-packages\\\\prompt_toolkit\\\\shortcuts\\\\__init__.py\": 1682861531.723516, \"C:\\\\Users\\\\pierr\\\\AppData\\\\Local\\\\Programs\\\\Python\\\\Python311\\\\Lib\\\\site-packages\\\\prompt_toolkit\\\\__init__.py\": 1682861531.6602087, \"C:\\\\Users\\\\pierr\\\\AppData\\\\Local\\\\Programs\\\\Python\\\\Python311\\\\Lib\\\\site-packages\\\\prompt_toolkit\\\\patch_stdout.py\": 1682861531.666238, \"C:\\\\Users\\\\pierr\\\\AppData\\\\Local\\\\Programs\\\\Python\\\\Python311\\\\DLLs\\\\unicodedata.pyd\": 1680645876.0, \"C:\\\\Users\\\\pierr\\\\AppData\\\\Local\\\\Programs\\\\Python\\\\Python311\\\\Lib\\\\site-packages\\\\IPython\\\\core\\\\guarded_eval.py\": 1682861541.599423, \"C:\\\\Users\\\\pierr\\\\AppData\\\\Local\\\\Programs\\\\Python\\\\Python311\\\\Lib\\\\site-packages\\\\IPython\\\\core\\\\latex_symbols.py\": 1682861541.6044226, \"C:\\\\Users\\\\pierr\\\\AppData\\\\Local\\\\Programs\\\\Python\\\\Python311\\\\Lib\\\\site-packages\\\\IPython\\\\utils\\\\generics.py\": 1682861541.7007728, \"C:\\\\Users\\\\pierr\\\\AppData\\\\Local\\\\Programs\\\\Python\\\\Python311\\\\Lib\\\\site-packages\\\\parso\\\\utils.py\": 1682861533.090129, \"C:\\\\Users\\\\pierr\\\\AppData\\\\Local\\\\Programs\\\\Python\\\\Python311\\\\Lib\\\\site-packages\\\\parso\\\\tree.py\": 1682861533.090129, \"C:\\\\Users\\\\pierr\\\\AppData\\\\Local\\\\Programs\\\\Python\\\\Python311\\\\Lib\\\\site-packages\\\\parso\\\\python\\\\__init__.py\": 1682861533.09213, \"C:\\\\Users\\\\pierr\\\\AppData\\\\Local\\\\Programs\\\\Python\\\\Python311\\\\Lib\\\\site-packages\\\\parso\\\\python\\\\token.py\": 1682861533.099156, \"C:\\\\Users\\\\pierr\\\\AppData\\\\Local\\\\Programs\\\\Python\\\\Python311\\\\Lib\\\\site-packages\\\\parso\\\\python\\\\tokenize.py\": 1682861533.099156, \"C:\\\\Users\\\\pierr\\\\AppData\\\\Local\\\\Programs\\\\Python\\\\Python311\\\\Lib\\\\site-packages\\\\parso\\\\pgen2\\\\grammar_parser.py\": 1682861533.09213, \"C:\\\\Users\\\\pierr\\\\AppData\\\\Local\\\\Programs\\\\Python\\\\Python311\\\\Lib\\\\site-packages\\\\parso\\\\pgen2\\\\generator.py\": 1682861533.091131, \"C:\\\\Users\\\\pierr\\\\AppData\\\\Local\\\\Programs\\\\Python\\\\Python311\\\\Lib\\\\site-packages\\\\parso\\\\pgen2\\\\__init__.py\": 1682861533.091131, \"C:\\\\Users\\\\pierr\\\\AppData\\\\Local\\\\Programs\\\\Python\\\\Python311\\\\Lib\\\\site-packages\\\\parso\\\\parser.py\": 1682861533.0891228, \"C:\\\\Users\\\\pierr\\\\AppData\\\\Local\\\\Programs\\\\Python\\\\Python311\\\\Lib\\\\site-packages\\\\parso\\\\_compatibility.py\": 1682861533.0864499, \"C:\\\\Users\\\\pierr\\\\AppData\\\\Local\\\\Programs\\\\Python\\\\Python311\\\\Lib\\\\difflib.py\": 1680645850.0, \"C:\\\\Users\\\\pierr\\\\AppData\\\\Local\\\\Programs\\\\Python\\\\Python311\\\\Lib\\\\site-packages\\\\parso\\\\python\\\\prefix.py\": 1682861533.0981622, \"C:\\\\Users\\\\pierr\\\\AppData\\\\Local\\\\Programs\\\\Python\\\\Python311\\\\Lib\\\\site-packages\\\\parso\\\\python\\\\tree.py\": 1682861533.1001604, \"C:\\\\Users\\\\pierr\\\\AppData\\\\Local\\\\Programs\\\\Python\\\\Python311\\\\Lib\\\\site-packages\\\\parso\\\\python\\\\parser.py\": 1682861533.0971568, \"C:\\\\Users\\\\pierr\\\\AppData\\\\Local\\\\Programs\\\\Python\\\\Python311\\\\Lib\\\\site-packages\\\\parso\\\\python\\\\diff.py\": 1682861533.0931294, \"C:\\\\Users\\\\pierr\\\\AppData\\\\Local\\\\Programs\\\\Python\\\\Python311\\\\Lib\\\\site-packages\\\\parso\\\\cache.py\": 1682861533.0864499, \"C:\\\\Users\\\\pierr\\\\AppData\\\\Local\\\\Programs\\\\Python\\\\Python311\\\\Lib\\\\site-packages\\\\parso\\\\normalizer.py\": 1682861533.0886095, \"C:\\\\Users\\\\pierr\\\\AppData\\\\Local\\\\Programs\\\\Python\\\\Python311\\\\Lib\\\\site-packages\\\\parso\\\\python\\\\errors.py\": 1682861533.0931294, \"C:\\\\Users\\\\pierr\\\\AppData\\\\Local\\\\Programs\\\\Python\\\\Python311\\\\Lib\\\\site-packages\\\\parso\\\\python\\\\pep8.py\": 1682861533.0981622, \"C:\\\\Users\\\\pierr\\\\AppData\\\\Local\\\\Programs\\\\Python\\\\Python311\\\\Lib\\\\site-packages\\\\parso\\\\file_io.py\": 1682861533.0876079, \"C:\\\\Users\\\\pierr\\\\AppData\\\\Local\\\\Programs\\\\Python\\\\Python311\\\\Lib\\\\site-packages\\\\parso\\\\grammar.py\": 1682861533.0876079, \"C:\\\\Users\\\\pierr\\\\AppData\\\\Local\\\\Programs\\\\Python\\\\Python311\\\\Lib\\\\site-packages\\\\parso\\\\__init__.py\": 1682861533.085449, \"C:\\\\Users\\\\pierr\\\\AppData\\\\Local\\\\Programs\\\\Python\\\\Python311\\\\Lib\\\\site-packages\\\\jedi\\\\parser_utils.py\": 1682861538.2215688, \"C:\\\\Users\\\\pierr\\\\AppData\\\\Local\\\\Programs\\\\Python\\\\Python311\\\\Lib\\\\site-packages\\\\jedi\\\\debug.py\": 1682861538.220569, \"C:\\\\Users\\\\pierr\\\\AppData\\\\Local\\\\Programs\\\\Python\\\\Python311\\\\Lib\\\\site-packages\\\\jedi\\\\settings.py\": 1682861538.2215688, \"C:\\\\Users\\\\pierr\\\\AppData\\\\Local\\\\Programs\\\\Python\\\\Python311\\\\Lib\\\\site-packages\\\\jedi\\\\cache.py\": 1682861538.2195697, \"C:\\\\Users\\\\pierr\\\\AppData\\\\Local\\\\Programs\\\\Python\\\\Python311\\\\Lib\\\\site-packages\\\\jedi\\\\file_io.py\": 1682861538.220569, \"C:\\\\Users\\\\pierr\\\\AppData\\\\Local\\\\Programs\\\\Python\\\\Python311\\\\Lib\\\\site-packages\\\\jedi\\\\inference\\\\cache.py\": 1682861538.2328842, \"C:\\\\Users\\\\pierr\\\\AppData\\\\Local\\\\Programs\\\\Python\\\\Python311\\\\Lib\\\\site-packages\\\\jedi\\\\inference\\\\helpers.py\": 1682861538.2369137, \"C:\\\\Users\\\\pierr\\\\AppData\\\\Local\\\\Programs\\\\Python\\\\Python311\\\\Lib\\\\site-packages\\\\jedi\\\\inference\\\\utils.py\": 1682861538.2429261, \"C:\\\\Users\\\\pierr\\\\AppData\\\\Local\\\\Programs\\\\Python\\\\Python311\\\\Lib\\\\site-packages\\\\jedi\\\\inference\\\\base_value.py\": 1682861538.2328842, \"C:\\\\Users\\\\pierr\\\\AppData\\\\Local\\\\Programs\\\\Python\\\\Python311\\\\Lib\\\\site-packages\\\\jedi\\\\inference\\\\sys_path.py\": 1682861538.2419271, \"C:\\\\Users\\\\pierr\\\\AppData\\\\Local\\\\Programs\\\\Python\\\\Python311\\\\Lib\\\\site-packages\\\\jedi\\\\inference\\\\recursion.py\": 1682861538.2399273, \"C:\\\\Users\\\\pierr\\\\AppData\\\\Local\\\\Programs\\\\Python\\\\Python311\\\\Lib\\\\site-packages\\\\jedi\\\\inference\\\\flow_analysis.py\": 1682861538.236391, \"C:\\\\Users\\\\pierr\\\\AppData\\\\Local\\\\Programs\\\\Python\\\\Python311\\\\Lib\\\\site-packages\\\\jedi\\\\common.py\": 1682861538.2195697, \"C:\\\\Users\\\\pierr\\\\AppData\\\\Local\\\\Programs\\\\Python\\\\Python311\\\\Lib\\\\site-packages\\\\jedi\\\\inference\\\\lazy_value.py\": 1682861538.237921, \"C:\\\\Users\\\\pierr\\\\AppData\\\\Local\\\\Programs\\\\Python\\\\Python311\\\\Lib\\\\site-packages\\\\jedi\\\\inference\\\\docstrings.py\": 1682861538.233884, \"C:\\\\Users\\\\pierr\\\\AppData\\\\Local\\\\Programs\\\\Python\\\\Python311\\\\Lib\\\\site-packages\\\\jedi\\\\plugins\\\\__init__.py\": 1682861538.256464, \"C:\\\\Users\\\\pierr\\\\AppData\\\\Local\\\\Programs\\\\Python\\\\Python311\\\\Lib\\\\site-packages\\\\jedi\\\\inference\\\\names.py\": 1682861538.237921, \"C:\\\\Users\\\\pierr\\\\AppData\\\\Local\\\\Programs\\\\Python\\\\Python311\\\\Lib\\\\site-packages\\\\jedi\\\\inference\\\\filters.py\": 1682861538.2348845, \"C:\\\\Users\\\\pierr\\\\AppData\\\\Local\\\\Programs\\\\Python\\\\Python311\\\\Lib\\\\site-packages\\\\jedi\\\\inference\\\\compiled\\\\getattr_static.py\": 1682861538.2439268, \"C:\\\\Users\\\\pierr\\\\AppData\\\\Local\\\\Programs\\\\Python\\\\Python311\\\\Lib\\\\site-packages\\\\jedi\\\\inference\\\\compiled\\\\access.py\": 1682861538.2439268, \"C:\\\\Users\\\\pierr\\\\AppData\\\\Local\\\\Programs\\\\Python\\\\Python311\\\\Lib\\\\site-packages\\\\jedi\\\\inference\\\\signature.py\": 1682861538.2409263, \"C:\\\\Users\\\\pierr\\\\AppData\\\\Local\\\\Programs\\\\Python\\\\Python311\\\\Lib\\\\site-packages\\\\jedi\\\\inference\\\\context.py\": 1682861538.233884, \"C:\\\\Users\\\\pierr\\\\AppData\\\\Local\\\\Programs\\\\Python\\\\Python311\\\\Lib\\\\site-packages\\\\jedi\\\\inference\\\\compiled\\\\value.py\": 1682861538.2449267, \"C:\\\\Users\\\\pierr\\\\AppData\\\\Local\\\\Programs\\\\Python\\\\Python311\\\\Lib\\\\site-packages\\\\jedi\\\\inference\\\\compiled\\\\__init__.py\": 1682861538.2429261, \"C:\\\\Users\\\\pierr\\\\AppData\\\\Local\\\\Programs\\\\Python\\\\Python311\\\\Lib\\\\site-packages\\\\jedi\\\\inference\\\\analysis.py\": 1682861538.2318847, \"C:\\\\Users\\\\pierr\\\\AppData\\\\Local\\\\Programs\\\\Python\\\\Python311\\\\Lib\\\\site-packages\\\\jedi\\\\inference\\\\gradual\\\\__init__.py\": 1682861538.246951, \"C:\\\\Users\\\\pierr\\\\AppData\\\\Local\\\\Programs\\\\Python\\\\Python311\\\\Lib\\\\site-packages\\\\jedi\\\\inference\\\\value\\\\module.py\": 1682861538.254958, \"C:\\\\Users\\\\pierr\\\\AppData\\\\Local\\\\Programs\\\\Python\\\\Python311\\\\Lib\\\\site-packages\\\\jedi\\\\inference\\\\value\\\\dynamic_arrays.py\": 1682861538.2529576, \"C:\\\\Users\\\\pierr\\\\AppData\\\\Local\\\\Programs\\\\Python\\\\Python311\\\\Lib\\\\site-packages\\\\jedi\\\\inference\\\\value\\\\iterable.py\": 1682861538.254958, \"C:\\\\Users\\\\pierr\\\\AppData\\\\Local\\\\Programs\\\\Python\\\\Python311\\\\Lib\\\\site-packages\\\\jedi\\\\inference\\\\arguments.py\": 1682861538.2318847, \"C:\\\\Users\\\\pierr\\\\AppData\\\\Local\\\\Programs\\\\Python\\\\Python311\\\\Lib\\\\site-packages\\\\jedi\\\\inference\\\\parser_cache.py\": 1682861538.2389274, \"C:\\\\Users\\\\pierr\\\\AppData\\\\Local\\\\Programs\\\\Python\\\\Python311\\\\Lib\\\\site-packages\\\\jedi\\\\inference\\\\gradual\\\\generics.py\": 1682861538.2489583, \"C:\\\\Users\\\\pierr\\\\AppData\\\\Local\\\\Programs\\\\Python\\\\Python311\\\\Lib\\\\site-packages\\\\jedi\\\\inference\\\\value\\\\function.py\": 1682861538.2539575, \"C:\\\\Users\\\\pierr\\\\AppData\\\\Local\\\\Programs\\\\Python\\\\Python311\\\\Lib\\\\site-packages\\\\jedi\\\\inference\\\\value\\\\klass.py\": 1682861538.254958, \"C:\\\\Users\\\\pierr\\\\AppData\\\\Local\\\\Programs\\\\Python\\\\Python311\\\\Lib\\\\site-packages\\\\jedi\\\\inference\\\\value\\\\instance.py\": 1682861538.254958, \"C:\\\\Users\\\\pierr\\\\AppData\\\\Local\\\\Programs\\\\Python\\\\Python311\\\\Lib\\\\site-packages\\\\jedi\\\\inference\\\\value\\\\__init__.py\": 1682861538.2519577, \"C:\\\\Users\\\\pierr\\\\AppData\\\\Local\\\\Programs\\\\Python\\\\Python311\\\\Lib\\\\site-packages\\\\jedi\\\\inference\\\\gradual\\\\base.py\": 1682861538.247958, \"C:\\\\Users\\\\pierr\\\\AppData\\\\Local\\\\Programs\\\\Python\\\\Python311\\\\Lib\\\\site-packages\\\\jedi\\\\inference\\\\gradual\\\\type_var.py\": 1682861538.2499585, \"C:\\\\Users\\\\pierr\\\\AppData\\\\Local\\\\Programs\\\\Python\\\\Python311\\\\Lib\\\\site-packages\\\\jedi\\\\inference\\\\gradual\\\\typing.py\": 1682861538.2509582, \"C:\\\\Users\\\\pierr\\\\AppData\\\\Local\\\\Programs\\\\Python\\\\Python311\\\\Lib\\\\site-packages\\\\jedi\\\\inference\\\\gradual\\\\stub_value.py\": 1682861538.2499585, \"C:\\\\Users\\\\pierr\\\\AppData\\\\Local\\\\Programs\\\\Python\\\\Python311\\\\Lib\\\\site-packages\\\\jedi\\\\inference\\\\gradual\\\\typeshed.py\": 1682861538.2509582, \"C:\\\\Users\\\\pierr\\\\AppData\\\\Local\\\\Programs\\\\Python\\\\Python311\\\\Lib\\\\site-packages\\\\jedi\\\\_compatibility.py\": 1682861538.2185702, \"C:\\\\Users\\\\pierr\\\\AppData\\\\Local\\\\Programs\\\\Python\\\\Python311\\\\Lib\\\\site-packages\\\\jedi\\\\inference\\\\compiled\\\\subprocess\\\\functions.py\": 1682861538.246951, \"C:\\\\Users\\\\pierr\\\\AppData\\\\Local\\\\Programs\\\\Python\\\\Python311\\\\Lib\\\\site-packages\\\\jedi\\\\api\\\\exceptions.py\": 1682861538.225568, \"C:\\\\Users\\\\pierr\\\\AppData\\\\Local\\\\Programs\\\\Python\\\\Python311\\\\Lib\\\\site-packages\\\\jedi\\\\inference\\\\compiled\\\\subprocess\\\\__init__.py\": 1682861538.2449267, \"C:\\\\Users\\\\pierr\\\\AppData\\\\Local\\\\Programs\\\\Python\\\\Python311\\\\Lib\\\\site-packages\\\\jedi\\\\inference\\\\imports.py\": 1682861538.2369137, \"C:\\\\Users\\\\pierr\\\\AppData\\\\Local\\\\Programs\\\\Python\\\\Python311\\\\Lib\\\\site-packages\\\\jedi\\\\inference\\\\param.py\": 1682861538.2389274, \"C:\\\\Users\\\\pierr\\\\AppData\\\\Local\\\\Programs\\\\Python\\\\Python311\\\\Lib\\\\site-packages\\\\jedi\\\\inference\\\\gradual\\\\annotation.py\": 1682861538.247958, \"C:\\\\Users\\\\pierr\\\\AppData\\\\Local\\\\Programs\\\\Python\\\\Python311\\\\Lib\\\\site-packages\\\\jedi\\\\inference\\\\value\\\\decorator.py\": 1682861538.2529576, \"C:\\\\Users\\\\pierr\\\\AppData\\\\Local\\\\Programs\\\\Python\\\\Python311\\\\Lib\\\\site-packages\\\\jedi\\\\inference\\\\syntax_tree.py\": 1682861538.2419271, \"C:\\\\Users\\\\pierr\\\\AppData\\\\Local\\\\Programs\\\\Python\\\\Python311\\\\Lib\\\\site-packages\\\\jedi\\\\inference\\\\__init__.py\": 1682861538.2308846, \"C:\\\\Users\\\\pierr\\\\AppData\\\\Local\\\\Programs\\\\Python\\\\Python311\\\\Lib\\\\site-packages\\\\jedi\\\\inference\\\\gradual\\\\conversion.py\": 1682861538.2489583, \"C:\\\\Users\\\\pierr\\\\AppData\\\\Local\\\\Programs\\\\Python\\\\Python311\\\\Lib\\\\site-packages\\\\jedi\\\\inference\\\\compiled\\\\mixed.py\": 1682861538.2449267, \"C:\\\\Users\\\\pierr\\\\AppData\\\\Local\\\\Programs\\\\Python\\\\Python311\\\\Lib\\\\pydoc_data\\\\__init__.py\": 1680645850.0, \"C:\\\\Users\\\\pierr\\\\AppData\\\\Local\\\\Programs\\\\Python\\\\Python311\\\\Lib\\\\pydoc_data\\\\topics.py\": 1680645850.0, \"C:\\\\Users\\\\pierr\\\\AppData\\\\Local\\\\Programs\\\\Python\\\\Python311\\\\Lib\\\\site-packages\\\\jedi\\\\api\\\\keywords.py\": 1682861538.227878, \"C:\\\\Users\\\\pierr\\\\AppData\\\\Local\\\\Programs\\\\Python\\\\Python311\\\\Lib\\\\site-packages\\\\jedi\\\\api\\\\completion_cache.py\": 1682861538.2245686, \"C:\\\\Users\\\\pierr\\\\AppData\\\\Local\\\\Programs\\\\Python\\\\Python311\\\\Lib\\\\site-packages\\\\jedi\\\\api\\\\helpers.py\": 1682861538.2265692, \"C:\\\\Users\\\\pierr\\\\AppData\\\\Local\\\\Programs\\\\Python\\\\Python311\\\\Lib\\\\site-packages\\\\jedi\\\\api\\\\classes.py\": 1682861538.223569, \"C:\\\\Users\\\\pierr\\\\AppData\\\\Local\\\\Programs\\\\Python\\\\Python311\\\\Lib\\\\site-packages\\\\jedi\\\\api\\\\interpreter.py\": 1682861538.227878, \"C:\\\\Users\\\\pierr\\\\AppData\\\\Local\\\\Programs\\\\Python\\\\Python311\\\\Lib\\\\site-packages\\\\jedi\\\\api\\\\strings.py\": 1682861538.2288842, \"C:\\\\Users\\\\pierr\\\\AppData\\\\Local\\\\Programs\\\\Python\\\\Python311\\\\Lib\\\\site-packages\\\\jedi\\\\api\\\\file_name.py\": 1682861538.2265692, \"C:\\\\Users\\\\pierr\\\\AppData\\\\Local\\\\Programs\\\\Python\\\\Python311\\\\Lib\\\\site-packages\\\\jedi\\\\inference\\\\docstring_utils.py\": 1682861538.233884, \"C:\\\\Users\\\\pierr\\\\AppData\\\\Local\\\\Programs\\\\Python\\\\Python311\\\\Lib\\\\site-packages\\\\jedi\\\\api\\\\completion.py\": 1682861538.2245686, \"C:\\\\Users\\\\pierr\\\\AppData\\\\Local\\\\Programs\\\\Python\\\\Python311\\\\Lib\\\\filecmp.py\": 1680645850.0, \"C:\\\\Users\\\\pierr\\\\AppData\\\\Local\\\\Programs\\\\Python\\\\Python311\\\\Lib\\\\site-packages\\\\jedi\\\\api\\\\environment.py\": 1682861538.225568, \"C:\\\\Users\\\\pierr\\\\AppData\\\\Local\\\\Programs\\\\Python\\\\Python311\\\\Lib\\\\site-packages\\\\jedi\\\\inference\\\\references.py\": 1682861538.2399273, \"C:\\\\Users\\\\pierr\\\\AppData\\\\Local\\\\Programs\\\\Python\\\\Python311\\\\Lib\\\\site-packages\\\\jedi\\\\api\\\\project.py\": 1682861538.227878, \"C:\\\\Users\\\\pierr\\\\AppData\\\\Local\\\\Programs\\\\Python\\\\Python311\\\\Lib\\\\site-packages\\\\jedi\\\\api\\\\errors.py\": 1682861538.225568, \"C:\\\\Users\\\\pierr\\\\AppData\\\\Local\\\\Programs\\\\Python\\\\Python311\\\\Lib\\\\site-packages\\\\jedi\\\\api\\\\refactoring\\\\__init__.py\": 1682861538.2298844, \"C:\\\\Users\\\\pierr\\\\AppData\\\\Local\\\\Programs\\\\Python\\\\Python311\\\\Lib\\\\site-packages\\\\jedi\\\\api\\\\refactoring\\\\extract.py\": 1682861538.2298844, \"C:\\\\Users\\\\pierr\\\\AppData\\\\Local\\\\Programs\\\\Python\\\\Python311\\\\Lib\\\\site-packages\\\\jedi\\\\inference\\\\gradual\\\\utils.py\": 1682861538.2519577, \"C:\\\\Users\\\\pierr\\\\AppData\\\\Local\\\\Programs\\\\Python\\\\Python311\\\\Lib\\\\site-packages\\\\jedi\\\\api\\\\__init__.py\": 1682861538.223569, \"C:\\\\Users\\\\pierr\\\\AppData\\\\Local\\\\Programs\\\\Python\\\\Python311\\\\Lib\\\\site-packages\\\\jedi\\\\plugins\\\\stdlib.py\": 1682861538.258984, \"C:\\\\Users\\\\pierr\\\\AppData\\\\Local\\\\Programs\\\\Python\\\\Python311\\\\Lib\\\\site-packages\\\\jedi\\\\plugins\\\\flask.py\": 1682861538.257977, \"C:\\\\Users\\\\pierr\\\\AppData\\\\Local\\\\Programs\\\\Python\\\\Python311\\\\Lib\\\\site-packages\\\\jedi\\\\plugins\\\\pytest.py\": 1682861538.257977, \"C:\\\\Users\\\\pierr\\\\AppData\\\\Local\\\\Programs\\\\Python\\\\Python311\\\\Lib\\\\site-packages\\\\jedi\\\\plugins\\\\django.py\": 1682861538.257471, \"C:\\\\Users\\\\pierr\\\\AppData\\\\Local\\\\Programs\\\\Python\\\\Python311\\\\Lib\\\\site-packages\\\\jedi\\\\plugins\\\\registry.py\": 1682861538.258984, \"C:\\\\Users\\\\pierr\\\\AppData\\\\Local\\\\Programs\\\\Python\\\\Python311\\\\Lib\\\\site-packages\\\\jedi\\\\__init__.py\": 1682861538.2175708, \"C:\\\\Users\\\\pierr\\\\AppData\\\\Local\\\\Programs\\\\Python\\\\Python311\\\\Lib\\\\site-packages\\\\IPython\\\\core\\\\completer.py\": 1682861541.59077, \"C:\\\\Users\\\\pierr\\\\AppData\\\\Local\\\\Programs\\\\Python\\\\Python311\\\\Lib\\\\site-packages\\\\IPython\\\\terminal\\\\ptutils.py\": 1682861541.669609, \"C:\\\\Users\\\\pierr\\\\AppData\\\\Local\\\\Programs\\\\Python\\\\Python311\\\\Lib\\\\site-packages\\\\IPython\\\\terminal\\\\shortcuts\\\\auto_match.py\": 1682861541.6766117, \"C:\\\\Users\\\\pierr\\\\AppData\\\\Local\\\\Programs\\\\Python\\\\Python311\\\\Lib\\\\site-packages\\\\IPython\\\\utils\\\\tokenutil.py\": 1682861541.710287, \"C:\\\\Users\\\\pierr\\\\AppData\\\\Local\\\\Programs\\\\Python\\\\Python311\\\\Lib\\\\site-packages\\\\IPython\\\\terminal\\\\shortcuts\\\\auto_suggest.py\": 1682861541.6766117, \"C:\\\\Users\\\\pierr\\\\AppData\\\\Local\\\\Programs\\\\Python\\\\Python311\\\\Lib\\\\site-packages\\\\IPython\\\\terminal\\\\shortcuts\\\\filters.py\": 1682861541.6766117, \"C:\\\\Users\\\\pierr\\\\AppData\\\\Local\\\\Programs\\\\Python\\\\Python311\\\\Lib\\\\site-packages\\\\IPython\\\\lib\\\\clipboard.py\": 1682861541.6534858, \"C:\\\\Users\\\\pierr\\\\AppData\\\\Local\\\\Programs\\\\Python\\\\Python311\\\\Lib\\\\site-packages\\\\IPython\\\\terminal\\\\shortcuts\\\\__init__.py\": 1682861541.6756117, \"C:\\\\Users\\\\pierr\\\\AppData\\\\Local\\\\Programs\\\\Python\\\\Python311\\\\Lib\\\\concurrent\\\\futures\\\\thread.py\": 1680645850.0, \"C:\\\\Users\\\\pierr\\\\AppData\\\\Local\\\\Programs\\\\Python\\\\Python311\\\\Lib\\\\site-packages\\\\IPython\\\\terminal\\\\debugger.py\": 1682861541.6665666, \"C:\\\\Users\\\\pierr\\\\AppData\\\\Local\\\\Programs\\\\Python\\\\Python311\\\\Lib\\\\site-packages\\\\IPython\\\\terminal\\\\magics.py\": 1682861541.6686082, \"C:\\\\Users\\\\pierr\\\\AppData\\\\Local\\\\Programs\\\\Python\\\\Python311\\\\Lib\\\\site-packages\\\\IPython\\\\terminal\\\\pt_inputhooks\\\\__init__.py\": 1682861541.6706088, \"C:\\\\Users\\\\pierr\\\\AppData\\\\Local\\\\Programs\\\\Python\\\\Python311\\\\Lib\\\\site-packages\\\\IPython\\\\terminal\\\\prompts.py\": 1682861541.669609, \"C:\\\\Users\\\\pierr\\\\AppData\\\\Local\\\\Programs\\\\Python\\\\Python311\\\\Lib\\\\site-packages\\\\IPython\\\\terminal\\\\interactiveshell.py\": 1682861541.6676092, \"C:\\\\Users\\\\pierr\\\\AppData\\\\Local\\\\Programs\\\\Python\\\\Python311\\\\Lib\\\\site-packages\\\\IPython\\\\core\\\\magics\\\\auto.py\": 1682861541.6134484, \"C:\\\\Users\\\\pierr\\\\AppData\\\\Local\\\\Programs\\\\Python\\\\Python311\\\\Lib\\\\site-packages\\\\IPython\\\\core\\\\magics\\\\basic.py\": 1682861541.6149545, \"C:\\\\Users\\\\pierr\\\\AppData\\\\Local\\\\Programs\\\\Python\\\\Python311\\\\Lib\\\\http\\\\__init__.py\": 1680645850.0, \"C:\\\\Users\\\\pierr\\\\AppData\\\\Local\\\\Programs\\\\Python\\\\Python311\\\\Lib\\\\email\\\\feedparser.py\": 1680645850.0, \"C:\\\\Users\\\\pierr\\\\AppData\\\\Local\\\\Programs\\\\Python\\\\Python311\\\\Lib\\\\email\\\\parser.py\": 1680645850.0, \"C:\\\\Users\\\\pierr\\\\AppData\\\\Local\\\\Programs\\\\Python\\\\Python311\\\\Lib\\\\http\\\\client.py\": 1680645850.0, \"C:\\\\Users\\\\pierr\\\\AppData\\\\Local\\\\Programs\\\\Python\\\\Python311\\\\Lib\\\\urllib\\\\response.py\": 1680645850.0, \"C:\\\\Users\\\\pierr\\\\AppData\\\\Local\\\\Programs\\\\Python\\\\Python311\\\\Lib\\\\urllib\\\\error.py\": 1680645850.0, \"C:\\\\Users\\\\pierr\\\\AppData\\\\Local\\\\Programs\\\\Python\\\\Python311\\\\Lib\\\\nturl2path.py\": 1680645850.0, \"C:\\\\Users\\\\pierr\\\\AppData\\\\Local\\\\Programs\\\\Python\\\\Python311\\\\Lib\\\\urllib\\\\request.py\": 1680645850.0, \"C:\\\\Users\\\\pierr\\\\AppData\\\\Local\\\\Programs\\\\Python\\\\Python311\\\\Lib\\\\site-packages\\\\IPython\\\\utils\\\\contexts.py\": 1682861541.6967585, \"C:\\\\Users\\\\pierr\\\\AppData\\\\Local\\\\Programs\\\\Python\\\\Python311\\\\Lib\\\\site-packages\\\\IPython\\\\core\\\\magics\\\\code.py\": 1682861541.6149545, \"C:\\\\Users\\\\pierr\\\\AppData\\\\Local\\\\Programs\\\\Python\\\\Python311\\\\Lib\\\\site-packages\\\\IPython\\\\core\\\\magics\\\\config.py\": 1682861541.6149545, \"C:\\\\Users\\\\pierr\\\\AppData\\\\Local\\\\Programs\\\\Python\\\\Python311\\\\Lib\\\\site-packages\\\\IPython\\\\core\\\\magics\\\\display.py\": 1682861541.616472, \"C:\\\\Users\\\\pierr\\\\AppData\\\\Local\\\\Programs\\\\Python\\\\Python311\\\\Lib\\\\profile.py\": 1680645850.0, \"C:\\\\Users\\\\pierr\\\\AppData\\\\Local\\\\Programs\\\\Python\\\\Python311\\\\Lib\\\\cProfile.py\": 1680645850.0, \"C:\\\\Users\\\\pierr\\\\AppData\\\\Local\\\\Programs\\\\Python\\\\Python311\\\\Lib\\\\pstats.py\": 1680645850.0, \"C:\\\\Users\\\\pierr\\\\AppData\\\\Local\\\\Programs\\\\Python\\\\Python311\\\\Lib\\\\timeit.py\": 1680645850.0, \"C:\\\\Users\\\\pierr\\\\AppData\\\\Local\\\\Programs\\\\Python\\\\Python311\\\\Lib\\\\site-packages\\\\IPython\\\\utils\\\\module_paths.py\": 1682861541.7037723, \"C:\\\\Users\\\\pierr\\\\AppData\\\\Local\\\\Programs\\\\Python\\\\Python311\\\\Lib\\\\site-packages\\\\IPython\\\\utils\\\\timing.py\": 1682861541.710287, \"C:\\\\Users\\\\pierr\\\\AppData\\\\Local\\\\Programs\\\\Python\\\\Python311\\\\Lib\\\\site-packages\\\\IPython\\\\core\\\\magics\\\\execution.py\": 1682861541.616472, \"C:\\\\Users\\\\pierr\\\\AppData\\\\Local\\\\Programs\\\\Python\\\\Python311\\\\Lib\\\\site-packages\\\\IPython\\\\core\\\\magics\\\\extension.py\": 1682861541.617479, \"C:\\\\Users\\\\pierr\\\\AppData\\\\Local\\\\Programs\\\\Python\\\\Python311\\\\Lib\\\\site-packages\\\\IPython\\\\core\\\\magics\\\\history.py\": 1682861541.617479, \"C:\\\\Users\\\\pierr\\\\AppData\\\\Local\\\\Programs\\\\Python\\\\Python311\\\\Lib\\\\site-packages\\\\IPython\\\\core\\\\magics\\\\logging.py\": 1682861541.618479, \"C:\\\\Users\\\\pierr\\\\AppData\\\\Local\\\\Programs\\\\Python\\\\Python311\\\\Lib\\\\site-packages\\\\IPython\\\\core\\\\magics\\\\namespace.py\": 1682861541.618479, \"C:\\\\Users\\\\pierr\\\\AppData\\\\Local\\\\Programs\\\\Python\\\\Python311\\\\Lib\\\\site-packages\\\\IPython\\\\core\\\\magics\\\\osm.py\": 1682861541.6194794, \"C:\\\\Users\\\\pierr\\\\AppData\\\\Local\\\\Programs\\\\Python\\\\Python311\\\\Lib\\\\site-packages\\\\IPython\\\\core\\\\magics\\\\packaging.py\": 1682861541.6194794, \"C:\\\\Users\\\\pierr\\\\AppData\\\\Local\\\\Programs\\\\Python\\\\Python311\\\\Lib\\\\site-packages\\\\IPython\\\\core\\\\pylabtools.py\": 1682861541.610448, \"C:\\\\Users\\\\pierr\\\\AppData\\\\Local\\\\Programs\\\\Python\\\\Python311\\\\Lib\\\\site-packages\\\\IPython\\\\core\\\\magics\\\\pylab.py\": 1682861541.620479, \"C:\\\\Users\\\\pierr\\\\AppData\\\\Local\\\\Programs\\\\Python\\\\Python311\\\\Lib\\\\site-packages\\\\IPython\\\\core\\\\magics\\\\script.py\": 1682861541.620479, \"C:\\\\Users\\\\pierr\\\\AppData\\\\Local\\\\Programs\\\\Python\\\\Python311\\\\Lib\\\\site-packages\\\\IPython\\\\core\\\\magics\\\\__init__.py\": 1682861541.6134484, \"C:\\\\Users\\\\pierr\\\\AppData\\\\Local\\\\Programs\\\\Python\\\\Python311\\\\Lib\\\\site-packages\\\\IPython\\\\core\\\\shellapp.py\": 1682861541.611448, \"C:\\\\Users\\\\pierr\\\\AppData\\\\Local\\\\Programs\\\\Python\\\\Python311\\\\Lib\\\\site-packages\\\\IPython\\\\extensions\\\\__init__.py\": 1682861541.6474862, \"C:\\\\Users\\\\pierr\\\\AppData\\\\Local\\\\Programs\\\\Python\\\\Python311\\\\Lib\\\\site-packages\\\\IPython\\\\extensions\\\\storemagic.py\": 1682861541.6484866, \"C:\\\\Users\\\\pierr\\\\AppData\\\\Local\\\\Programs\\\\Python\\\\Python311\\\\Lib\\\\site-packages\\\\IPython\\\\terminal\\\\ipapp.py\": 1682861541.6686082, \"C:\\\\Users\\\\pierr\\\\AppData\\\\Local\\\\Programs\\\\Python\\\\Python311\\\\Lib\\\\site-packages\\\\IPython\\\\terminal\\\\embed.py\": 1682861541.6676092, \"C:\\\\Users\\\\pierr\\\\AppData\\\\Local\\\\Programs\\\\Python\\\\Python311\\\\Lib\\\\site-packages\\\\IPython\\\\utils\\\\frame.py\": 1682861541.6997721, \"C:\\\\Users\\\\pierr\\\\AppData\\\\Local\\\\Programs\\\\Python\\\\Python311\\\\Lib\\\\site-packages\\\\IPython\\\\__init__.py\": 1682861541.5812569, \"C:\\\\Users\\\\pierr\\\\AppData\\\\Local\\\\Programs\\\\Python\\\\Python311\\\\Lib\\\\site-packages\\\\ipykernel\\\\control.py\": 1682861544.2287054, \"C:\\\\Users\\\\pierr\\\\AppData\\\\Local\\\\Programs\\\\Python\\\\Python311\\\\Lib\\\\site-packages\\\\ipykernel\\\\heartbeat.py\": 1682861544.23271, \"C:\\\\Users\\\\pierr\\\\AppData\\\\Local\\\\Programs\\\\Python\\\\Python311\\\\Lib\\\\site-packages\\\\ipykernel\\\\iostream.py\": 1682861544.2337058, \"C:\\\\Users\\\\pierr\\\\AppData\\\\Local\\\\Programs\\\\Python\\\\Python311\\\\Lib\\\\site-packages\\\\comm\\\\base_comm.py\": 1682861539.8522365, \"C:\\\\Users\\\\pierr\\\\AppData\\\\Local\\\\Programs\\\\Python\\\\Python311\\\\Lib\\\\site-packages\\\\comm\\\\__init__.py\": 1682861539.8522365, \"C:\\\\Users\\\\pierr\\\\AppData\\\\Local\\\\Programs\\\\Python\\\\Python311\\\\Lib\\\\site-packages\\\\ipykernel\\\\jsonutil.py\": 1682861544.2337058, \"C:\\\\Users\\\\pierr\\\\AppData\\\\Local\\\\Programs\\\\Python\\\\Python311\\\\Lib\\\\site-packages\\\\psutil\\\\_common.py\": 1682861531.31724, \"C:\\\\Users\\\\pierr\\\\AppData\\\\Local\\\\Programs\\\\Python\\\\Python311\\\\Lib\\\\site-packages\\\\psutil\\\\_compat.py\": 1682861531.31724, \"C:\\\\Users\\\\pierr\\\\AppData\\\\Local\\\\Programs\\\\Python\\\\Python311\\\\Lib\\\\site-packages\\\\psutil\\\\_psutil_windows.pyd\": 1682861531.321748, \"C:\\\\Users\\\\pierr\\\\AppData\\\\Local\\\\Programs\\\\Python\\\\Python311\\\\Lib\\\\site-packages\\\\psutil\\\\_pswindows.py\": 1682861531.322754, \"C:\\\\Users\\\\pierr\\\\AppData\\\\Local\\\\Programs\\\\Python\\\\Python311\\\\Lib\\\\site-packages\\\\psutil\\\\__init__.py\": 1682861531.3162332, \"C:\\\\Users\\\\pierr\\\\AppData\\\\Local\\\\Programs\\\\Python\\\\Python311\\\\Lib\\\\site-packages\\\\tornado\\\\gen.py\": 1682861526.5114455, \"C:\\\\Users\\\\pierr\\\\AppData\\\\Local\\\\Programs\\\\Python\\\\Python311\\\\Lib\\\\site-packages\\\\tornado\\\\locks.py\": 1682861526.516449, \"C:\\\\Users\\\\pierr\\\\AppData\\\\Local\\\\Programs\\\\Python\\\\Python311\\\\Lib\\\\site-packages\\\\tornado\\\\queues.py\": 1682861526.5196338, \"C:\\\\Users\\\\pierr\\\\AppData\\\\Local\\\\Programs\\\\Python\\\\Python311\\\\Lib\\\\site-packages\\\\ipykernel\\\\kernelbase.py\": 1682861544.2352123, \"C:\\\\Users\\\\pierr\\\\AppData\\\\Local\\\\Programs\\\\Python\\\\Python311\\\\Lib\\\\site-packages\\\\ipykernel\\\\comm\\\\comm.py\": 1682861544.2407444, \"C:\\\\Users\\\\pierr\\\\AppData\\\\Local\\\\Programs\\\\Python\\\\Python311\\\\Lib\\\\site-packages\\\\ipykernel\\\\comm\\\\manager.py\": 1682861544.2407444, \"C:\\\\Users\\\\pierr\\\\AppData\\\\Local\\\\Programs\\\\Python\\\\Python311\\\\Lib\\\\site-packages\\\\ipykernel\\\\comm\\\\__init__.py\": 1682861544.2407444, \"C:\\\\Users\\\\pierr\\\\AppData\\\\Local\\\\Programs\\\\Python\\\\Python311\\\\Lib\\\\site-packages\\\\ipykernel\\\\compiler.py\": 1682861544.227699, \"C:\\\\Users\\\\pierr\\\\AppData\\\\Local\\\\Programs\\\\Python\\\\Python311\\\\Lib\\\\site-packages\\\\debugpy\\\\_version.py\": 1682861533.712465, \"C:\\\\Users\\\\pierr\\\\AppData\\\\Local\\\\Programs\\\\Python\\\\Python311\\\\Lib\\\\site-packages\\\\debugpy\\\\public_api.py\": 1682861533.7139726, \"C:\\\\Users\\\\pierr\\\\AppData\\\\Local\\\\Programs\\\\Python\\\\Python311\\\\Lib\\\\site-packages\\\\debugpy\\\\__init__.py\": 1682861533.712465, \"C:\\\\Users\\\\pierr\\\\AppData\\\\Local\\\\Programs\\\\Python\\\\Python311\\\\Lib\\\\site-packages\\\\debugpy\\\\_vendored\\\\_util.py\": 1682861533.716486, \"C:\\\\Users\\\\pierr\\\\AppData\\\\Local\\\\Programs\\\\Python\\\\Python311\\\\Lib\\\\site-packages\\\\debugpy\\\\_vendored\\\\__init__.py\": 1682861533.7149794, \"C:\\\\Users\\\\pierr\\\\AppData\\\\Local\\\\Programs\\\\Python\\\\Python311\\\\Lib\\\\site-packages\\\\debugpy\\\\_vendored\\\\pydevd\\\\_pydevd_bundle\\\\__init__.py\": 1682861533.7446148, \"C:\\\\Users\\\\pierr\\\\AppData\\\\Local\\\\Programs\\\\Python\\\\Python311\\\\Lib\\\\encodings\\\\ascii.py\": 1680645850.0, \"C:\\\\Users\\\\pierr\\\\AppData\\\\Local\\\\Programs\\\\Python\\\\Python311\\\\Lib\\\\encodings\\\\latin_1.py\": 1680645850.0, \"C:\\\\Users\\\\pierr\\\\AppData\\\\Local\\\\Programs\\\\Python\\\\Python311\\\\Lib\\\\stringprep.py\": 1680645850.0, \"C:\\\\Users\\\\pierr\\\\AppData\\\\Local\\\\Programs\\\\Python\\\\Python311\\\\Lib\\\\encodings\\\\idna.py\": 1680645850.0, \"C:\\\\Users\\\\pierr\\\\AppData\\\\Local\\\\Programs\\\\Python\\\\Python311\\\\Lib\\\\site-packages\\\\debugpy\\\\_vendored\\\\pydevd\\\\_pydevd_bundle\\\\pydevd_vm_type.py\": 1682861533.781285, \"C:\\\\Users\\\\pierr\\\\AppData\\\\Local\\\\Programs\\\\Python\\\\Python311\\\\Lib\\\\site-packages\\\\debugpy\\\\_vendored\\\\pydevd\\\\_pydev_bundle\\\\__init__.py\": 1682861533.7270749, \"C:\\\\Users\\\\pierr\\\\AppData\\\\Local\\\\Programs\\\\Python\\\\Python311\\\\Lib\\\\xmlrpc\\\\__init__.py\": 1680645850.0, \"C:\\\\Users\\\\pierr\\\\AppData\\\\Local\\\\Programs\\\\Python\\\\Python311\\\\Lib\\\\xml\\\\parsers\\\\__init__.py\": 1680645850.0, \"C:\\\\Users\\\\pierr\\\\AppData\\\\Local\\\\Programs\\\\Python\\\\Python311\\\\DLLs\\\\pyexpat.pyd\": 1680645876.0, \"C:\\\\Users\\\\pierr\\\\AppData\\\\Local\\\\Programs\\\\Python\\\\Python311\\\\Lib\\\\xml\\\\parsers\\\\expat.py\": 1680645850.0, \"C:\\\\Users\\\\pierr\\\\AppData\\\\Local\\\\Programs\\\\Python\\\\Python311\\\\Lib\\\\gzip.py\": 1680645850.0, \"C:\\\\Users\\\\pierr\\\\AppData\\\\Local\\\\Programs\\\\Python\\\\Python311\\\\Lib\\\\xmlrpc\\\\client.py\": 1680645850.0, \"C:\\\\Users\\\\pierr\\\\AppData\\\\Local\\\\Programs\\\\Python\\\\Python311\\\\Lib\\\\http\\\\server.py\": 1680645850.0, \"C:\\\\Users\\\\pierr\\\\AppData\\\\Local\\\\Programs\\\\Python\\\\Python311\\\\Lib\\\\xmlrpc\\\\server.py\": 1680645850.0, \"C:\\\\Users\\\\pierr\\\\AppData\\\\Local\\\\Programs\\\\Python\\\\Python311\\\\Lib\\\\site-packages\\\\debugpy\\\\_vendored\\\\pydevd\\\\_pydev_bundle\\\\_pydev_saved_modules.py\": 1682861533.732082, \"C:\\\\Users\\\\pierr\\\\AppData\\\\Local\\\\Programs\\\\Python\\\\Python311\\\\Lib\\\\site-packages\\\\debugpy\\\\_vendored\\\\pydevd\\\\_pydevd_bundle\\\\pydevd_constants.py\": 1682861533.7511425, \"C:\\\\Users\\\\pierr\\\\AppData\\\\Local\\\\Programs\\\\Python\\\\Python311\\\\Lib\\\\site-packages\\\\debugpy\\\\_vendored\\\\pydevd\\\\_pydev_runfiles\\\\__init__.py\": 1682861533.7401094, \"C:\\\\Users\\\\pierr\\\\AppData\\\\Local\\\\Programs\\\\Python\\\\Python311\\\\Lib\\\\site-packages\\\\debugpy\\\\_vendored\\\\pydevd\\\\_pydevd_frame_eval\\\\__init__.py\": 1682861533.7893155, \"C:\\\\Users\\\\pierr\\\\AppData\\\\Local\\\\Programs\\\\Python\\\\Python311\\\\Lib\\\\site-packages\\\\debugpy\\\\_vendored\\\\pydevd\\\\pydev_ipython\\\\__init__.py\": 1682861533.8112934, \"C:\\\\Users\\\\pierr\\\\AppData\\\\Local\\\\Programs\\\\Python\\\\Python311\\\\Lib\\\\plistlib.py\": 1680645850.0, \"C:\\\\Users\\\\pierr\\\\AppData\\\\Local\\\\Programs\\\\Python\\\\Python311\\\\Lib\\\\site-packages\\\\pkg_resources\\\\extern\\\\__init__.py\": 1682010681.7720618, \"C:\\\\Users\\\\pierr\\\\AppData\\\\Local\\\\Programs\\\\Python\\\\Python311\\\\Lib\\\\site-packages\\\\pkg_resources\\\\_vendor\\\\__init__.py\": 1682010681.7363236, \"C:\\\\Users\\\\pierr\\\\AppData\\\\Local\\\\Programs\\\\Python\\\\Python311\\\\Lib\\\\site-packages\\\\pkg_resources\\\\_vendor\\\\jaraco\\\\__init__.py\": 1682010681.7458441, \"C:\\\\Users\\\\pierr\\\\AppData\\\\Local\\\\Programs\\\\Python\\\\Python311\\\\Lib\\\\site-packages\\\\pkg_resources\\\\_vendor\\\\more_itertools\\\\recipes.py\": 1682010681.751893, \"C:\\\\Users\\\\pierr\\\\AppData\\\\Local\\\\Programs\\\\Python\\\\Python311\\\\Lib\\\\site-packages\\\\pkg_resources\\\\_vendor\\\\more_itertools\\\\more.py\": 1682010681.751893, \"C:\\\\Users\\\\pierr\\\\AppData\\\\Local\\\\Programs\\\\Python\\\\Python311\\\\Lib\\\\site-packages\\\\pkg_resources\\\\_vendor\\\\more_itertools\\\\__init__.py\": 1682010681.7498899, \"C:\\\\Users\\\\pierr\\\\AppData\\\\Local\\\\Programs\\\\Python\\\\Python311\\\\Lib\\\\site-packages\\\\pkg_resources\\\\_vendor\\\\jaraco\\\\functools.py\": 1682010681.7478807, \"C:\\\\Users\\\\pierr\\\\AppData\\\\Local\\\\Programs\\\\Python\\\\Python311\\\\Lib\\\\site-packages\\\\pkg_resources\\\\_vendor\\\\jaraco\\\\context.py\": 1682010681.7473521, \"C:\\\\Users\\\\pierr\\\\AppData\\\\Local\\\\Programs\\\\Python\\\\Python311\\\\Lib\\\\site-packages\\\\pkg_resources\\\\_vendor\\\\jaraco\\\\text\\\\__init__.py\": 1682010681.7488885, \"C:\\\\Users\\\\pierr\\\\AppData\\\\Local\\\\Programs\\\\Python\\\\Python311\\\\Lib\\\\site-packages\\\\win32\\\\_win32sysloader.pyd\": 1682861521.983948, \"C:\\\\Users\\\\pierr\\\\AppData\\\\Local\\\\Programs\\\\Python\\\\Python311\\\\Lib\\\\site-packages\\\\pywin32_system32\\\\pywintypes311.dll\": 1682861521.9829483, \"C:\\\\Users\\\\pierr\\\\AppData\\\\Local\\\\Programs\\\\Python\\\\Python311\\\\Lib\\\\site-packages\\\\pywin32_system32\\\\pythoncom311.dll\": 1682861521.9819415, \"C:\\\\Users\\\\pierr\\\\AppData\\\\Local\\\\Programs\\\\Python\\\\Python311\\\\Lib\\\\site-packages\\\\win32\\\\win32api.pyd\": 1682861521.9905534, \"C:\\\\Users\\\\pierr\\\\AppData\\\\Local\\\\Programs\\\\Python\\\\Python311\\\\Lib\\\\site-packages\\\\win32com\\\\__init__.py\": 1682861522.096949, \"C:\\\\Users\\\\pierr\\\\AppData\\\\Local\\\\Programs\\\\Python\\\\Python311\\\\Lib\\\\site-packages\\\\win32comext\\\\shell\\\\__init__.py\": 1682861522.2113771, \"C:\\\\Users\\\\pierr\\\\AppData\\\\Local\\\\Programs\\\\Python\\\\Python311\\\\Lib\\\\site-packages\\\\pkg_resources\\\\_vendor\\\\appdirs.py\": 1682010681.7373238, \"C:\\\\Users\\\\pierr\\\\AppData\\\\Local\\\\Programs\\\\Python\\\\Python311\\\\Lib\\\\site-packages\\\\pkg_resources\\\\_vendor\\\\packaging\\\\__about__.py\": 1682010681.752892, \"C:\\\\Users\\\\pierr\\\\AppData\\\\Local\\\\Programs\\\\Python\\\\Python311\\\\Lib\\\\site-packages\\\\pkg_resources\\\\_vendor\\\\packaging\\\\__init__.py\": 1682010681.7538908, \"C:\\\\Users\\\\pierr\\\\AppData\\\\Local\\\\Programs\\\\Python\\\\Python311\\\\Lib\\\\site-packages\\\\pkg_resources\\\\_vendor\\\\packaging\\\\_structures.py\": 1682010681.755889, \"C:\\\\Users\\\\pierr\\\\AppData\\\\Local\\\\Programs\\\\Python\\\\Python311\\\\Lib\\\\site-packages\\\\pkg_resources\\\\_vendor\\\\packaging\\\\version.py\": 1682010681.7604485, \"C:\\\\Users\\\\pierr\\\\AppData\\\\Local\\\\Programs\\\\Python\\\\Python311\\\\Lib\\\\site-packages\\\\pkg_resources\\\\_vendor\\\\packaging\\\\_manylinux.py\": 1682010681.7548919, \"C:\\\\Users\\\\pierr\\\\AppData\\\\Local\\\\Programs\\\\Python\\\\Python311\\\\Lib\\\\site-packages\\\\pkg_resources\\\\_vendor\\\\packaging\\\\_musllinux.py\": 1682010681.755889, \"C:\\\\Users\\\\pierr\\\\AppData\\\\Local\\\\Programs\\\\Python\\\\Python311\\\\Lib\\\\site-packages\\\\pkg_resources\\\\_vendor\\\\packaging\\\\tags.py\": 1682010681.7584133, \"C:\\\\Users\\\\pierr\\\\AppData\\\\Local\\\\Programs\\\\Python\\\\Python311\\\\Lib\\\\site-packages\\\\pkg_resources\\\\_vendor\\\\packaging\\\\utils.py\": 1682010681.7594438, \"C:\\\\Users\\\\pierr\\\\AppData\\\\Local\\\\Programs\\\\Python\\\\Python311\\\\Lib\\\\site-packages\\\\pkg_resources\\\\_vendor\\\\packaging\\\\specifiers.py\": 1682010681.7584133, \"C:\\\\Users\\\\pierr\\\\AppData\\\\Local\\\\Programs\\\\Python\\\\Python311\\\\Lib\\\\site-packages\\\\pkg_resources\\\\_vendor\\\\pyparsing\\\\util.py\": 1682010681.7705438, \"C:\\\\Users\\\\pierr\\\\AppData\\\\Local\\\\Programs\\\\Python\\\\Python311\\\\Lib\\\\site-packages\\\\pkg_resources\\\\_vendor\\\\pyparsing\\\\unicode.py\": 1682010681.7695448, \"C:\\\\Users\\\\pierr\\\\AppData\\\\Local\\\\Programs\\\\Python\\\\Python311\\\\Lib\\\\site-packages\\\\pkg_resources\\\\_vendor\\\\pyparsing\\\\exceptions.py\": 1682010681.7664475, \"C:\\\\Users\\\\pierr\\\\AppData\\\\Local\\\\Programs\\\\Python\\\\Python311\\\\Lib\\\\site-packages\\\\pkg_resources\\\\_vendor\\\\pyparsing\\\\actions.py\": 1682010681.7624497, \"C:\\\\Users\\\\pierr\\\\AppData\\\\Local\\\\Programs\\\\Python\\\\Python311\\\\Lib\\\\site-packages\\\\pkg_resources\\\\_vendor\\\\pyparsing\\\\results.py\": 1682010681.7674446, \"C:\\\\Users\\\\pierr\\\\AppData\\\\Local\\\\Programs\\\\Python\\\\Python311\\\\Lib\\\\site-packages\\\\pkg_resources\\\\_vendor\\\\pyparsing\\\\core.py\": 1682010681.7654464, \"C:\\\\Users\\\\pierr\\\\AppData\\\\Local\\\\Programs\\\\Python\\\\Python311\\\\Lib\\\\site-packages\\\\pkg_resources\\\\_vendor\\\\pyparsing\\\\helpers.py\": 1682010681.7674446, \"C:\\\\Users\\\\pierr\\\\AppData\\\\Local\\\\Programs\\\\Python\\\\Python311\\\\Lib\\\\site-packages\\\\pkg_resources\\\\_vendor\\\\pyparsing\\\\testing.py\": 1682010681.768534, \"C:\\\\Users\\\\pierr\\\\AppData\\\\Local\\\\Programs\\\\Python\\\\Python311\\\\Lib\\\\site-packages\\\\pkg_resources\\\\_vendor\\\\pyparsing\\\\common.py\": 1682010681.7634444, \"C:\\\\Users\\\\pierr\\\\AppData\\\\Local\\\\Programs\\\\Python\\\\Python311\\\\Lib\\\\site-packages\\\\pkg_resources\\\\_vendor\\\\pyparsing\\\\__init__.py\": 1682010681.7614448, \"C:\\\\Users\\\\pierr\\\\AppData\\\\Local\\\\Programs\\\\Python\\\\Python311\\\\Lib\\\\site-packages\\\\pkg_resources\\\\_vendor\\\\packaging\\\\markers.py\": 1682010681.755889, \"C:\\\\Users\\\\pierr\\\\AppData\\\\Local\\\\Programs\\\\Python\\\\Python311\\\\Lib\\\\site-packages\\\\pkg_resources\\\\_vendor\\\\packaging\\\\requirements.py\": 1682010681.757402, \"C:\\\\Users\\\\pierr\\\\AppData\\\\Local\\\\Programs\\\\Python\\\\Python311\\\\Lib\\\\site-packages\\\\pkg_resources\\\\__init__.py\": 1682010681.7353222, \"C:\\\\Users\\\\pierr\\\\AppData\\\\Local\\\\Programs\\\\Python\\\\Python311\\\\Lib\\\\site-packages\\\\debugpy\\\\_vendored\\\\pydevd\\\\pydevd_plugins\\\\__init__.py\": 1682861533.9127126, \"C:\\\\Users\\\\pierr\\\\AppData\\\\Local\\\\Programs\\\\Python\\\\Python311\\\\Lib\\\\site-packages\\\\debugpy\\\\_vendored\\\\pydevd\\\\_pydev_bundle\\\\pydev_log.py\": 1682861533.7371018, \"C:\\\\Users\\\\pierr\\\\AppData\\\\Local\\\\Programs\\\\Python\\\\Python311\\\\Lib\\\\site-packages\\\\debugpy\\\\_vendored\\\\pydevd\\\\_pydev_bundle\\\\_pydev_filesystem_encoding.py\": 1682861533.7290816, \"C:\\\\Users\\\\pierr\\\\AppData\\\\Local\\\\Programs\\\\Python\\\\Python311\\\\Lib\\\\site-packages\\\\debugpy\\\\_vendored\\\\pydevd\\\\_pydevd_bundle\\\\pydevd_comm_constants.py\": 1682861533.7501428, \"C:\\\\Users\\\\pierr\\\\AppData\\\\Local\\\\Programs\\\\Python\\\\Python311\\\\Lib\\\\site-packages\\\\debugpy\\\\_vendored\\\\pydevd\\\\pydevd_file_utils.py\": 1682861533.72556, \"C:\\\\Users\\\\pierr\\\\AppData\\\\Local\\\\Programs\\\\Python\\\\Python311\\\\Lib\\\\site-packages\\\\debugpy\\\\_vendored\\\\pydevd\\\\_pydev_bundle\\\\_pydev_execfile.py\": 1682861533.7290816, \"C:\\\\Users\\\\pierr\\\\AppData\\\\Local\\\\Programs\\\\Python\\\\Python311\\\\Lib\\\\site-packages\\\\debugpy\\\\_vendored\\\\pydevd\\\\_pydevd_bundle\\\\pydevd_exec2.py\": 1682861533.7632134, \"C:\\\\Users\\\\pierr\\\\AppData\\\\Local\\\\Programs\\\\Python\\\\Python311\\\\Lib\\\\site-packages\\\\debugpy\\\\_vendored\\\\pydevd\\\\_pydev_bundle\\\\pydev_imports.py\": 1682861533.7345881, \"C:\\\\Users\\\\pierr\\\\AppData\\\\Local\\\\Programs\\\\Python\\\\Python311\\\\Lib\\\\site-packages\\\\debugpy\\\\_vendored\\\\pydevd\\\\_pydev_bundle\\\\pydev_is_thread_alive.py\": 1682861533.7355947, \"C:\\\\Users\\\\pierr\\\\AppData\\\\Local\\\\Programs\\\\Python\\\\Python311\\\\Lib\\\\site-packages\\\\debugpy\\\\_vendored\\\\pydevd\\\\_pydev_bundle\\\\pydev_override.py\": 1682861533.7381094, \"C:\\\\Users\\\\pierr\\\\AppData\\\\Local\\\\Programs\\\\Python\\\\Python311\\\\Lib\\\\site-packages\\\\debugpy\\\\_vendored\\\\pydevd\\\\pydevd_plugins\\\\extensions\\\\__init__.py\": 1682861533.9147086, \"C:\\\\Users\\\\pierr\\\\AppData\\\\Local\\\\Programs\\\\Python\\\\Python311\\\\Lib\\\\site-packages\\\\debugpy\\\\_vendored\\\\pydevd\\\\_pydevd_bundle\\\\pydevd_extension_utils.py\": 1682861533.7632134, \"C:\\\\Users\\\\pierr\\\\AppData\\\\Local\\\\Programs\\\\Python\\\\Python311\\\\Lib\\\\site-packages\\\\debugpy\\\\_vendored\\\\pydevd\\\\_pydevd_bundle\\\\pydevd_frame_utils.py\": 1682861533.766237, \"C:\\\\Users\\\\pierr\\\\AppData\\\\Local\\\\Programs\\\\Python\\\\Python311\\\\Lib\\\\site-packages\\\\debugpy\\\\_vendored\\\\pydevd\\\\_pydevd_bundle\\\\pydevd_filtering.py\": 1682861533.7647197, \"C:\\\\Users\\\\pierr\\\\AppData\\\\Local\\\\Programs\\\\Python\\\\Python311\\\\Lib\\\\site-packages\\\\debugpy\\\\_vendored\\\\pydevd\\\\_pydevd_bundle\\\\pydevd_io.py\": 1682861533.7672443, \"C:\\\\Users\\\\pierr\\\\AppData\\\\Local\\\\Programs\\\\Python\\\\Python311\\\\Lib\\\\site-packages\\\\debugpy\\\\_vendored\\\\pydevd\\\\_pydevd_bundle\\\\pydevd_defaults.py\": 1682861533.7622135, \"C:\\\\Users\\\\pierr\\\\AppData\\\\Local\\\\Programs\\\\Python\\\\Python311\\\\Lib\\\\site-packages\\\\debugpy\\\\_vendored\\\\pydevd\\\\_pydevd_bundle\\\\pydevd_utils.py\": 1682861533.7802846, \"C:\\\\Users\\\\pierr\\\\AppData\\\\Local\\\\Programs\\\\Python\\\\Python311\\\\Lib\\\\site-packages\\\\debugpy\\\\_vendored\\\\pydevd\\\\_pydevd_bundle\\\\pydevd_runpy.py\": 1682861533.7732496, \"C:\\\\Users\\\\pierr\\\\AppData\\\\Local\\\\Programs\\\\Python\\\\Python311\\\\Lib\\\\site-packages\\\\debugpy\\\\_vendored\\\\pydevd\\\\_pydev_bundle\\\\_pydev_tipper_common.py\": 1682861533.7330816, \"C:\\\\Users\\\\pierr\\\\AppData\\\\Local\\\\Programs\\\\Python\\\\Python311\\\\Lib\\\\site-packages\\\\debugpy\\\\_vendored\\\\pydevd\\\\_pydev_bundle\\\\_pydev_imports_tipper.py\": 1682861533.7300818, \"C:\\\\Users\\\\pierr\\\\AppData\\\\Local\\\\Programs\\\\Python\\\\Python311\\\\Lib\\\\site-packages\\\\debugpy\\\\_vendored\\\\pydevd\\\\_pydev_bundle\\\\_pydev_calltip_util.py\": 1682861533.7280803, \"C:\\\\Users\\\\pierr\\\\AppData\\\\Local\\\\Programs\\\\Python\\\\Python311\\\\Lib\\\\site-packages\\\\debugpy\\\\_vendored\\\\pydevd\\\\_pydevd_bundle\\\\pydevd_safe_repr.py\": 1682861533.7732496, \"C:\\\\Users\\\\pierr\\\\AppData\\\\Local\\\\Programs\\\\Python\\\\Python311\\\\Lib\\\\site-packages\\\\debugpy\\\\_vendored\\\\pydevd\\\\_pydevd_bundle\\\\pydevd_resolver.py\": 1682861533.7732496, \"C:\\\\Users\\\\pierr\\\\AppData\\\\Local\\\\Programs\\\\Python\\\\Python311\\\\Lib\\\\site-packages\\\\debugpy\\\\_vendored\\\\pydevd\\\\_pydevd_bundle\\\\pydevd_extension_api.py\": 1682861533.7632134, \"C:\\\\Users\\\\pierr\\\\AppData\\\\Local\\\\Programs\\\\Python\\\\Python311\\\\Lib\\\\site-packages\\\\debugpy\\\\_vendored\\\\pydevd\\\\_pydevd_bundle\\\\pydevd_xml.py\": 1682861533.781285, \"C:\\\\Users\\\\pierr\\\\AppData\\\\Local\\\\Programs\\\\Python\\\\Python311\\\\Lib\\\\site-packages\\\\debugpy\\\\_vendored\\\\pydevd\\\\_pydevd_bundle\\\\pydevd_dont_trace.py\": 1682861533.7622135, \"C:\\\\Users\\\\pierr\\\\AppData\\\\Local\\\\Programs\\\\Python\\\\Python311\\\\Lib\\\\site-packages\\\\debugpy\\\\_vendored\\\\pydevd\\\\_pydevd_frame_eval\\\\vendored\\\\__init__.py\": 1682861533.7976942, \"C:\\\\Users\\\\pierr\\\\AppData\\\\Local\\\\Programs\\\\Python\\\\Python311\\\\Lib\\\\site-packages\\\\debugpy\\\\_vendored\\\\pydevd\\\\_pydevd_frame_eval\\\\vendored\\\\bytecode\\\\flags.py\": 1682861533.8017006, \"C:\\\\Users\\\\pierr\\\\AppData\\\\Local\\\\Programs\\\\Python\\\\Python311\\\\Lib\\\\site-packages\\\\debugpy\\\\_vendored\\\\pydevd\\\\_pydevd_frame_eval\\\\vendored\\\\bytecode\\\\instr.py\": 1682861533.803699, \"C:\\\\Users\\\\pierr\\\\AppData\\\\Local\\\\Programs\\\\Python\\\\Python311\\\\Lib\\\\site-packages\\\\debugpy\\\\_vendored\\\\pydevd\\\\_pydevd_frame_eval\\\\vendored\\\\bytecode\\\\bytecode.py\": 1682861533.7997005, \"C:\\\\Users\\\\pierr\\\\AppData\\\\Local\\\\Programs\\\\Python\\\\Python311\\\\Lib\\\\site-packages\\\\debugpy\\\\_vendored\\\\pydevd\\\\_pydevd_frame_eval\\\\vendored\\\\bytecode\\\\concrete.py\": 1682861533.800701, \"C:\\\\Users\\\\pierr\\\\AppData\\\\Local\\\\Programs\\\\Python\\\\Python311\\\\Lib\\\\site-packages\\\\debugpy\\\\_vendored\\\\pydevd\\\\_pydevd_frame_eval\\\\vendored\\\\bytecode\\\\cfg.py\": 1682861533.800701, \"C:\\\\Users\\\\pierr\\\\AppData\\\\Local\\\\Programs\\\\Python\\\\Python311\\\\Lib\\\\site-packages\\\\debugpy\\\\_vendored\\\\pydevd\\\\_pydevd_frame_eval\\\\vendored\\\\bytecode\\\\__init__.py\": 1682861533.7987006, \"C:\\\\Users\\\\pierr\\\\AppData\\\\Local\\\\Programs\\\\Python\\\\Python311\\\\Lib\\\\site-packages\\\\debugpy\\\\_vendored\\\\pydevd\\\\_pydevd_bundle\\\\pydevd_bytecode_utils.py\": 1682861533.7481363, \"C:\\\\Users\\\\pierr\\\\AppData\\\\Local\\\\Programs\\\\Python\\\\Python311\\\\Lib\\\\site-packages\\\\debugpy\\\\_vendored\\\\pydevd\\\\_pydevd_bundle\\\\pydevd_frame.py\": 1682861533.7647197, \"C:\\\\Users\\\\pierr\\\\AppData\\\\Local\\\\Programs\\\\Python\\\\Python311\\\\Lib\\\\site-packages\\\\debugpy\\\\_vendored\\\\pydevd\\\\_pydevd_bundle\\\\pydevd_additional_thread_info_regular.py\": 1682861533.746622, \"C:\\\\Users\\\\pierr\\\\AppData\\\\Local\\\\Programs\\\\Python\\\\Python311\\\\Lib\\\\site-packages\\\\debugpy\\\\_vendored\\\\pydevd\\\\_pydevd_bundle\\\\pydevd_additional_thread_info.py\": 1682861533.7456224, \"C:\\\\Users\\\\pierr\\\\AppData\\\\Local\\\\Programs\\\\Python\\\\Python311\\\\Lib\\\\site-packages\\\\debugpy\\\\_vendored\\\\pydevd\\\\_pydevd_bundle\\\\pydevd_thread_lifecycle.py\": 1682861533.7772784, \"C:\\\\Users\\\\pierr\\\\AppData\\\\Local\\\\Programs\\\\Python\\\\Python311\\\\Lib\\\\site-packages\\\\debugpy\\\\_vendored\\\\pydevd\\\\_pydevd_bundle\\\\pydevd_save_locals.py\": 1682861533.7747552, \"C:\\\\Users\\\\pierr\\\\AppData\\\\Local\\\\Programs\\\\Python\\\\Python311\\\\Lib\\\\site-packages\\\\debugpy\\\\_vendored\\\\pydevd\\\\_pydev_bundle\\\\pydev_monkey.py\": 1682861533.7371018, \"C:\\\\Users\\\\pierr\\\\AppData\\\\Local\\\\Programs\\\\Python\\\\Python311\\\\Lib\\\\site-packages\\\\debugpy\\\\_vendored\\\\pydevd\\\\pydevd_tracing.py\": 1682861533.72556, \"C:\\\\Users\\\\pierr\\\\AppData\\\\Local\\\\Programs\\\\Python\\\\Python311\\\\Lib\\\\site-packages\\\\debugpy\\\\_vendored\\\\pydevd\\\\_pydevd_bundle\\\\pydevd_collect_bytecode_info.py\": 1682861533.749143, \"C:\\\\Users\\\\pierr\\\\AppData\\\\Local\\\\Programs\\\\Python\\\\Python311\\\\Lib\\\\site-packages\\\\debugpy\\\\_vendored\\\\pydevd\\\\_pydevd_bundle\\\\pydevd_daemon_thread.py\": 1682861533.761214, \"C:\\\\Users\\\\pierr\\\\AppData\\\\Local\\\\Programs\\\\Python\\\\Python311\\\\Lib\\\\site-packages\\\\debugpy\\\\_vendored\\\\pydevd\\\\_pydevd_bundle\\\\pydevd_timeout.py\": 1682861533.7772784, \"C:\\\\Users\\\\pierr\\\\AppData\\\\Local\\\\Programs\\\\Python\\\\Python311\\\\Lib\\\\site-packages\\\\debugpy\\\\_vendored\\\\pydevd\\\\_pydevd_bundle\\\\pydevd_vars.py\": 1682861533.7802846, \"C:\\\\Users\\\\pierr\\\\AppData\\\\Local\\\\Programs\\\\Python\\\\Python311\\\\Lib\\\\site-packages\\\\debugpy\\\\_vendored\\\\pydevd\\\\_pydev_bundle\\\\pydev_console_utils.py\": 1682861533.7330816, \"C:\\\\Users\\\\pierr\\\\AppData\\\\Local\\\\Programs\\\\Python\\\\Python311\\\\Lib\\\\site-packages\\\\debugpy\\\\_vendored\\\\pydevd\\\\_pydevd_bundle\\\\pydevd_import_class.py\": 1682861533.7672443, \"C:\\\\Users\\\\pierr\\\\AppData\\\\Local\\\\Programs\\\\Python\\\\Python311\\\\Lib\\\\site-packages\\\\debugpy\\\\_vendored\\\\pydevd\\\\_pydevd_bundle\\\\pydevd_breakpoints.py\": 1682861533.7471285, \"C:\\\\Users\\\\pierr\\\\AppData\\\\Local\\\\Programs\\\\Python\\\\Python311\\\\Lib\\\\site-packages\\\\debugpy\\\\_vendored\\\\pydevd\\\\_pydevd_bundle\\\\pydevd_custom_frames.py\": 1682861533.7521427, \"C:\\\\Users\\\\pierr\\\\AppData\\\\Local\\\\Programs\\\\Python\\\\Python311\\\\Lib\\\\site-packages\\\\debugpy\\\\_vendored\\\\pydevd\\\\_pydevd_bundle\\\\pydevd_dont_trace_files.py\": 1682861533.7632134, \"C:\\\\Users\\\\pierr\\\\AppData\\\\Local\\\\Programs\\\\Python\\\\Python311\\\\Lib\\\\site-packages\\\\debugpy\\\\_vendored\\\\pydevd\\\\_pydevd_bundle\\\\pydevd_net_command.py\": 1682861533.7682438, \"C:\\\\Users\\\\pierr\\\\AppData\\\\Local\\\\Programs\\\\Python\\\\Python311\\\\Lib\\\\site-packages\\\\debugpy\\\\_vendored\\\\pydevd\\\\_pydevd_bundle\\\\pydevconsole_code.py\": 1682861533.7456224, \"C:\\\\Users\\\\pierr\\\\AppData\\\\Local\\\\Programs\\\\Python\\\\Python311\\\\Lib\\\\site-packages\\\\debugpy\\\\_vendored\\\\pydevd\\\\_pydev_bundle\\\\pydev_umd.py\": 1682861533.7391088, \"C:\\\\Users\\\\pierr\\\\AppData\\\\Local\\\\Programs\\\\Python\\\\Python311\\\\Lib\\\\site-packages\\\\debugpy\\\\_vendored\\\\pydevd\\\\pydevconsole.py\": 1682861533.7234936, \"C:\\\\Users\\\\pierr\\\\AppData\\\\Local\\\\Programs\\\\Python\\\\Python311\\\\Lib\\\\site-packages\\\\debugpy\\\\_vendored\\\\pydevd\\\\_pydev_bundle\\\\_pydev_completer.py\": 1682861533.7280803, \"C:\\\\Users\\\\pierr\\\\AppData\\\\Local\\\\Programs\\\\Python\\\\Python311\\\\Lib\\\\site-packages\\\\debugpy\\\\_vendored\\\\pydevd\\\\_pydevd_bundle\\\\pydevd_net_command_factory_xml.py\": 1682861533.7692497, \"C:\\\\Users\\\\pierr\\\\AppData\\\\Local\\\\Programs\\\\Python\\\\Python311\\\\Lib\\\\site-packages\\\\debugpy\\\\_vendored\\\\pydevd\\\\_pydevd_bundle\\\\pydevd_trace_dispatch_regular.py\": 1682861533.7792842, \"C:\\\\Users\\\\pierr\\\\AppData\\\\Local\\\\Programs\\\\Python\\\\Python311\\\\Lib\\\\site-packages\\\\debugpy\\\\_vendored\\\\pydevd\\\\_pydevd_bundle\\\\pydevd_trace_dispatch.py\": 1682861533.778278, \"C:\\\\Users\\\\pierr\\\\AppData\\\\Local\\\\Programs\\\\Python\\\\Python311\\\\Lib\\\\site-packages\\\\debugpy\\\\_vendored\\\\pydevd\\\\_pydevd_frame_eval\\\\pydevd_frame_eval_main.py\": 1682861533.7906692, \"C:\\\\Users\\\\pierr\\\\AppData\\\\Local\\\\Programs\\\\Python\\\\Python311\\\\Lib\\\\site-packages\\\\debugpy\\\\_vendored\\\\pydevd\\\\_pydevd_bundle\\\\pydevd_source_mapping.py\": 1682861533.7747552, \"C:\\\\Users\\\\pierr\\\\AppData\\\\Local\\\\Programs\\\\Python\\\\Python311\\\\Lib\\\\site-packages\\\\debugpy\\\\_vendored\\\\pydevd\\\\_pydevd_bundle\\\\pydevd_concurrency_analyser\\\\__init__.py\": 1682861533.7873147, \"C:\\\\Users\\\\pierr\\\\AppData\\\\Local\\\\Programs\\\\Python\\\\Python311\\\\Lib\\\\site-packages\\\\debugpy\\\\_vendored\\\\pydevd\\\\_pydevd_bundle\\\\pydevd_concurrency_analyser\\\\pydevd_thread_wrappers.py\": 1682861533.7883155, \"C:\\\\Users\\\\pierr\\\\AppData\\\\Local\\\\Programs\\\\Python\\\\Python311\\\\Lib\\\\site-packages\\\\debugpy\\\\_vendored\\\\pydevd\\\\_pydevd_bundle\\\\pydevd_concurrency_analyser\\\\pydevd_concurrency_logger.py\": 1682861533.7883155, \"C:\\\\Users\\\\pierr\\\\AppData\\\\Local\\\\Programs\\\\Python\\\\Python311\\\\Lib\\\\site-packages\\\\debugpy\\\\_vendored\\\\pydevd\\\\_pydevd_bundle\\\\_debug_adapter\\\\__init__.py\": 1682861533.7822847, \"C:\\\\Users\\\\pierr\\\\AppData\\\\Local\\\\Programs\\\\Python\\\\Python311\\\\Lib\\\\site-packages\\\\debugpy\\\\_vendored\\\\pydevd\\\\_pydevd_bundle\\\\_debug_adapter\\\\pydevd_schema_log.py\": 1682861533.7873147, \"C:\\\\Users\\\\pierr\\\\AppData\\\\Local\\\\Programs\\\\Python\\\\Python311\\\\Lib\\\\site-packages\\\\debugpy\\\\_vendored\\\\pydevd\\\\_pydevd_bundle\\\\_debug_adapter\\\\pydevd_base_schema.py\": 1682861533.7847905, \"C:\\\\Users\\\\pierr\\\\AppData\\\\Local\\\\Programs\\\\Python\\\\Python311\\\\Lib\\\\site-packages\\\\debugpy\\\\_vendored\\\\pydevd\\\\_pydevd_bundle\\\\_debug_adapter\\\\pydevd_schema.py\": 1682861533.7863624, \"C:\\\\Users\\\\pierr\\\\AppData\\\\Local\\\\Programs\\\\Python\\\\Python311\\\\Lib\\\\site-packages\\\\debugpy\\\\_vendored\\\\pydevd\\\\_pydevd_bundle\\\\pydevd_reload.py\": 1682861533.77225, \"C:\\\\Users\\\\pierr\\\\AppData\\\\Local\\\\Programs\\\\Python\\\\Python311\\\\Lib\\\\site-packages\\\\debugpy\\\\_vendored\\\\pydevd\\\\_pydev_bundle\\\\fsnotify\\\\__init__.py\": 1682861533.7401094, \"C:\\\\Users\\\\pierr\\\\AppData\\\\Local\\\\Programs\\\\Python\\\\Python311\\\\Lib\\\\site-packages\\\\debugpy\\\\_vendored\\\\pydevd\\\\_pydevd_bundle\\\\pydevd_console.py\": 1682861533.7511425, \"C:\\\\Users\\\\pierr\\\\AppData\\\\Local\\\\Programs\\\\Python\\\\Python311\\\\Lib\\\\site-packages\\\\debugpy\\\\_vendored\\\\pydevd\\\\_pydevd_bundle\\\\pydevd_comm.py\": 1682861533.7501428, \"C:\\\\Users\\\\pierr\\\\AppData\\\\Local\\\\Programs\\\\Python\\\\Python311\\\\Lib\\\\site-packages\\\\debugpy\\\\_vendored\\\\pydevd\\\\_pydevd_bundle\\\\pydevd_net_command_factory_json.py\": 1682861533.7692497, \"C:\\\\Users\\\\pierr\\\\AppData\\\\Local\\\\Programs\\\\Python\\\\Python311\\\\Lib\\\\site-packages\\\\debugpy\\\\_vendored\\\\pydevd\\\\_pydevd_bundle\\\\pydevd_api.py\": 1682861533.7471285, \"C:\\\\Users\\\\pierr\\\\AppData\\\\Local\\\\Programs\\\\Python\\\\Python311\\\\Lib\\\\site-packages\\\\debugpy\\\\_vendored\\\\pydevd\\\\_pydevd_bundle\\\\pydevd_json_debug_options.py\": 1682861533.7682438, \"C:\\\\Users\\\\pierr\\\\AppData\\\\Local\\\\Programs\\\\Python\\\\Python311\\\\Lib\\\\site-packages\\\\debugpy\\\\_vendored\\\\pydevd\\\\_pydevd_bundle\\\\pydevd_process_net_command_json.py\": 1682861533.7712505, \"C:\\\\Users\\\\pierr\\\\AppData\\\\Local\\\\Programs\\\\Python\\\\Python311\\\\Lib\\\\site-packages\\\\debugpy\\\\_vendored\\\\pydevd\\\\_pydevd_bundle\\\\pydevd_traceproperty.py\": 1682861533.7792842, \"C:\\\\Users\\\\pierr\\\\AppData\\\\Local\\\\Programs\\\\Python\\\\Python311\\\\Lib\\\\site-packages\\\\debugpy\\\\_vendored\\\\pydevd\\\\_pydevd_bundle\\\\pydevd_process_net_command.py\": 1682861533.7702503, \"C:\\\\Users\\\\pierr\\\\AppData\\\\Local\\\\Programs\\\\Python\\\\Python311\\\\Lib\\\\site-packages\\\\debugpy\\\\_vendored\\\\pydevd\\\\_pydevd_bundle\\\\pydevd_suspended_frames.py\": 1682861533.776271, \"C:\\\\Users\\\\pierr\\\\AppData\\\\Local\\\\Programs\\\\Python\\\\Python311\\\\Lib\\\\site-packages\\\\debugpy\\\\_vendored\\\\pydevd\\\\_pydevd_bundle\\\\pydevd_trace_api.py\": 1682861533.778278, \"C:\\\\Users\\\\pierr\\\\AppData\\\\Local\\\\Programs\\\\Python\\\\Python311\\\\Lib\\\\site-packages\\\\debugpy\\\\_vendored\\\\pydevd\\\\pydevd_plugins\\\\pydevd_line_validation.py\": 1682861533.9147086, \"C:\\\\Users\\\\pierr\\\\AppData\\\\Local\\\\Programs\\\\Python\\\\Python311\\\\Lib\\\\site-packages\\\\debugpy\\\\_vendored\\\\pydevd\\\\pydevd_plugins\\\\django_debug.py\": 1682861533.9127126, \"C:\\\\Users\\\\pierr\\\\AppData\\\\Local\\\\Programs\\\\Python\\\\Python311\\\\Lib\\\\site-packages\\\\debugpy\\\\_vendored\\\\pydevd\\\\pydevd_plugins\\\\jinja2_debug.py\": 1682861533.9137113, \"C:\\\\Users\\\\pierr\\\\AppData\\\\Local\\\\Programs\\\\Python\\\\Python311\\\\Lib\\\\site-packages\\\\debugpy\\\\_vendored\\\\pydevd\\\\_pydevd_bundle\\\\pydevd_plugin_utils.py\": 1682861533.7702503, \"C:\\\\Users\\\\pierr\\\\AppData\\\\Local\\\\Programs\\\\Python\\\\Python311\\\\Lib\\\\site-packages\\\\debugpy\\\\_vendored\\\\pydevd\\\\pydevd_plugins\\\\extensions\\\\types\\\\__init__.py\": 1682861533.9162147, \"C:\\\\Users\\\\pierr\\\\AppData\\\\Local\\\\Programs\\\\Python\\\\Python311\\\\Lib\\\\site-packages\\\\debugpy\\\\_vendored\\\\pydevd\\\\pydevd_plugins\\\\extensions\\\\types\\\\pydevd_helpers.py\": 1682861533.9167295, \"C:\\\\Users\\\\pierr\\\\AppData\\\\Local\\\\Programs\\\\Python\\\\Python311\\\\Lib\\\\site-packages\\\\debugpy\\\\_vendored\\\\pydevd\\\\pydevd_plugins\\\\extensions\\\\types\\\\pydevd_plugin_numpy_types.py\": 1682861533.9167295, \"C:\\\\Users\\\\pierr\\\\AppData\\\\Local\\\\Programs\\\\Python\\\\Python311\\\\Lib\\\\site-packages\\\\debugpy\\\\_vendored\\\\pydevd\\\\pydevd_plugins\\\\extensions\\\\types\\\\pydevd_plugin_pandas_types.py\": 1682861533.9177365, \"C:\\\\Users\\\\pierr\\\\AppData\\\\Local\\\\Programs\\\\Python\\\\Python311\\\\Lib\\\\site-packages\\\\debugpy\\\\_vendored\\\\pydevd\\\\pydevd_plugins\\\\extensions\\\\types\\\\pydevd_plugins_django_form_str.py\": 1682861533.918746, \"C:\\\\Users\\\\pierr\\\\AppData\\\\Local\\\\Programs\\\\Python\\\\Python311\\\\Lib\\\\site-packages\\\\debugpy\\\\_vendored\\\\pydevd\\\\pydevd.py\": 1682861533.7244954, \"C:\\\\Users\\\\pierr\\\\AppData\\\\Local\\\\Programs\\\\Python\\\\Python311\\\\Lib\\\\site-packages\\\\debugpy\\\\_vendored\\\\force_pydevd.py\": 1682861533.7174976, \"C:\\\\Users\\\\pierr\\\\AppData\\\\Local\\\\Programs\\\\Python\\\\Python311\\\\Lib\\\\site-packages\\\\debugpy\\\\server\\\\__init__.py\": 1682861533.9307802, \"C:\\\\Users\\\\pierr\\\\AppData\\\\Local\\\\Programs\\\\Python\\\\Python311\\\\Lib\\\\site-packages\\\\debugpy\\\\adapter\\\\__init__.py\": 1682861533.918746, \"C:\\\\Users\\\\pierr\\\\AppData\\\\Local\\\\Programs\\\\Python\\\\Python311\\\\Lib\\\\site-packages\\\\debugpy\\\\common\\\\__init__.py\": 1682861533.9237437, \"C:\\\\Users\\\\pierr\\\\AppData\\\\Local\\\\Programs\\\\Python\\\\Python311\\\\Lib\\\\site-packages\\\\debugpy\\\\common\\\\json.py\": 1682861533.9237437, \"C:\\\\Users\\\\pierr\\\\AppData\\\\Local\\\\Programs\\\\Python\\\\Python311\\\\Lib\\\\site-packages\\\\debugpy\\\\common\\\\timestamp.py\": 1682861533.9267669, \"C:\\\\Users\\\\pierr\\\\AppData\\\\Local\\\\Programs\\\\Python\\\\Python311\\\\Lib\\\\site-packages\\\\debugpy\\\\common\\\\util.py\": 1682861533.9277737, \"C:\\\\Users\\\\pierr\\\\AppData\\\\Local\\\\Programs\\\\Python\\\\Python311\\\\Lib\\\\site-packages\\\\debugpy\\\\common\\\\log.py\": 1682861533.9247434, \"C:\\\\Users\\\\pierr\\\\AppData\\\\Local\\\\Programs\\\\Python\\\\Python311\\\\Lib\\\\site-packages\\\\debugpy\\\\common\\\\sockets.py\": 1682861533.9262507, \"C:\\\\Users\\\\pierr\\\\AppData\\\\Local\\\\Programs\\\\Python\\\\Python311\\\\Lib\\\\site-packages\\\\debugpy\\\\server\\\\api.py\": 1682861533.9307802, \"C:\\\\Users\\\\pierr\\\\AppData\\\\Local\\\\Programs\\\\Python\\\\Python311\\\\Lib\\\\site-packages\\\\ipykernel\\\\debugger.py\": 1682861544.230706, \"C:\\\\Users\\\\pierr\\\\AppData\\\\Local\\\\Programs\\\\Python\\\\Python311\\\\Lib\\\\site-packages\\\\packaging\\\\__init__.py\": 1682861533.283711, \"C:\\\\Users\\\\pierr\\\\AppData\\\\Local\\\\Programs\\\\Python\\\\Python311\\\\Lib\\\\site-packages\\\\packaging\\\\_structures.py\": 1682861533.2872317, \"C:\\\\Users\\\\pierr\\\\AppData\\\\Local\\\\Programs\\\\Python\\\\Python311\\\\Lib\\\\site-packages\\\\packaging\\\\version.py\": 1682861533.2907457, \"C:\\\\Users\\\\pierr\\\\AppData\\\\Local\\\\Programs\\\\Python\\\\Python311\\\\Lib\\\\site-packages\\\\ipykernel\\\\eventloops.py\": 1682861544.2317092, \"C:\\\\Users\\\\pierr\\\\AppData\\\\Local\\\\Programs\\\\Python\\\\Python311\\\\Lib\\\\site-packages\\\\IPython\\\\core\\\\payloadpage.py\": 1682861541.6084418, \"C:\\\\Users\\\\pierr\\\\AppData\\\\Local\\\\Programs\\\\Python\\\\Python311\\\\Lib\\\\site-packages\\\\ipykernel\\\\displayhook.py\": 1682861544.230706, \"C:\\\\Users\\\\pierr\\\\AppData\\\\Local\\\\Programs\\\\Python\\\\Python311\\\\Lib\\\\site-packages\\\\ipykernel\\\\zmqshell.py\": 1682861544.2397482, \"C:\\\\Users\\\\pierr\\\\AppData\\\\Local\\\\Programs\\\\Python\\\\Python311\\\\Lib\\\\site-packages\\\\ipykernel\\\\ipkernel.py\": 1682861544.2337058, \"C:\\\\Users\\\\pierr\\\\AppData\\\\Local\\\\Programs\\\\Python\\\\Python311\\\\Lib\\\\site-packages\\\\ipykernel\\\\parentpoller.py\": 1682861544.2367303, \"C:\\\\Users\\\\pierr\\\\AppData\\\\Local\\\\Programs\\\\Python\\\\Python311\\\\Lib\\\\site-packages\\\\ipykernel\\\\kernelapp.py\": 1682861544.2352123, \"C:\\\\Users\\\\pierr\\\\AppData\\\\Local\\\\Programs\\\\Python\\\\Python311\\\\Lib\\\\site-packages\\\\tornado\\\\platform\\\\__init__.py\": 1682861526.526147, \"C:\\\\Users\\\\pierr\\\\AppData\\\\Local\\\\Programs\\\\Python\\\\Python311\\\\Lib\\\\site-packages\\\\tornado\\\\platform\\\\asyncio.py\": 1682861526.5268562, \"C:\\\\Users\\\\pierr\\\\AppData\\\\Local\\\\Programs\\\\Python\\\\Python311\\\\Lib\\\\site-packages\\\\win32\\\\lib\\\\ntsecuritycon.py\": 1682861522.0600283, \"C:\\\\Users\\\\pierr\\\\AppData\\\\Local\\\\Programs\\\\Python\\\\Python311\\\\Lib\\\\site-packages\\\\win32\\\\win32security.pyd\": 1682861522.0070915, \"C:\\\\Users\\\\pierr\\\\AppData\\\\Local\\\\Programs\\\\Python\\\\Python311\\\\Lib\\\\site-packages\\\\IPython\\\\core\\\\completerlib.py\": 1682861541.59177}\n"
     ]
    }
   ],
   "source": [
    "\n",
    "# imports\n",
    "import os\n",
    "import sys\n",
    "import types\n",
    "import json\n",
    "\n",
    "# figure size/format\n",
    "fig_width = 7\n",
    "fig_height = 5\n",
    "fig_format = 'retina'\n",
    "fig_dpi = 96\n",
    "\n",
    "# matplotlib defaults / format\n",
    "try:\n",
    "  import matplotlib.pyplot as plt\n",
    "  plt.rcParams['figure.figsize'] = (fig_width, fig_height)\n",
    "  plt.rcParams['figure.dpi'] = fig_dpi\n",
    "  plt.rcParams['savefig.dpi'] = fig_dpi\n",
    "  from IPython.display import set_matplotlib_formats\n",
    "  set_matplotlib_formats(fig_format)\n",
    "except Exception:\n",
    "  pass\n",
    "\n",
    "# plotly use connected mode\n",
    "try:\n",
    "  import plotly.io as pio\n",
    "  pio.renderers.default = \"notebook_connected\"\n",
    "except Exception:\n",
    "  pass\n",
    "\n",
    "# enable pandas latex repr when targeting pdfs\n",
    "try:\n",
    "  import pandas as pd\n",
    "  if fig_format == 'pdf':\n",
    "    pd.set_option('display.latex.repr', True)\n",
    "except Exception:\n",
    "  pass\n",
    "\n",
    "\n",
    "\n",
    "# output kernel dependencies\n",
    "kernel_deps = dict()\n",
    "for module in list(sys.modules.values()):\n",
    "  # Some modules play games with sys.modules (e.g. email/__init__.py\n",
    "  # in the standard library), and occasionally this can cause strange\n",
    "  # failures in getattr.  Just ignore anything that's not an ordinary\n",
    "  # module.\n",
    "  if not isinstance(module, types.ModuleType):\n",
    "    continue\n",
    "  path = getattr(module, \"__file__\", None)\n",
    "  if not path:\n",
    "    continue\n",
    "  if path.endswith(\".pyc\") or path.endswith(\".pyo\"):\n",
    "    path = path[:-1]\n",
    "  if not os.path.exists(path):\n",
    "    continue\n",
    "  kernel_deps[path] = os.stat(path).st_mtime\n",
    "print(json.dumps(kernel_deps))\n",
    "\n",
    "# set run_path if requested\n",
    "if r'C:\\Users\\pierr\\Documents\\R\\Quarto-test':\n",
    "  os.chdir(r'C:\\Users\\pierr\\Documents\\R\\Quarto-test')\n",
    "\n",
    "# reset state\n",
    "%reset\n",
    "\n",
    "def ojs_define(**kwargs):\n",
    "  import json\n",
    "  try:\n",
    "    # IPython 7.14 preferred import\n",
    "    from IPython.display import display, HTML\n",
    "  except:\n",
    "    from IPython.core.display import display, HTML\n",
    "\n",
    "  # do some minor magic for convenience when handling pandas\n",
    "  # dataframes\n",
    "  def convert(v):\n",
    "    try:\n",
    "      import pandas as pd\n",
    "    except ModuleNotFoundError: # don't do the magic when pandas is not available\n",
    "      return v\n",
    "    if type(v) == pd.Series:\n",
    "      v = pd.DataFrame(v)\n",
    "    if type(v) == pd.DataFrame:\n",
    "      j = json.loads(v.T.to_json(orient='split'))\n",
    "      return dict((k,v) for (k,v) in zip(j[\"index\"], j[\"data\"]))\n",
    "    else:\n",
    "      return v\n",
    "  \n",
    "  v = dict(contents=list(dict(name=key, value=convert(value)) for (key, value) in kwargs.items()))\n",
    "  display(HTML('<script type=\"ojs-define\">' + json.dumps(v) + '</script>'), metadata=dict(ojs_define = True))\n",
    "globals()[\"ojs_define\"] = ojs_define\n"
   ]
  },
  {
   "cell_type": "code",
   "execution_count": 2,
   "id": "e0aa05e9",
   "metadata": {},
   "outputs": [
    {
     "name": "stderr",
     "output_type": "stream",
     "text": [
      "INFO:Will query: https://www.sephora.fr/shop/cheveux/soin-cheveux/shampoing-c447/\n"
     ]
    },
    {
     "name": "stderr",
     "output_type": "stream",
     "text": [
      "INFO:Will get 339 of articles.\n"
     ]
    },
    {
     "name": "stderr",
     "output_type": "stream",
     "text": [
      "INFO:Will query: https://www.sephora.fr/shop/cheveux/soin-cheveux/shampoing-c447/?srule=GoLiveSortingRule&sz=339&format=page-element&start=0&on=onclickload\n"
     ]
    },
    {
     "name": "stderr",
     "output_type": "stream",
     "text": [
      "INFO:Got 339 articles.\n"
     ]
    },
    {
     "name": "stderr",
     "output_type": "stream",
     "text": [
      "INFO:Will query: https://www.sephora.fr/p/scalp-revival-charcoal---shampooing-exfoliant-441218.html\n"
     ]
    },
    {
     "name": "stderr",
     "output_type": "stream",
     "text": [
      "INFO:Will query: https://www.sephora.fr/p/no.-4c-bond-maintenance---shampoing-clarifiant-619045.html\n"
     ]
    },
    {
     "name": "stderr",
     "output_type": "stream",
     "text": [
      "INFO:Will query: https://www.sephora.fr/p/shampooing-fortifiant---repare-hydrate-P10025021.html\n"
     ]
    },
    {
     "name": "stderr",
     "output_type": "stream",
     "text": [
      "INFO:Will query: https://www.sephora.fr/p/symbiose-bain-purete-anti-pelliculaire---shampoing-anti-pelliculaire-purifiant-657375.html\n"
     ]
    },
    {
     "name": "stderr",
     "output_type": "stream",
     "text": [
      "INFO:Will query: https://www.sephora.fr/p/symbiose-bain-creme-anti-pelliculaire---shampooing-anti-pelliculaire-hydratant-657374.html\n"
     ]
    },
    {
     "name": "stderr",
     "output_type": "stream",
     "text": [
      "INFO:Will query: https://www.sephora.fr/p-kerastase_set_2.html\n"
     ]
    },
    {
     "name": "stderr",
     "output_type": "stream",
     "text": [
      "ERROR:Couldn't find the ingredients\n"
     ]
    },
    {
     "name": "stderr",
     "output_type": "stream",
     "text": [
      "INFO:Will query: https://www.sephora.fr/p/shampoing-bond-maintenance-n%C2%B04-455723.html\n"
     ]
    },
    {
     "name": "stderr",
     "output_type": "stream",
     "text": [
      "INFO:Will query: https://www.sephora.fr/p-kerastase_set_5.html\n"
     ]
    },
    {
     "name": "stderr",
     "output_type": "stream",
     "text": [
      "ERROR:Couldn't find the ingredients\n"
     ]
    },
    {
     "name": "stderr",
     "output_type": "stream",
     "text": [
      "INFO:Will query: https://www.sephora.fr/p-kerastase_set_1.html\n"
     ]
    },
    {
     "name": "stderr",
     "output_type": "stream",
     "text": [
      "ERROR:Couldn't find the ingredients\n"
     ]
    },
    {
     "name": "stderr",
     "output_type": "stream",
     "text": [
      "INFO:Will query: https://www.sephora.fr/p/sephora-favorites---coffret-de-soin-584779.html\n"
     ]
    },
    {
     "name": "stderr",
     "output_type": "stream",
     "text": [
      "INFO:Will query: https://www.sephora.fr/p-kerastase_set_7.html\n"
     ]
    },
    {
     "name": "stderr",
     "output_type": "stream",
     "text": [
      "ERROR:Couldn't find the ingredients\n"
     ]
    },
    {
     "name": "stderr",
     "output_type": "stream",
     "text": [
      "INFO:Will query: https://www.sephora.fr/p-kerastase_set_6.html\n"
     ]
    },
    {
     "name": "stderr",
     "output_type": "stream",
     "text": [
      "ERROR:Couldn't find the ingredients\n"
     ]
    },
    {
     "name": "stderr",
     "output_type": "stream",
     "text": [
      "INFO:Will query: https://www.sephora.fr/p/shampoing-exfoliant-cheveux---nettoie-purifie-503123.html\n"
     ]
    },
    {
     "name": "stderr",
     "output_type": "stream",
     "text": [
      "INFO:Will query: https://www.sephora.fr/p-Steampod_product_set_2.html\n"
     ]
    },
    {
     "name": "stderr",
     "output_type": "stream",
     "text": [
      "ERROR:Couldn't find the ingredients\n"
     ]
    },
    {
     "name": "stderr",
     "output_type": "stream",
     "text": [
      "INFO:Will query: https://www.sephora.fr/p-Steampod_product_set_1.html\n"
     ]
    },
    {
     "name": "stderr",
     "output_type": "stream",
     "text": [
      "ERROR:Couldn't find the ingredients\n"
     ]
    },
    {
     "name": "stderr",
     "output_type": "stream",
     "text": [
      "INFO:Will query: https://www.sephora.fr/p-kerastase_set_9.html\n"
     ]
    },
    {
     "name": "stderr",
     "output_type": "stream",
     "text": [
      "ERROR:Couldn't find the ingredients\n"
     ]
    },
    {
     "name": "stderr",
     "output_type": "stream",
     "text": [
      "INFO:Will query: https://www.sephora.fr/p-kerastase_set_3.html\n"
     ]
    },
    {
     "name": "stderr",
     "output_type": "stream",
     "text": [
      "ERROR:Couldn't find the ingredients\n"
     ]
    },
    {
     "name": "stderr",
     "output_type": "stream",
     "text": [
      "INFO:Will query: https://www.sephora.fr/p/blond-absolu---shampooing-bain-lumiere-472210.html\n"
     ]
    },
    {
     "name": "stderr",
     "output_type": "stream",
     "text": [
      "INFO:Will query: https://www.sephora.fr/p-sephoracollection_haircareset_2.html\n"
     ]
    },
    {
     "name": "stderr",
     "output_type": "stream",
     "text": [
      "ERROR:Couldn't find the price or unit \n"
     ]
    },
    {
     "name": "stderr",
     "output_type": "stream",
     "text": [
      "INFO:Will query: https://www.sephora.fr/p/nutritive---shampooing-bain-satin-n%C2%B02-419596.html\n"
     ]
    },
    {
     "name": "stderr",
     "output_type": "stream",
     "text": [
      "INFO:Will query: https://www.sephora.fr/p/specifique---bain-divalent-561072.html\n"
     ]
    },
    {
     "name": "stderr",
     "output_type": "stream",
     "text": [
      "INFO:Will query: https://www.sephora.fr/p/sephora-favorites---coffret-pour-les-cheveux-581591.html\n"
     ]
    },
    {
     "name": "stderr",
     "output_type": "stream",
     "text": [
      "INFO:Will query: https://www.sephora.fr/p/shampooing-reparateur-hydratant-499728.html\n"
     ]
    },
    {
     "name": "stderr",
     "output_type": "stream",
     "text": [
      "INFO:Will query: https://www.sephora.fr/p/discipline---shampooing-bain-fluidealiste-396962.html\n"
     ]
    },
    {
     "name": "stderr",
     "output_type": "stream",
     "text": [
      "INFO:Will query: https://www.sephora.fr/p/genesis---bain-nutri-fortifiant-511084.html\n"
     ]
    },
    {
     "name": "stderr",
     "output_type": "stream",
     "text": [
      "INFO:Will query: https://www.sephora.fr/p/hair-prodigieux%C2%AE---shampooing-brillance-miroir-668127.html\n"
     ]
    },
    {
     "name": "stderr",
     "output_type": "stream",
     "text": [
      "INFO:Will query: https://www.sephora.fr/p/resistance---bain-force-architecte-396977.html\n"
     ]
    },
    {
     "name": "stderr",
     "output_type": "stream",
     "text": [
      "INFO:Will query: https://www.sephora.fr/p/shampooing-creme-moelle-de-bambou-43362.html\n"
     ]
    },
    {
     "name": "stderr",
     "output_type": "stream",
     "text": [
      "INFO:Will query: https://www.sephora.fr/p/n%C2%B04p-blonde-enhancing-toning---shampoing-575417.html\n"
     ]
    },
    {
     "name": "stderr",
     "output_type": "stream",
     "text": [
      "INFO:Will query: https://www.sephora.fr/p/chroma-absolu---shampoing-bain-chroma-respect-581833.html\n"
     ]
    },
    {
     "name": "stderr",
     "output_type": "stream",
     "text": [
      "INFO:Will query: https://www.sephora.fr/p/elixir-ultime---shampooing-bain-aux-huiles-455670.html\n"
     ]
    },
    {
     "name": "stderr",
     "output_type": "stream",
     "text": [
      "INFO:Will query: https://www.sephora.fr/p/no.-4-bond-maintenance-%E2%84%A2----shampoing-format-voyage-476385.html\n"
     ]
    },
    {
     "name": "stderr",
     "output_type": "stream",
     "text": [
      "INFO:Will query: https://www.sephora.fr/p/blond-absolu---shampooing-bain-ultra-violet-472211.html\n"
     ]
    },
    {
     "name": "stderr",
     "output_type": "stream",
     "text": [
      "INFO:Will query: https://www.sephora.fr/p/chronologiste-bain-regenerant---shampoing-revitalisant-jeunesse-521938.html\n"
     ]
    },
    {
     "name": "stderr",
     "output_type": "stream",
     "text": [
      "INFO:Will query: https://www.sephora.fr/p/curl-manifesto---bain-hydratation-douceur-554403.html\n"
     ]
    },
    {
     "name": "stderr",
     "output_type": "stream",
     "text": [
      "INFO:Will query: https://www.sephora.fr/p/silkamino-moisturizing---shampoo-611478.html\n"
     ]
    },
    {
     "name": "stderr",
     "output_type": "stream",
     "text": [
      "INFO:Will query: https://www.sephora.fr/p/genesis---bain-hydra-fortifiant-511083.html\n"
     ]
    },
    {
     "name": "stderr",
     "output_type": "stream",
     "text": [
      "INFO:Will query: https://www.sephora.fr/p/shampooing-extra-volume-441744.html\n"
     ]
    },
    {
     "name": "stderr",
     "output_type": "stream",
     "text": [
      "INFO:Will query: https://www.sephora.fr/p/shampoing-fortifiant-a-l-eau-de-riz---shampoing-cheveux-fragiles-659077.html\n"
     ]
    },
    {
     "name": "stderr",
     "output_type": "stream",
     "text": [
      "INFO:Will query: https://www.sephora.fr/p/resistance---shampooing-bain-extentioniste-443011.html\n"
     ]
    },
    {
     "name": "stderr",
     "output_type": "stream",
     "text": [
      "INFO:Will query: https://www.sephora.fr/p/densifique---shampooing-bain-densite-396954.html\n"
     ]
    },
    {
     "name": "stderr",
     "output_type": "stream",
     "text": [
      "INFO:Will query: https://www.sephora.fr/p/metal-detox---shampooing--creme-lavante-anti-depot-de-metaux-557769.html\n"
     ]
    },
    {
     "name": "stderr",
     "output_type": "stream",
     "text": [
      "INFO:Will query: https://www.sephora.fr/p/color-security-shampoo---shampooing-dream-clean-ultime-533983.html\n"
     ]
    },
    {
     "name": "stderr",
     "output_type": "stream",
     "text": [
      "INFO:Will query: https://www.sephora.fr/p/honey-infused-hair-wash---shampoing-P10047488.html\n"
     ]
    },
    {
     "name": "stderr",
     "output_type": "stream",
     "text": [
      "INFO:Will query: https://www.sephora.fr/p/scrub-lavant-purifiant-au-sel-marin-264532.html\n"
     ]
    },
    {
     "name": "stderr",
     "output_type": "stream",
     "text": [
      "INFO:Will query: https://www.sephora.fr/p/shampoing-tout-nu---shampoing-solide-pour-cheveux-normaux-579273.html\n"
     ]
    },
    {
     "name": "stderr",
     "output_type": "stream",
     "text": [
      "ERROR:Couldn't find the price or unit \n"
     ]
    },
    {
     "name": "stderr",
     "output_type": "stream",
     "text": [
      "INFO:Will query: https://www.sephora.fr/p/specifique---shampooing-bain-vital-dermo-calm-397004.html\n"
     ]
    },
    {
     "name": "stderr",
     "output_type": "stream",
     "text": [
      "INFO:Will query: https://www.sephora.fr/p/volumifique---shampooing-bain-volume-396996.html\n"
     ]
    },
    {
     "name": "stderr",
     "output_type": "stream",
     "text": [
      "INFO:Will query: https://www.sephora.fr/p/shampooing-regenerant-a-l-huile-de-figue-de-barbarie-566519.html\n"
     ]
    },
    {
     "name": "stderr",
     "output_type": "stream",
     "text": [
      "INFO:Will query: https://www.sephora.fr/p/shampooing-hydratant-a-l-aloe-vera-566518.html\n"
     ]
    },
    {
     "name": "stderr",
     "output_type": "stream",
     "text": [
      "INFO:Will query: https://www.sephora.fr/p/bain-traitant-a-la-propolis-19651.html\n"
     ]
    },
    {
     "name": "stderr",
     "output_type": "stream",
     "text": [
      "INFO:Will query: https://www.sephora.fr/p/capillaire---shampoing-sec-seboreducteur-a-l%E2%80%99ortie---cheveux-gras-P10044054.html\n"
     ]
    },
    {
     "name": "stderr",
     "output_type": "stream",
     "text": [
      "INFO:Will query: https://www.sephora.fr/p/naturia---shampooing-sec-invisible-P10044088.html\n"
     ]
    },
    {
     "name": "stderr",
     "output_type": "stream",
     "text": [
      "INFO:Will query: https://www.sephora.fr/p/specifique---argile-equilibrante-561070.html\n"
     ]
    },
    {
     "name": "stderr",
     "output_type": "stream",
     "text": [
      "INFO:Will query: https://www.sephora.fr/p/chroma-absolu---bain-riche-chroma-respect-581834.html\n"
     ]
    },
    {
     "name": "stderr",
     "output_type": "stream",
     "text": [
      "INFO:Will query: https://www.sephora.fr/p/color-lustre---shampooing-420002.html\n"
     ]
    },
    {
     "name": "stderr",
     "output_type": "stream",
     "text": [
      "INFO:Will query: https://www.sephora.fr/p/champ%C3%BA-acidic-bonding-concentrate-551854.html\n"
     ]
    },
    {
     "name": "stderr",
     "output_type": "stream",
     "text": [
      "INFO:Will query: https://www.sephora.fr/p/resistance---shampooing-bain-therapiste-397018.html\n"
     ]
    },
    {
     "name": "stderr",
     "output_type": "stream",
     "text": [
      "INFO:Will query: https://www.sephora.fr/p/specifique---shampooing-bain-anti-pelliculaire-419598.html\n"
     ]
    },
    {
     "name": "stderr",
     "output_type": "stream",
     "text": [
      "INFO:Will query: https://www.sephora.fr/p/hairdresser-s-invisible-oil-shampoo---shampooing-hydratant-sans-sulfates-304865.html\n"
     ]
    },
    {
     "name": "stderr",
     "output_type": "stream",
     "text": [
      "INFO:Will query: https://www.sephora.fr/p/rituals-homme---coffret-m-corps-et-bain-641229.html\n"
     ]
    },
    {
     "name": "stderr",
     "output_type": "stream",
     "text": [
      "INFO:Will query: https://www.sephora.fr/p/hair-rituel-by-sisley-revitalizing-straightening-shampoo-455242.html\n"
     ]
    },
    {
     "name": "stderr",
     "output_type": "stream",
     "text": [
      "INFO:Will query: https://www.sephora.fr/p/volume-injection---shampoing-volumisant-cheveux-fins-et-plats-557742.html\n"
     ]
    },
    {
     "name": "stderr",
     "output_type": "stream",
     "text": [
      "INFO:Will query: https://www.sephora.fr/p/specifique---shampooing-bain-riche-dermo-calm-419599.html\n"
     ]
    },
    {
     "name": "stderr",
     "output_type": "stream",
     "text": [
      "INFO:Will query: https://www.sephora.fr/p/le-volume-en-vitrine---coffret-soin-cheveux-640798.html\n"
     ]
    },
    {
     "name": "stderr",
     "output_type": "stream",
     "text": [
      "INFO:Will query: https://www.sephora.fr/p/invigo---shampoing-nourrissant-nutri-enrich-pour-cheveux-secs-ou-fragilises-P10023642.html\n"
     ]
    },
    {
     "name": "stderr",
     "output_type": "stream",
     "text": [
      "INFO:Will query: https://www.sephora.fr/p/nutritive---shampooing-bain-satin-n%C2%B01-396982.html\n"
     ]
    },
    {
     "name": "stderr",
     "output_type": "stream",
     "text": [
      "INFO:Will query: https://www.sephora.fr/p/don-t-despair--repair----coffret-solutions-fortifiantes-et-reparatrices-584495.html\n"
     ]
    },
    {
     "name": "stderr",
     "output_type": "stream",
     "text": [
      "INFO:Will query: https://www.sephora.fr/p/genesis-homme---bain-de-force-quotidien-615339.html\n"
     ]
    },
    {
     "name": "stderr",
     "output_type": "stream",
     "text": [
      "INFO:Will query: https://www.sephora.fr/p/botanical-repair-shampoo---shampoing-reparateur-a-base-de-plantes-531511.html\n"
     ]
    },
    {
     "name": "stderr",
     "output_type": "stream",
     "text": [
      "INFO:Will query: https://www.sephora.fr/p/holiroots%E2%84%A2-shampoo---shampooing-hydratant-573481.html\n"
     ]
    },
    {
     "name": "stderr",
     "output_type": "stream",
     "text": [
      "INFO:Will query: https://www.sephora.fr/p/shampooing-hydratant-441745.html\n"
     ]
    },
    {
     "name": "stderr",
     "output_type": "stream",
     "text": [
      "INFO:Will query: https://www.sephora.fr/p/the-ritual-of-sakura---shampoing-488820.html\n"
     ]
    },
    {
     "name": "stderr",
     "output_type": "stream",
     "text": [
      "INFO:Will query: https://www.sephora.fr/p/ultimate-reset---shampooing-455677.html\n"
     ]
    },
    {
     "name": "stderr",
     "output_type": "stream",
     "text": [
      "INFO:Will query: https://www.sephora.fr/p/soin-nomade-pour-les-mains-643021.html\n"
     ]
    },
    {
     "name": "stderr",
     "output_type": "stream",
     "text": [
      "ERROR:Couldn't find the price or unit \n"
     ]
    },
    {
     "name": "stderr",
     "output_type": "stream",
     "text": [
      "INFO:Will query: https://www.sephora.fr/p/shampoing-force-quinine-et-edelweiss-bio---chute-de-cheveux--cheveux-fatigues-P10026551.html\n"
     ]
    },
    {
     "name": "stderr",
     "output_type": "stream",
     "text": [
      "INFO:Will query: https://www.sephora.fr/p/soleil---shampooing-bain-apres-soleil-480382.html\n"
     ]
    },
    {
     "name": "stderr",
     "output_type": "stream",
     "text": [
      "INFO:Will query: https://www.sephora.fr/p/for-longer-stonger-hair---coffret-soin-cheveux-496070.html\n"
     ]
    },
    {
     "name": "stderr",
     "output_type": "stream",
     "text": [
      "ERROR:Couldn't find the price or unit \n"
     ]
    },
    {
     "name": "stderr",
     "output_type": "stream",
     "text": [
      "INFO:Will query: https://www.sephora.fr/p/shampooing-volume-aux-extraits-de-rose-566520.html\n"
     ]
    },
    {
     "name": "stderr",
     "output_type": "stream",
     "text": [
      "INFO:Will query: https://www.sephora.fr/p/honey-infused-hair-wash-P10014609.html\n"
     ]
    },
    {
     "name": "stderr",
     "output_type": "stream",
     "text": [
      "INFO:Will query: https://www.sephora.fr/p/shampoing-quotidien---shampoing-fortifiant-et-assouplissant-565984.html\n"
     ]
    },
    {
     "name": "stderr",
     "output_type": "stream",
     "text": [
      "INFO:Will query: https://www.sephora.fr/p/kelual-ds---shampooing-traitant-etats-pelliculaires-severes-659065.html\n"
     ]
    },
    {
     "name": "stderr",
     "output_type": "stream",
     "text": [
      "INFO:Will query: https://www.sephora.fr/p/chroma-absolu---eco-recharge-bain-chroma-respect-riche-588874.html\n"
     ]
    },
    {
     "name": "stderr",
     "output_type": "stream",
     "text": [
      "INFO:Will query: https://www.sephora.fr/p/serie-expert-chroma-creme---shampoing-neutralisant-de-reflets-jaunes-P10023731.html\n"
     ]
    },
    {
     "name": "stderr",
     "output_type": "stream",
     "text": [
      "INFO:Will query: https://www.sephora.fr/p/voluminous-shampoo---shampoing-volumateur-421686.html\n"
     ]
    },
    {
     "name": "stderr",
     "output_type": "stream",
     "text": [
      "INFO:Will query: https://www.sephora.fr/p/node-p-apaisant---shampooing-anti-pelliculaire-cuir-chevelu-sensible-649998.html\n"
     ]
    },
    {
     "name": "stderr",
     "output_type": "stream",
     "text": [
      "INFO:Will query: https://www.sephora.fr/p/genesis---eco-recharge-bain-hydra-fortifiant-588875.html\n"
     ]
    },
    {
     "name": "stderr",
     "output_type": "stream",
     "text": [
      "INFO:Will query: https://www.sephora.fr/p/muroto-volume---shampooing-503745.html\n"
     ]
    },
    {
     "name": "stderr",
     "output_type": "stream",
     "text": [
      "INFO:Will query: https://www.sephora.fr/p/bain-volumateur-aux-algues-22599.html\n"
     ]
    },
    {
     "name": "stderr",
     "output_type": "stream",
     "text": [
      "INFO:Will query: https://www.sephora.fr/p/shampooing-violet-blond-parfait---shampoing-correcteur-537407.html\n"
     ]
    },
    {
     "name": "stderr",
     "output_type": "stream",
     "text": [
      "INFO:Will query: https://www.sephora.fr/p/deep-cleanser---shampoing-doux-eclat-643310.html\n"
     ]
    },
    {
     "name": "stderr",
     "output_type": "stream",
     "text": [
      "INFO:Will query: https://www.sephora.fr/p/voluminous-shampoo---shampoing-volume-format-voyage-502249.html\n"
     ]
    },
    {
     "name": "stderr",
     "output_type": "stream",
     "text": [
      "ERROR:Couldn't find the price or unit \n"
     ]
    },
    {
     "name": "stderr",
     "output_type": "stream",
     "text": [
      "INFO:Will query: https://www.sephora.fr/p/don-t-despair--repair--super-moisture-shampoo---shampooing-hydratant-441210.html\n"
     ]
    },
    {
     "name": "stderr",
     "output_type": "stream",
     "text": [
      "INFO:Will query: https://www.sephora.fr/p/bain-vitalisant-b-19655.html\n"
     ]
    },
    {
     "name": "stderr",
     "output_type": "stream",
     "text": [
      "INFO:Will query: https://www.sephora.fr/p/shampoing-seboreducteur-a-l-ortie-bio---cheveux-gras-619775.html\n"
     ]
    },
    {
     "name": "stderr",
     "output_type": "stream",
     "text": [
      "INFO:Will query: https://www.sephora.fr/p/capillaire---shampoing-sec-extra-doux-au-lait-d%E2%80%99avoine---tous-types-de-cheveux-P10044053.html\n"
     ]
    },
    {
     "name": "stderr",
     "output_type": "stream",
     "text": [
      "INFO:Will query: https://www.sephora.fr/p/shampure---shampooing-nourrissant-470158.html\n"
     ]
    },
    {
     "name": "stderr",
     "output_type": "stream",
     "text": [
      "INFO:Will query: https://www.sephora.fr/p/genesis---coffret-soins-cheveux-661769.html\n"
     ]
    },
    {
     "name": "stderr",
     "output_type": "stream",
     "text": [
      "ERROR:Couldn't find the price or unit \n"
     ]
    },
    {
     "name": "stderr",
     "output_type": "stream",
     "text": [
      "INFO:Will query: https://www.sephora.fr/p/bain-ts-19653.html\n"
     ]
    },
    {
     "name": "stderr",
     "output_type": "stream",
     "text": [
      "INFO:Will query: https://www.sephora.fr/p/genesis-homme---bain-de-masse-epaissisant-615340.html\n"
     ]
    },
    {
     "name": "stderr",
     "output_type": "stream",
     "text": [
      "INFO:Will query: https://www.sephora.fr/p/serie-expert-scalp-advanced---shampoing-dermo-purifiant-P10048755.html\n"
     ]
    },
    {
     "name": "stderr",
     "output_type": "stream",
     "text": [
      "INFO:Will query: https://www.sephora.fr/p/soin-lavant-disciplinant-a-l-huile-de-macadamia-425627.html\n"
     ]
    },
    {
     "name": "stderr",
     "output_type": "stream",
     "text": [
      "INFO:Will query: https://www.sephora.fr/p/y%C5%ABbi-blonde---shampooing-revelateur-d%E2%80%99eclat-545631.html\n"
     ]
    },
    {
     "name": "stderr",
     "output_type": "stream",
     "text": [
      "INFO:Will query: https://www.sephora.fr/p/calendrier-de-l-avent-de-noel---the-ritual-of-advent-3d-640804.html\n"
     ]
    },
    {
     "name": "stderr",
     "output_type": "stream",
     "text": [
      "ERROR:Couldn't find the price or unit \n"
     ]
    },
    {
     "name": "stderr",
     "output_type": "stream",
     "text": [
      "INFO:Will query: https://www.sephora.fr/p/nutritive---eco-recharge-bain-nutritive-bain-satin-588877.html\n"
     ]
    },
    {
     "name": "stderr",
     "output_type": "stream",
     "text": [
      "INFO:Will query: https://www.sephora.fr/p/bb.bond-building-shampoo---shampooing-reparateur-543919.html\n"
     ]
    },
    {
     "name": "stderr",
     "output_type": "stream",
     "text": [
      "INFO:Will query: https://www.sephora.fr/p/holiroots%E2%84%A2-good-karma-hair-650777.html\n"
     ]
    },
    {
     "name": "stderr",
     "output_type": "stream",
     "text": [
      "ERROR:Couldn't find the price or unit \n"
     ]
    },
    {
     "name": "stderr",
     "output_type": "stream",
     "text": [
      "INFO:Will query: https://www.sephora.fr/p/serie-expert-scalp-advanced---shampoing-dermo-clarifiant-anti-pelliculaire-P10048751.html\n"
     ]
    },
    {
     "name": "stderr",
     "output_type": "stream",
     "text": [
      "INFO:Will query: https://www.sephora.fr/p/nettoyant-au-sulfate-4%C2%A0%25---nettoyant-corps-et-cheveux-584902.html\n"
     ]
    },
    {
     "name": "stderr",
     "output_type": "stream",
     "text": [
      "INFO:Will query: https://www.sephora.fr/p/scrub-lavant-purifiant-au-sel-marin---format-voyage-394621.html\n"
     ]
    },
    {
     "name": "stderr",
     "output_type": "stream",
     "text": [
      "INFO:Will query: https://www.sephora.fr/p/shampooing-solide-douceur-573275.html\n"
     ]
    },
    {
     "name": "stderr",
     "output_type": "stream",
     "text": [
      "INFO:Will query: https://www.sephora.fr/p/thickening-shampoo---shampooing-volume-450789.html\n"
     ]
    },
    {
     "name": "stderr",
     "output_type": "stream",
     "text": [
      "INFO:Will query: https://www.sephora.fr/p/color-extend-magnetics-shampoo-411085.html\n"
     ]
    },
    {
     "name": "stderr",
     "output_type": "stream",
     "text": [
      "INFO:Will query: https://www.sephora.fr/p/shampooing-complet-482485.html\n"
     ]
    },
    {
     "name": "stderr",
     "output_type": "stream",
     "text": [
      "INFO:Will query: https://www.sephora.fr/p/shampoing-cuir-chevelu-sensible---shampoing-solide-652564.html\n"
     ]
    },
    {
     "name": "stderr",
     "output_type": "stream",
     "text": [
      "ERROR:Couldn't find the price or unit \n"
     ]
    },
    {
     "name": "stderr",
     "output_type": "stream",
     "text": [
      "INFO:Will query: https://www.sephora.fr/p/discipline---shampooing-bain-oleo-relax-503341.html\n"
     ]
    },
    {
     "name": "stderr",
     "output_type": "stream",
     "text": [
      "INFO:Will query: https://www.sephora.fr/p/inforcer---shampooing-renforcateur-anti-casse-enrichi-en-vitamine-b6-et-biotine-557766.html\n"
     ]
    },
    {
     "name": "stderr",
     "output_type": "stream",
     "text": [
      "ERROR:Couldn't find the price or unit \n"
     ]
    },
    {
     "name": "stderr",
     "output_type": "stream",
     "text": [
      "INFO:Will query: https://www.sephora.fr/p/node-k-concentre---shampoing-anti-squames-pour-cuir-chevelu-irrite-649996.html\n"
     ]
    },
    {
     "name": "stderr",
     "output_type": "stream",
     "text": [
      "INFO:Will query: https://www.sephora.fr/p/all-soft-shampoo-411087.html\n"
     ]
    },
    {
     "name": "stderr",
     "output_type": "stream",
     "text": [
      "INFO:Will query: https://www.sephora.fr/p/shampooing-reviviscence-198023.html\n"
     ]
    },
    {
     "name": "stderr",
     "output_type": "stream",
     "text": [
      "INFO:Will query: https://www.sephora.fr/p/serie-expert-curl-expression---shampoing-creme-hydratation-intense-P10026052.html\n"
     ]
    },
    {
     "name": "stderr",
     "output_type": "stream",
     "text": [
      "INFO:Will query: https://www.sephora.fr/p/node-k-shampoing---shampoing-apaisant-anti-squame-649997.html\n"
     ]
    },
    {
     "name": "stderr",
     "output_type": "stream",
     "text": [
      "INFO:Will query: https://www.sephora.fr/p/color-brilliance---shampoing-pour-cheveux-colores-fins-a-normaux-P10023636.html\n"
     ]
    },
    {
     "name": "stderr",
     "output_type": "stream",
     "text": [
      "INFO:Will query: https://www.sephora.fr/p/invati-advanced-sup-tm--sup----shampooing-exfoliant-leger-535095.html\n"
     ]
    },
    {
     "name": "stderr",
     "output_type": "stream",
     "text": [
      "INFO:Will query: https://www.sephora.fr/p/terre-d-hermes---shampoing-corps-et-cheveux-139328.html\n"
     ]
    },
    {
     "name": "stderr",
     "output_type": "stream",
     "text": [
      "INFO:Will query: https://www.sephora.fr/p/capillaire---shampoing-a-la-camomille---illumine---cheveux-blonds-P10044058.html\n"
     ]
    },
    {
     "name": "stderr",
     "output_type": "stream",
     "text": [
      "ERROR:Couldn't find the ingredients\n"
     ]
    },
    {
     "name": "stderr",
     "output_type": "stream",
     "text": [
      "INFO:Will query: https://www.sephora.fr/p/nutriplenish%C2%AE---shampooing-hydratation-profonde-506827.html\n"
     ]
    },
    {
     "name": "stderr",
     "output_type": "stream",
     "text": [
      "INFO:Will query: https://www.sephora.fr/p/soin-lavant-revitalisant-volumateur-a-l-huile-de-camelia-425626.html\n"
     ]
    },
    {
     "name": "stderr",
     "output_type": "stream",
     "text": [
      "INFO:Will query: https://www.sephora.fr/p/nutritive---shampooing-bain-magistral-396986.html\n"
     ]
    },
    {
     "name": "stderr",
     "output_type": "stream",
     "text": [
      "INFO:Will query: https://www.sephora.fr/p/absolue-keratine---shampooing-soin-reparateur-619537.html\n"
     ]
    },
    {
     "name": "stderr",
     "output_type": "stream",
     "text": [
      "INFO:Will query: https://www.sephora.fr/p/blond-absolu---coffret-cheveux-blonds-610321.html\n"
     ]
    },
    {
     "name": "stderr",
     "output_type": "stream",
     "text": [
      "ERROR:Couldn't find the price or unit \n"
     ]
    },
    {
     "name": "stderr",
     "output_type": "stream",
     "text": [
      "INFO:Will query: https://www.sephora.fr/p/creme-lavante-bouclier-couleur-617324.html\n"
     ]
    },
    {
     "name": "stderr",
     "output_type": "stream",
     "text": [
      "INFO:Will query: https://www.sephora.fr/p/coffret-mini-solides-542617.html\n"
     ]
    },
    {
     "name": "stderr",
     "output_type": "stream",
     "text": [
      "ERROR:Couldn't find the price or unit \n"
     ]
    },
    {
     "name": "stderr",
     "output_type": "stream",
     "text": [
      "INFO:Will query: https://www.sephora.fr/p/serie-expert-scalp-advanced---shampoing-niacinamide-dermo-regulateur-apaisant-P10048752.html\n"
     ]
    },
    {
     "name": "stderr",
     "output_type": "stream",
     "text": [
      "INFO:Will query: https://www.sephora.fr/p/pate-lavante-epaississante-a-l-algue-de-tahiti-566511.html\n"
     ]
    },
    {
     "name": "stderr",
     "output_type": "stream",
     "text": [
      "INFO:Will query: https://www.sephora.fr/p/pate-lavante-volumisante-aux-extraits-de-rose-566510.html\n"
     ]
    },
    {
     "name": "stderr",
     "output_type": "stream",
     "text": [
      "INFO:Will query: https://www.sephora.fr/p/soin-lavant-doux-purete---shampoing-purifiant-613698.html\n"
     ]
    },
    {
     "name": "stderr",
     "output_type": "stream",
     "text": [
      "INFO:Will query: https://www.sephora.fr/p/blond-absolu---bain-cicaextreme-544034.html\n"
     ]
    },
    {
     "name": "stderr",
     "output_type": "stream",
     "text": [
      "INFO:Will query: https://www.sephora.fr/p/nuxe-sun---shampooing-douche-apres-soleil-352149.html\n"
     ]
    },
    {
     "name": "stderr",
     "output_type": "stream",
     "text": [
      "INFO:Will query: https://www.sephora.fr/p/liss-unlimited---shampoing-lissant-pour-cheveux-indisciplines-557768.html\n"
     ]
    },
    {
     "name": "stderr",
     "output_type": "stream",
     "text": [
      "ERROR:Couldn't find the price or unit \n"
     ]
    },
    {
     "name": "stderr",
     "output_type": "stream",
     "text": [
      "INFO:Will query: https://www.sephora.fr/p/shampoing-solide---lait-d-amandes-511255.html\n"
     ]
    },
    {
     "name": "stderr",
     "output_type": "stream",
     "text": [
      "ERROR:Couldn't find the price or unit \n"
     ]
    },
    {
     "name": "stderr",
     "output_type": "stream",
     "text": [
      "INFO:Will query: https://www.sephora.fr/p/blond-absolu---eco-recharge-bain-lumiere-588873.html\n"
     ]
    },
    {
     "name": "stderr",
     "output_type": "stream",
     "text": [
      "INFO:Will query: https://www.sephora.fr/p/fusion-kit---coffret-rituel-cheveux-reparation-intense-619534.html\n"
     ]
    },
    {
     "name": "stderr",
     "output_type": "stream",
     "text": [
      "INFO:Will query: https://www.sephora.fr/p/capillaire---shampoing-reequilibrant-au-galanga---antipelliculaire-P10044061.html\n"
     ]
    },
    {
     "name": "stderr",
     "output_type": "stream",
     "text": [
      "INFO:Will query: https://www.sephora.fr/p/shampoing-solide---shampoing-purifiant-619531.html\n"
     ]
    },
    {
     "name": "stderr",
     "output_type": "stream",
     "text": [
      "ERROR:Couldn't find the price or unit \n"
     ]
    },
    {
     "name": "stderr",
     "output_type": "stream",
     "text": [
      "INFO:Will query: https://www.sephora.fr/p/shampoing-tout-nu-cheveux-colores---shampoing-solide-668394.html\n"
     ]
    },
    {
     "name": "stderr",
     "output_type": "stream",
     "text": [
      "ERROR:Couldn't find the price or unit \n"
     ]
    },
    {
     "name": "stderr",
     "output_type": "stream",
     "text": [
      "INFO:Will query: https://www.sephora.fr/p/hairdresser-s-invisible-oil-ultra-rich---shampooing-cheveux-secs-a-tres-secs-572697.html\n"
     ]
    },
    {
     "name": "stderr",
     "output_type": "stream",
     "text": [
      "INFO:Will query: https://www.sephora.fr/p/shampoing-nutrition-a-la-mangue---cheveux-secs-P10026548.html\n"
     ]
    },
    {
     "name": "stderr",
     "output_type": "stream",
     "text": [
      "INFO:Will query: https://www.sephora.fr/p/volumetry---shampoing-volumateur-pour-cheveux-fins-557778.html\n"
     ]
    },
    {
     "name": "stderr",
     "output_type": "stream",
     "text": [
      "ERROR:Couldn't find the price or unit \n"
     ]
    },
    {
     "name": "stderr",
     "output_type": "stream",
     "text": [
      "INFO:Will query: https://www.sephora.fr/p/extreme-length---shampoing-fortifiant-longueurs-557740.html\n"
     ]
    },
    {
     "name": "stderr",
     "output_type": "stream",
     "text": [
      "INFO:Will query: https://www.sephora.fr/p/rosemary-mint---shampooing-purifiant-470156.html\n"
     ]
    },
    {
     "name": "stderr",
     "output_type": "stream",
     "text": [
      "INFO:Will query: https://www.sephora.fr/p/deep-cleanser---shampoing-clarifiant-643309.html\n"
     ]
    },
    {
     "name": "stderr",
     "output_type": "stream",
     "text": [
      "INFO:Will query: https://www.sephora.fr/p/full---shampooing-leger-587497.html\n"
     ]
    },
    {
     "name": "stderr",
     "output_type": "stream",
     "text": [
      "INFO:Will query: https://www.sephora.fr/p/coffret-noel-pour-cheveux-secs---coffret-soin-cheveux-569743.html\n"
     ]
    },
    {
     "name": "stderr",
     "output_type": "stream",
     "text": [
      "INFO:Will query: https://www.sephora.fr/p/smooth-infusion%E2%84%A2-shampoo---shampooing-lissant-611141.html\n"
     ]
    },
    {
     "name": "stderr",
     "output_type": "stream",
     "text": [
      "INFO:Will query: https://www.sephora.fr/p/shampoing-purifiant-a-la-boue-thermale---shampoing-detoxifiant-582791.html\n"
     ]
    },
    {
     "name": "stderr",
     "output_type": "stream",
     "text": [
      "INFO:Will query: https://www.sephora.fr/p/shampoing-a-la%C2%A0pivoine%C2%A0bio--%C2%A0apaisant-cuir-chevelu%C2%A0sensible-P10026560.html\n"
     ]
    },
    {
     "name": "stderr",
     "output_type": "stream",
     "text": [
      "INFO:Will query: https://www.sephora.fr/p/color-control%E2%84%A2-shampoo---shampooing-protecteur-de-couleur-617476.html\n"
     ]
    },
    {
     "name": "stderr",
     "output_type": "stream",
     "text": [
      "INFO:Will query: https://www.sephora.fr/p/shampoing-tout-nu---shampoing-solide-pour-cheveux-secs-579272.html\n"
     ]
    },
    {
     "name": "stderr",
     "output_type": "stream",
     "text": [
      "ERROR:Couldn't find the price or unit \n"
     ]
    },
    {
     "name": "stderr",
     "output_type": "stream",
     "text": [
      "INFO:Will query: https://www.sephora.fr/p/amino-acid-shampoo---shampoing-a-l-huile-de-noix-de-coco-pour-cheveux-normaux-P10011646.html\n"
     ]
    },
    {
     "name": "stderr",
     "output_type": "stream",
     "text": [
      "INFO:Will query: https://www.sephora.fr/p/ashita-supreme---shampooing-revitalisation-intense-pour-cheveux-et-cuir-chevelu-582802.html\n"
     ]
    },
    {
     "name": "stderr",
     "output_type": "stream",
     "text": [
      "INFO:Will query: https://www.sephora.fr/p/serie-expert-chroma-creme---shampoing-neutralisant-de-reflets-oranges-582996.html\n"
     ]
    },
    {
     "name": "stderr",
     "output_type": "stream",
     "text": [
      "INFO:Will query: https://www.sephora.fr/p/frizz-dismiss---shampoing-anti-frisottis-cheveux-fins-et-cheveux-epais-557741.html\n"
     ]
    },
    {
     "name": "stderr",
     "output_type": "stream",
     "text": [
      "INFO:Will query: https://www.sephora.fr/p/hiar-rejuvenation---treatment-kit-576854.html\n"
     ]
    },
    {
     "name": "stderr",
     "output_type": "stream",
     "text": [
      "ERROR:Couldn't find the price or unit \n"
     ]
    },
    {
     "name": "stderr",
     "output_type": "stream",
     "text": [
      "INFO:Will query: https://www.sephora.fr/p/bb.-curl-shampoo---shampooing-hydratant-531666.html\n"
     ]
    },
    {
     "name": "stderr",
     "output_type": "stream",
     "text": [
      "INFO:Will query: https://www.sephora.fr/p/naturia---shampooing-micellaire-douceur-643727.html\n"
     ]
    },
    {
     "name": "stderr",
     "output_type": "stream",
     "text": [
      "INFO:Will query: https://www.sephora.fr/p/blond-absolu---coffret-soin-cheveux-blonds-661767.html\n"
     ]
    },
    {
     "name": "stderr",
     "output_type": "stream",
     "text": [
      "ERROR:Couldn't find the price or unit \n"
     ]
    },
    {
     "name": "stderr",
     "output_type": "stream",
     "text": [
      "INFO:Will query: https://www.sephora.fr/p/soin-lavant-perfecteur-de-couleur-a-l-extrait-de-fleur-d-hibiscus-507123.html\n"
     ]
    },
    {
     "name": "stderr",
     "output_type": "stream",
     "text": [
      "INFO:Will query: https://www.sephora.fr/p/genesis---eco-recharge-bain-nutri-fortifiant-588876.html\n"
     ]
    },
    {
     "name": "stderr",
     "output_type": "stream",
     "text": [
      "INFO:Will query: https://www.sephora.fr/p/serie-expert-serioxyl-advanced---shampoing-purifiant-P10048749.html\n"
     ]
    },
    {
     "name": "stderr",
     "output_type": "stream",
     "text": [
      "INFO:Will query: https://www.sephora.fr/p/astera---shampooing-apaisant-fraicheur-619538.html\n"
     ]
    },
    {
     "name": "stderr",
     "output_type": "stream",
     "text": [
      "INFO:Will query: https://www.sephora.fr/p/coffret-soins-iconiques---edition-limitee-577775.html\n"
     ]
    },
    {
     "name": "stderr",
     "output_type": "stream",
     "text": [
      "INFO:Will query: https://www.sephora.fr/p/capillaire---shampoing-sec-seboreducteur-a-l%E2%80%99ortie-cheveux-gras-644192.html\n"
     ]
    },
    {
     "name": "stderr",
     "output_type": "stream",
     "text": [
      "INFO:Will query: https://www.sephora.fr/p/node-a-shampooing---shampoing-apaisant-anti-irritations-cuir-chevelu-sensible-649992.html\n"
     ]
    },
    {
     "name": "stderr",
     "output_type": "stream",
     "text": [
      "INFO:Will query: https://www.sephora.fr/p/fusio-scrub---gommage-scrub-energisant-503344.html\n"
     ]
    },
    {
     "name": "stderr",
     "output_type": "stream",
     "text": [
      "INFO:Will query: https://www.sephora.fr/p/be-gentle--be-kind%E2%84%A2-aloes-et-lait-d-avoine-shampooing-ultra-apaisant-555825.html\n"
     ]
    },
    {
     "name": "stderr",
     "output_type": "stream",
     "text": [
      "INFO:Will query: https://www.sephora.fr/p/invati-advanced-sup-tm--sup----shampooing-exfoliant-riche-535096.html\n"
     ]
    },
    {
     "name": "stderr",
     "output_type": "stream",
     "text": [
      "INFO:Will query: https://www.sephora.fr/p/redken-extreme-bleach-recovery-shampoo-528158.html\n"
     ]
    },
    {
     "name": "stderr",
     "output_type": "stream",
     "text": [
      "INFO:Will query: https://www.sephora.fr/p/shampoing-solide-peche-du-verger-551688.html\n"
     ]
    },
    {
     "name": "stderr",
     "output_type": "stream",
     "text": [
      "ERROR:Couldn't find the price or unit \n"
     ]
    },
    {
     "name": "stderr",
     "output_type": "stream",
     "text": [
      "INFO:Will query: https://www.sephora.fr/p/shampooing-bouclier-couleur-aux-baies-de-camu-camu-566516.html\n"
     ]
    },
    {
     "name": "stderr",
     "output_type": "stream",
     "text": [
      "INFO:Will query: https://www.sephora.fr/p/shampoing-solide---shampoing-nourissant-619530.html\n"
     ]
    },
    {
     "name": "stderr",
     "output_type": "stream",
     "text": [
      "ERROR:Couldn't find the price or unit \n"
     ]
    },
    {
     "name": "stderr",
     "output_type": "stream",
     "text": [
      "INFO:Will query: https://www.sephora.fr/p/classic-shampoo---shampoing-421684.html\n"
     ]
    },
    {
     "name": "stderr",
     "output_type": "stream",
     "text": [
      "INFO:Will query: https://www.sephora.fr/p/sap-moss-sup-tm--sup----shampooing-hydratant-non-alourdissant-485740.html\n"
     ]
    },
    {
     "name": "stderr",
     "output_type": "stream",
     "text": [
      "INFO:Will query: https://www.sephora.fr/p/creme-aux-fleurs-19659.html\n"
     ]
    },
    {
     "name": "stderr",
     "output_type": "stream",
     "text": [
      "INFO:Will query: https://www.sephora.fr/p/colormotion----shampoing-protecteur-de-couleur-pour-cheveux-colores-584926.html\n"
     ]
    },
    {
     "name": "stderr",
     "output_type": "stream",
     "text": [
      "INFO:Will query: https://www.sephora.fr/p/serie-expert---silver-shampoo-P4112087.html\n"
     ]
    },
    {
     "name": "stderr",
     "output_type": "stream",
     "text": [
      "INFO:Will query: https://www.sephora.fr/p/shampooing-sublime-meches-293029.html\n"
     ]
    },
    {
     "name": "stderr",
     "output_type": "stream",
     "text": [
      "INFO:Will query: https://www.sephora.fr/p/oil-reflections---shampoing-revelateur-de-lumiere-394915.html\n"
     ]
    },
    {
     "name": "stderr",
     "output_type": "stream",
     "text": [
      "INFO:Will query: https://www.sephora.fr/p/sublim-curl---shampooing-sublimateur-de-boucles-643732.html\n"
     ]
    },
    {
     "name": "stderr",
     "output_type": "stream",
     "text": [
      "INFO:Will query: https://www.sephora.fr/p/superfoods---coffret-soins-capillaires-a-la-mangue-et-cerise-617756.html\n"
     ]
    },
    {
     "name": "stderr",
     "output_type": "stream",
     "text": [
      "ERROR:Couldn't find the price or unit \n"
     ]
    },
    {
     "name": "stderr",
     "output_type": "stream",
     "text": [
      "INFO:Will query: https://www.sephora.fr/p/shampoing-au-lin-bio---volume-cheveux-fins-619770.html\n"
     ]
    },
    {
     "name": "stderr",
     "output_type": "stream",
     "text": [
      "INFO:Will query: https://www.sephora.fr/p/anti-dandruff-shampoo-646121.html\n"
     ]
    },
    {
     "name": "stderr",
     "output_type": "stream",
     "text": [
      "ERROR:Couldn't find the price or unit \n"
     ]
    },
    {
     "name": "stderr",
     "output_type": "stream",
     "text": [
      "INFO:Will query: https://www.sephora.fr/p/shampooing-classique---shampoing-hydratant-et-adoucissant-546746.html\n"
     ]
    },
    {
     "name": "stderr",
     "output_type": "stream",
     "text": [
      "INFO:Will query: https://www.sephora.fr/p/hydration-shampoo---shampoing-hydratant-440413.html\n"
     ]
    },
    {
     "name": "stderr",
     "output_type": "stream",
     "text": [
      "INFO:Will query: https://www.sephora.fr/p/capillaire---shampoing-sec-volume-au-lin-bio---cheveux-fins--sans-volume-644188.html\n"
     ]
    },
    {
     "name": "stderr",
     "output_type": "stream",
     "text": [
      "INFO:Will query: https://www.sephora.fr/p/resistance---eco-recharge-bain-force-architecte-588878.html\n"
     ]
    },
    {
     "name": "stderr",
     "output_type": "stream",
     "text": [
      "INFO:Will query: https://www.sephora.fr/p/capillaire---shampoing-sec-en-poudre-extra-doux-au-lait-d%E2%80%99avoine-sans-gaz-644175.html\n"
     ]
    },
    {
     "name": "stderr",
     "output_type": "stream",
     "text": [
      "ERROR:Couldn't find the price or unit \n"
     ]
    },
    {
     "name": "stderr",
     "output_type": "stream",
     "text": [
      "INFO:Will query: https://www.sephora.fr/p/superfoods---coffret-soins-capillaires-a-la-pomme--matcha-et-kale-617755.html\n"
     ]
    },
    {
     "name": "stderr",
     "output_type": "stream",
     "text": [
      "ERROR:Couldn't find the price or unit \n"
     ]
    },
    {
     "name": "stderr",
     "output_type": "stream",
     "text": [
      "INFO:Will query: https://www.sephora.fr/p/trio-bye-bye-plastique-579270.html\n"
     ]
    },
    {
     "name": "stderr",
     "output_type": "stream",
     "text": [
      "ERROR:Couldn't find the price or unit \n"
     ]
    },
    {
     "name": "stderr",
     "output_type": "stream",
     "text": [
      "INFO:Will query: https://www.sephora.fr/p/shampooing-reconstituant---format-voyage-482474.html\n"
     ]
    },
    {
     "name": "stderr",
     "output_type": "stream",
     "text": [
      "INFO:Will query: https://www.sephora.fr/p/shampooing-solide-hydratant-a-l-aloe-vera-566517.html\n"
     ]
    },
    {
     "name": "stderr",
     "output_type": "stream",
     "text": [
      "ERROR:Couldn't find the price or unit \n"
     ]
    },
    {
     "name": "stderr",
     "output_type": "stream",
     "text": [
      "INFO:Will query: https://www.sephora.fr/p/les-incontournables---coffret-soin-cheveux-641514.html\n"
     ]
    },
    {
     "name": "stderr",
     "output_type": "stream",
     "text": [
      "INFO:Will query: https://www.sephora.fr/p/shampooing-au-miel-19652.html\n"
     ]
    },
    {
     "name": "stderr",
     "output_type": "stream",
     "text": [
      "INFO:Will query: https://www.sephora.fr/p/curl%C2%A0charismamc---shampooing-hydratant-acide-amine-de-riz-avocat-609765.html\n"
     ]
    },
    {
     "name": "stderr",
     "output_type": "stream",
     "text": [
      "INFO:Will query: https://www.sephora.fr/p/all-about-hydration---coffret-hydratation-cheveux-637091.html\n"
     ]
    },
    {
     "name": "stderr",
     "output_type": "stream",
     "text": [
      "INFO:Will query: https://www.sephora.fr/p/karite-shampooing-nutritif-143444.html\n"
     ]
    },
    {
     "name": "stderr",
     "output_type": "stream",
     "text": [
      "INFO:Will query: https://www.sephora.fr/p/be-gentle--be-kind-matcha---shampooing-revitalisant-441201.html\n"
     ]
    },
    {
     "name": "stderr",
     "output_type": "stream",
     "text": [
      "INFO:Will query: https://www.sephora.fr/p/nutriplenish%C2%AE---shampooing-hydratation-legere-506830.html\n"
     ]
    },
    {
     "name": "stderr",
     "output_type": "stream",
     "text": [
      "INFO:Will query: https://www.sephora.fr/p/scalp-d-ph-ense-%E2%84%A2---serum-nourrissant-et-protecteur-quotidien-584886.html\n"
     ]
    },
    {
     "name": "stderr",
     "output_type": "stream",
     "text": [
      "INFO:Will query: https://www.sephora.fr/p/the-ritual-of-mehr---shampooing-663025.html\n"
     ]
    },
    {
     "name": "stderr",
     "output_type": "stream",
     "text": [
      "INFO:Will query: https://www.sephora.fr/p/chroma-absolu---coffret-soin-cheveux-colores-661768.html\n"
     ]
    },
    {
     "name": "stderr",
     "output_type": "stream",
     "text": [
      "ERROR:Couldn't find the price or unit \n"
     ]
    },
    {
     "name": "stderr",
     "output_type": "stream",
     "text": [
      "INFO:Will query: https://www.sephora.fr/p/color-extend-blondage-shampoo-537966.html\n"
     ]
    },
    {
     "name": "stderr",
     "output_type": "stream",
     "text": [
      "INFO:Will query: https://www.sephora.fr/p/shampoing%C2%A0a-la%C2%A0menthe-aquatique-bio---detox-cheveux-normaux-P10026559.html\n"
     ]
    },
    {
     "name": "stderr",
     "output_type": "stream",
     "text": [
      "INFO:Will query: https://www.sephora.fr/p/curlbond%E2%84%A2---nettoyant-mousse-legere-remodelant-P10024280.html\n"
     ]
    },
    {
     "name": "stderr",
     "output_type": "stream",
     "text": [
      "INFO:Will query: https://www.sephora.fr/p/blossom-et-bloom-ginseng-biotin-volumizing-shampoo---shampooing-volumisant-441202.html\n"
     ]
    },
    {
     "name": "stderr",
     "output_type": "stream",
     "text": [
      "INFO:Will query: https://www.sephora.fr/p/botanical-repair-shampoo---shampoing-reparateur-format-voyage-531559.html\n"
     ]
    },
    {
     "name": "stderr",
     "output_type": "stream",
     "text": [
      "INFO:Will query: https://www.sephora.fr/p/be-curly-shampoo---shampooing-cheveux-boucles-251508.html\n"
     ]
    },
    {
     "name": "stderr",
     "output_type": "stream",
     "text": [
      "INFO:Will query: https://www.sephora.fr/p/serie-expert-curl-expression---gelee-lavante-anti-residus-616480.html\n"
     ]
    },
    {
     "name": "stderr",
     "output_type": "stream",
     "text": [
      "INFO:Will query: https://www.sephora.fr/p/pure-abundance-shampoo---shampooing-volume-251510.html\n"
     ]
    },
    {
     "name": "stderr",
     "output_type": "stream",
     "text": [
      "INFO:Will query: https://www.sephora.fr/p/routine-parfaite-pour-les-fetes-641853.html\n"
     ]
    },
    {
     "name": "stderr",
     "output_type": "stream",
     "text": [
      "ERROR:Couldn't find the price or unit \n"
     ]
    },
    {
     "name": "stderr",
     "output_type": "stream",
     "text": [
      "INFO:Will query: https://www.sephora.fr/p/chroma-absolu---bouteille-rechargeable-610317.html\n"
     ]
    },
    {
     "name": "stderr",
     "output_type": "stream",
     "text": [
      "INFO:Will query: https://www.sephora.fr/p/capillaire---shampoing-sec-extra-doux-au-lait-d%E2%80%99avoine-cheveux-chatains-a-bruns-644174.html\n"
     ]
    },
    {
     "name": "stderr",
     "output_type": "stream",
     "text": [
      "INFO:Will query: https://www.sephora.fr/p/capillaire---shampoing-dejaunissant-a-la-centauree-bio---cheveux-gris--blonds-P10044059.html\n"
     ]
    },
    {
     "name": "stderr",
     "output_type": "stream",
     "text": [
      "INFO:Will query: https://www.sephora.fr/p/color-care---shampooing-violet-blond-parfait-537408.html\n"
     ]
    },
    {
     "name": "stderr",
     "output_type": "stream",
     "text": [
      "INFO:Will query: https://www.sephora.fr/p/rainforest-grown-beauty---coffret-soin-cheveux-502251.html\n"
     ]
    },
    {
     "name": "stderr",
     "output_type": "stream",
     "text": [
      "INFO:Will query: https://www.sephora.fr/p/nutritive---bain-satin-riche-691850.html\n"
     ]
    },
    {
     "name": "stderr",
     "output_type": "stream",
     "text": [
      "INFO:Will query: https://www.sephora.fr/p/elution---shampooing-doux-equilibrant-antipelliculaire-P10047620.html\n"
     ]
    },
    {
     "name": "stderr",
     "output_type": "stream",
     "text": [
      "INFO:Will query: https://www.sephora.fr/p/capillaire---shampoing-a-la-pivoine-bio---apaisant---cuir-chevelu-sensible-644195.html\n"
     ]
    },
    {
     "name": "stderr",
     "output_type": "stream",
     "text": [
      "INFO:Will query: https://www.sephora.fr/p/capillaire-shampoing%C2%A0reparation-au-cupuacu%C2%A0bio%C2%A0-%C2%A0--cheveux-tres-secs-P10044060.html\n"
     ]
    },
    {
     "name": "stderr",
     "output_type": "stream",
     "text": [
      "INFO:Will query: https://www.sephora.fr/p/y%C5%ABbi-blonde---shampooing-violet-anti-faux-reflets-545630.html\n"
     ]
    },
    {
     "name": "stderr",
     "output_type": "stream",
     "text": [
      "INFO:Will query: https://www.sephora.fr/p/extreme-shampoo-411089.html\n"
     ]
    },
    {
     "name": "stderr",
     "output_type": "stream",
     "text": [
      "INFO:Will query: https://www.sephora.fr/p/extra-doux---shampooing-dermo-protecteur-capsule-644150.html\n"
     ]
    },
    {
     "name": "stderr",
     "output_type": "stream",
     "text": [
      "INFO:Will query: https://www.sephora.fr/p/elements---shampoing-tous-types-de-cheveux-cuir-chevelu-normal-a-gras-P10023633.html\n"
     ]
    },
    {
     "name": "stderr",
     "output_type": "stream",
     "text": [
      "INFO:Will query: https://www.sephora.fr/p/cocomino-glossing---shampoo-541514.html\n"
     ]
    },
    {
     "name": "stderr",
     "output_type": "stream",
     "text": [
      "INFO:Will query: https://www.sephora.fr/p/node-p-purifiant---shampoing-antipelliculaire-cheveux-gras-650000.html\n"
     ]
    },
    {
     "name": "stderr",
     "output_type": "stream",
     "text": [
      "INFO:Will query: https://www.sephora.fr/p/scalp-solutions-balancing-shampoo---shampoing-purifiant-et-equilibrant-656915.html\n"
     ]
    },
    {
     "name": "stderr",
     "output_type": "stream",
     "text": [
      "INFO:Will query: https://www.sephora.fr/p/surf-foam-wash-shampoo---shampooing-leger-273437.html\n"
     ]
    },
    {
     "name": "stderr",
     "output_type": "stream",
     "text": [
      "INFO:Will query: https://www.sephora.fr/p/the-shampoo---le-shampooing-584845.html\n"
     ]
    },
    {
     "name": "stderr",
     "output_type": "stream",
     "text": [
      "INFO:Will query: https://www.sephora.fr/p/coffret-hydratation-hairdressers--invisible-oil---coffret-soin-cheveux-586717.html\n"
     ]
    },
    {
     "name": "stderr",
     "output_type": "stream",
     "text": [
      "INFO:Will query: https://www.sephora.fr/p/fine-hair---shampoing-pour-cheveux-fins-514558.html\n"
     ]
    },
    {
     "name": "stderr",
     "output_type": "stream",
     "text": [
      "INFO:Will query: https://www.sephora.fr/p/destined-for-density%E2%84%A2---shampoing-densifiant-661180.html\n"
     ]
    },
    {
     "name": "stderr",
     "output_type": "stream",
     "text": [
      "INFO:Will query: https://www.sephora.fr/p/classic-shampoo-travel-size---shampoing-reparateur-format-voyage-421688.html\n"
     ]
    },
    {
     "name": "stderr",
     "output_type": "stream",
     "text": [
      "INFO:Will query: https://www.sephora.fr/p/okara-color---shampooing-eclat-643730.html\n"
     ]
    },
    {
     "name": "stderr",
     "output_type": "stream",
     "text": [
      "INFO:Will query: https://www.sephora.fr/p/curl-charismamc---mini-soins-pour-cheveux-definis-et-hydrates-617754.html\n"
     ]
    },
    {
     "name": "stderr",
     "output_type": "stream",
     "text": [
      "ERROR:Couldn't find the price or unit \n"
     ]
    },
    {
     "name": "stderr",
     "output_type": "stream",
     "text": [
      "INFO:Will query: https://www.sephora.fr/p/anaphase---shampooing-complement-antichute-644149.html\n"
     ]
    },
    {
     "name": "stderr",
     "output_type": "stream",
     "text": [
      "INFO:Will query: https://www.sephora.fr/p/damage-remedy-restructuring-shampoo---shampooing-reparateur-cheveux-abimes-284383.html\n"
     ]
    },
    {
     "name": "stderr",
     "output_type": "stream",
     "text": [
      "INFO:Will query: https://www.sephora.fr/p/serie-expert-curl-expression---gelee-lavante-anti-residus-616481.html\n"
     ]
    },
    {
     "name": "stderr",
     "output_type": "stream",
     "text": [
      "INFO:Will query: https://www.sephora.fr/p/mythic-oil---shampooing-aux-huiles---cheveux-fins-403336.html\n"
     ]
    },
    {
     "name": "stderr",
     "output_type": "stream",
     "text": [
      "INFO:Will query: https://www.sephora.fr/p/amino-mint---shampoing-pour-racines-grasses-et-pointes-seches-581836.html\n"
     ]
    },
    {
     "name": "stderr",
     "output_type": "stream",
     "text": [
      "INFO:Will query: https://www.sephora.fr/p/capillaire---shampoing-sec-detox-a-la-menthe-aquatique-bio-644191.html\n"
     ]
    },
    {
     "name": "stderr",
     "output_type": "stream",
     "text": [
      "INFO:Will query: https://www.sephora.fr/p/hair-cleansing-cream---shampoing-detox-purifiant-560114.html\n"
     ]
    },
    {
     "name": "stderr",
     "output_type": "stream",
     "text": [
      "INFO:Will query: https://www.sephora.fr/p/neopur---shampooing-antipelliculaire-equilibrant-cuir-chevelu-gras-619540.html\n"
     ]
    },
    {
     "name": "stderr",
     "output_type": "stream",
     "text": [
      "INFO:Will query: https://www.sephora.fr/p/color-brilliance---shampoing-pour-cheveux-epais-et-colores-P10023637.html\n"
     ]
    },
    {
     "name": "stderr",
     "output_type": "stream",
     "text": [
      "INFO:Will query: https://www.sephora.fr/p/squanorm---shampooing-traitant---pellicules-seches-659068.html\n"
     ]
    },
    {
     "name": "stderr",
     "output_type": "stream",
     "text": [
      "INFO:Will query: https://www.sephora.fr/p/genesis---bouteille-rechargeable-610318.html\n"
     ]
    },
    {
     "name": "stderr",
     "output_type": "stream",
     "text": [
      "INFO:Will query: https://www.sephora.fr/p/don-t-despair--repair----minisoins-capillaire-fortifiants-et-reparateurs-551677.html\n"
     ]
    },
    {
     "name": "stderr",
     "output_type": "stream",
     "text": [
      "ERROR:Couldn't find the price or unit \n"
     ]
    },
    {
     "name": "stderr",
     "output_type": "stream",
     "text": [
      "INFO:Will query: https://www.sephora.fr/p/node-ds--shampoint---shampoing-apaisant-anti-pelliculaire-649993.html\n"
     ]
    },
    {
     "name": "stderr",
     "output_type": "stream",
     "text": [
      "INFO:Will query: https://www.sephora.fr/p/farewell-frizz---shampooing-lissant-477986.html\n"
     ]
    },
    {
     "name": "stderr",
     "output_type": "stream",
     "text": [
      "INFO:Will query: https://www.sephora.fr/p/curl-shampoo---shampoing-pour-tous-types-de-boucles-619046.html\n"
     ]
    },
    {
     "name": "stderr",
     "output_type": "stream",
     "text": [
      "INFO:Will query: https://www.sephora.fr/p/shampooing-hydratation-brillance-au-karite-408063.html\n"
     ]
    },
    {
     "name": "stderr",
     "output_type": "stream",
     "text": [
      "INFO:Will query: https://www.sephora.fr/p/tonucia---shampooing-repulpant-571220.html\n"
     ]
    },
    {
     "name": "stderr",
     "output_type": "stream",
     "text": [
      "INFO:Will query: https://www.sephora.fr/p/nutritive----bain-satin-691846.html\n"
     ]
    },
    {
     "name": "stderr",
     "output_type": "stream",
     "text": [
      "INFO:Will query: https://www.sephora.fr/p/be-gentle--be-kind-kale---apres-shampooing-nettoyant-441200.html\n"
     ]
    },
    {
     "name": "stderr",
     "output_type": "stream",
     "text": [
      "INFO:Will query: https://www.sephora.fr/p/the-ritual-of-ayurveda---shampoing-488821.html\n"
     ]
    },
    {
     "name": "stderr",
     "output_type": "stream",
     "text": [
      "INFO:Will query: https://www.sephora.fr/p/capillaire---shampoing-nutrition-a-la-mangue---cheveux-secs-644189.html\n"
     ]
    },
    {
     "name": "stderr",
     "output_type": "stream",
     "text": [
      "INFO:Will query: https://www.sephora.fr/p/naturia---shampooing-micellaire-douceur---eco-recharge-643726.html\n"
     ]
    },
    {
     "name": "stderr",
     "output_type": "stream",
     "text": [
      "INFO:Will query: https://www.sephora.fr/p/shampure%E2%84%A2---shampooing-solide-nourrissant-611139.html\n"
     ]
    },
    {
     "name": "stderr",
     "output_type": "stream",
     "text": [
      "ERROR:Couldn't find the price or unit \n"
     ]
    },
    {
     "name": "stderr",
     "output_type": "stream",
     "text": [
      "INFO:Will query: https://www.sephora.fr/p/blonde-shampoo---szampon-do-w%C5%82os%C3%B3w-blond-559062.html\n"
     ]
    },
    {
     "name": "stderr",
     "output_type": "stream",
     "text": [
      "INFO:Will query: https://www.sephora.fr/p/redken-brews-mint-shampoo-438640.html\n"
     ]
    },
    {
     "name": "stderr",
     "output_type": "stream",
     "text": [
      "INFO:Will query: https://www.sephora.fr/p/nutritive---bouteille-rechargeable-610319.html\n"
     ]
    },
    {
     "name": "stderr",
     "output_type": "stream",
     "text": [
      "INFO:Will query: https://www.sephora.fr/p/sunflower---shampoing-protecteur-a-l-huile-de-tournesol-533968.html\n"
     ]
    },
    {
     "name": "stderr",
     "output_type": "stream",
     "text": [
      "INFO:Will query: https://www.sephora.fr/p/nutriplenish%C2%AE---shampooing-hydratation-profonde-format-voyage-506832.html\n"
     ]
    },
    {
     "name": "stderr",
     "output_type": "stream",
     "text": [
      "INFO:Will query: https://www.sephora.fr/p/rosemary-mint---shampooing-purifiant-format-voyage-470157.html\n"
     ]
    },
    {
     "name": "stderr",
     "output_type": "stream",
     "text": [
      "INFO:Will query: https://www.sephora.fr/p/superfoods-mangue-cerise---shampooing-equilibrant-et-regulateur-de-sebum-564163.html\n"
     ]
    },
    {
     "name": "stderr",
     "output_type": "stream",
     "text": [
      "INFO:Will query: https://www.sephora.fr/p/scalp-relief---shampoing-anti-pelliculaire-541386.html\n"
     ]
    },
    {
     "name": "stderr",
     "output_type": "stream",
     "text": [
      "INFO:Will query: https://www.sephora.fr/p/neopur---shampooing-antipelliculaire-equilibrant-cuir-chevelu-sec-619539.html\n"
     ]
    },
    {
     "name": "stderr",
     "output_type": "stream",
     "text": [
      "INFO:Will query: https://www.sephora.fr/p/medium-hair---shampoing-pour-cheveux-moyens-514559.html\n"
     ]
    },
    {
     "name": "stderr",
     "output_type": "stream",
     "text": [
      "INFO:Will query: https://www.sephora.fr/p/the-ritual-of-karma---shampoing-488822.html\n"
     ]
    },
    {
     "name": "stderr",
     "output_type": "stream",
     "text": [
      "INFO:Will query: https://www.sephora.fr/p/absolue-keratine---shampooing-soin-reparateur-547322.html\n"
     ]
    },
    {
     "name": "stderr",
     "output_type": "stream",
     "text": [
      "INFO:Will query: https://www.sephora.fr/p/color-extend-graydiant-shampoo-510625.html\n"
     ]
    },
    {
     "name": "stderr",
     "output_type": "stream",
     "text": [
      "INFO:Will query: https://www.sephora.fr/p/squanorm---shampooing-traitant-antipelliculaire---pellicules-grasses-659067.html\n"
     ]
    },
    {
     "name": "stderr",
     "output_type": "stream",
     "text": [
      "INFO:Will query: https://www.sephora.fr/p/okara-color---shampooing-protecteur-couleur-519733.html\n"
     ]
    },
    {
     "name": "stderr",
     "output_type": "stream",
     "text": [
      "INFO:Will query: https://www.sephora.fr/p/color-full-shampoo---shampoing-pour-cheveux-colores-421691.html\n"
     ]
    },
    {
     "name": "stderr",
     "output_type": "stream",
     "text": [
      "INFO:Will query: https://www.sephora.fr/p/color-extend-brownlights-shampoo-537967.html\n"
     ]
    },
    {
     "name": "stderr",
     "output_type": "stream",
     "text": [
      "INFO:Will query: https://www.sephora.fr/p/olive-fruit-oil---shampoing-nourrissant-a-l-huile-d-olive-533966.html\n"
     ]
    },
    {
     "name": "stderr",
     "output_type": "stream",
     "text": [
      "INFO:Will query: https://www.sephora.fr/p/creme-de-coco-shampoo---shampooing-hydratant-236571.html\n"
     ]
    },
    {
     "name": "stderr",
     "output_type": "stream",
     "text": [
      "INFO:Will query: https://www.sephora.fr/p/colormotion----shampoing-protecteur-de-couleur-pour-cheveux-colores-556833.html\n"
     ]
    },
    {
     "name": "stderr",
     "output_type": "stream",
     "text": [
      "INFO:Will query: https://www.sephora.fr/p/okara-color---shampooing-dejaunissant-643731.html\n"
     ]
    },
    {
     "name": "stderr",
     "output_type": "stream",
     "text": [
      "INFO:Will query: https://www.sephora.fr/p/baume-lavante-boucles-fabuleuses-au-beurre-de-kokum-568969.html\n"
     ]
    },
    {
     "name": "stderr",
     "output_type": "stream",
     "text": [
      "INFO:Will query: https://www.sephora.fr/p/shampoing-masque-a-la-poudre-d-ortie-bio---cuir-chevelu-gras-619774.html\n"
     ]
    },
    {
     "name": "stderr",
     "output_type": "stream",
     "text": [
      "ERROR:Couldn't find the price or unit \n"
     ]
    },
    {
     "name": "stderr",
     "output_type": "stream",
     "text": [
      "INFO:Will query: https://www.sephora.fr/p/capillaire---shampoing-solide-a-l%E2%80%99avoine-%E2%80%94-tous-types-de-cheveux-644178.html\n"
     ]
    },
    {
     "name": "stderr",
     "output_type": "stream",
     "text": [
      "ERROR:Couldn't find the price or unit \n"
     ]
    },
    {
     "name": "stderr",
     "output_type": "stream",
     "text": [
      "INFO:Will query: https://www.sephora.fr/p/rituel-regenerant-d-exception---coffret-soin-cheveux-640810.html\n"
     ]
    },
    {
     "name": "stderr",
     "output_type": "stream",
     "text": [
      "INFO:Will query: https://www.sephora.fr/p/shampooing-doux-482469.html\n"
     ]
    },
    {
     "name": "stderr",
     "output_type": "stream",
     "text": [
      "INFO:Will query: https://www.sephora.fr/p/thick-hair---shampoing-pour-cheveux-epais-recharge-514568.html\n"
     ]
    },
    {
     "name": "stderr",
     "output_type": "stream",
     "text": [
      "INFO:Will query: https://www.sephora.fr/p/capillaire---shampoing-solide-a-la-mangue---nutrition---cheveux-secs-644190.html\n"
     ]
    },
    {
     "name": "stderr",
     "output_type": "stream",
     "text": [
      "ERROR:Couldn't find the price or unit \n"
     ]
    },
    {
     "name": "stderr",
     "output_type": "stream",
     "text": [
      "INFO:Will query: https://www.sephora.fr/p/styling-by-redken---wax-blast---cire-en-spray-560831.html\n"
     ]
    },
    {
     "name": "stderr",
     "output_type": "stream",
     "text": [
      "ERROR:Couldn't find the price or unit \n"
     ]
    },
    {
     "name": "stderr",
     "output_type": "stream",
     "text": [
      "INFO:Will query: https://www.sephora.fr/p/blond-absolu---bouteille-rechargeable-610316.html\n"
     ]
    },
    {
     "name": "stderr",
     "output_type": "stream",
     "text": [
      "INFO:Will query: https://www.sephora.fr/p/mythic-oil---shampooing-aux-huiles---cheveux-epais-403335.html\n"
     ]
    },
    {
     "name": "stderr",
     "output_type": "stream",
     "text": [
      "INFO:Will query: https://www.sephora.fr/p/les-essentiels-corps-et-cheveux---kit-corps-et-chevux-573487.html\n"
     ]
    },
    {
     "name": "stderr",
     "output_type": "stream",
     "text": [
      "ERROR:Couldn't find the price or unit \n"
     ]
    },
    {
     "name": "stderr",
     "output_type": "stream",
     "text": [
      "INFO:Will query: https://www.sephora.fr/p/solaire---shampoing-douche-apres-soleil-au-monoi---corps-et-cheveux-644198.html\n"
     ]
    },
    {
     "name": "stderr",
     "output_type": "stream",
     "text": [
      "INFO:Will query: https://www.sephora.fr/p/soin-lavant---antipelliculaire-apaisant-a-l-extrait-de-sauge-566172.html\n"
     ]
    },
    {
     "name": "stderr",
     "output_type": "stream",
     "text": [
      "INFO:Will query: https://www.sephora.fr/p/capillaire---shampoing-force-a-la-quinine-et-edelweiss-bio-644196.html\n"
     ]
    },
    {
     "name": "stderr",
     "output_type": "stream",
     "text": [
      "INFO:Will query: https://www.sephora.fr/p/blondage-high-bright---shampooing-eclat-pour-cheveux-blonds-587695.html\n"
     ]
    },
    {
     "name": "stderr",
     "output_type": "stream",
     "text": [
      "INFO:Will query: https://www.sephora.fr/p/starter-kit---body-care-and-haircare-set-640770.html\n"
     ]
    },
    {
     "name": "stderr",
     "output_type": "stream",
     "text": [
      "ERROR:Couldn't find the price or unit \n"
     ]
    },
    {
     "name": "stderr",
     "output_type": "stream",
     "text": [
      "INFO:Will query: https://www.sephora.fr/p/grooming-solutions-nourishing-shampoo-et-conditioner---shampoing-nourrissant-533930.html\n"
     ]
    },
    {
     "name": "stderr",
     "output_type": "stream",
     "text": [
      "INFO:Will query: https://www.sephora.fr/p/redken-brews-3-in-1-shampoo-438643.html\n"
     ]
    },
    {
     "name": "stderr",
     "output_type": "stream",
     "text": [
      "INFO:Will query: https://www.sephora.fr/p/invati-men-nourishing-exfoliating-shampoo---shampooing-exfoliant-anti-chute-363082.html\n"
     ]
    },
    {
     "name": "stderr",
     "output_type": "stream",
     "text": [
      "INFO:Will query: https://www.sephora.fr/p/rice-and-wheat-volumizing-shampoo---shampoing-volumateur-533967.html\n"
     ]
    },
    {
     "name": "stderr",
     "output_type": "stream",
     "text": [
      "INFO:Will query: https://www.sephora.fr/p/huile-de-germe-de-ble-39553.html\n"
     ]
    },
    {
     "name": "stderr",
     "output_type": "stream",
     "text": [
      "INFO:Will query: https://www.sephora.fr/p/restore---shampooing-fortifiant-587502.html\n"
     ]
    },
    {
     "name": "stderr",
     "output_type": "stream",
     "text": [
      "INFO:Will query: https://www.sephora.fr/p/la-fabrique-de-cadeaux---calendrier-de-l-avent-2021-560402.html\n"
     ]
    },
    {
     "name": "stderr",
     "output_type": "stream",
     "text": [
      "INFO:Will query: https://www.sephora.fr/p/be-gentle--be-kind---shampooing-riche-et-ultranourrissant-467508.html\n"
     ]
    },
    {
     "name": "stderr",
     "output_type": "stream",
     "text": [
      "INFO:Will query: https://www.sephora.fr/p/node-p-normalisant---shampooing-anti-pelliculaire-tous-types-de-cheveux-649999.html\n"
     ]
    },
    {
     "name": "stderr",
     "output_type": "stream",
     "text": [
      "INFO:Will query: https://www.sephora.fr/p/node-fluide-shampoing---kit-soin-cheveux-649991.html\n"
     ]
    },
    {
     "name": "stderr",
     "output_type": "stream",
     "text": [
      "INFO:Will query: https://www.sephora.fr/p/barbiere---shampoing-eclaircissant-cheveux-blancs-et-gris-511841.html\n"
     ]
    },
    {
     "name": "stderr",
     "output_type": "stream",
     "text": [
      "INFO:Will query: https://www.sephora.fr/p/superfoods---coffret-cheveux-a-la-banane-et-a-la-noix-de-coco-pour-cheveux-secs-555880.html\n"
     ]
    },
    {
     "name": "stderr",
     "output_type": "stream",
     "text": [
      "INFO:Will query: https://www.sephora.fr/p/perfect-hair-day---shampooing-hydratant-587501.html\n"
     ]
    },
    {
     "name": "stderr",
     "output_type": "stream",
     "text": [
      "INFO:Will query: https://www.sephora.fr/p/curl-shampoo-534402.html\n"
     ]
    },
    {
     "name": "stderr",
     "output_type": "stream",
     "text": [
      "INFO:Will query: https://www.sephora.fr/p/barbiere---shampoing-doux-511842.html\n"
     ]
    },
    {
     "name": "stderr",
     "output_type": "stream",
     "text": [
      "INFO:Will query: https://www.sephora.fr/p/buildup-buster%C2%AE---nettoyant-clarifiant-doux-584887.html\n"
     ]
    },
    {
     "name": "stderr",
     "output_type": "stream",
     "text": [
      "INFO:Will query: https://www.sephora.fr/p/no-poo-blue%C2%AE---nettoyant-neutralisant-sans-mousse-anti-reflets-cuivres-584893.html\n"
     ]
    },
    {
     "name": "stderr",
     "output_type": "stream",
     "text": [
      "INFO:Will query: https://www.sephora.fr/p/scalp-puri-ph-y-%E2%84%A2---spray-exfoliant-rincage-facile-584894.html\n"
     ]
    },
    {
     "name": "stderr",
     "output_type": "stream",
     "text": [
      "INFO:Will query: https://www.sephora.fr/p/purifying-clay-wash---nettoyant-purifiant-cuir-chevelu-659225.html\n"
     ]
    },
    {
     "name": "stderr",
     "output_type": "stream",
     "text": [
      "INFO:Will query: https://www.sephora.fr/p/scalp-revival---shampooing-micro-exfoliant-charbon-et-huile-de-coco-617758.html\n"
     ]
    },
    {
     "name": "stderr",
     "output_type": "stream",
     "text": [
      "INFO:Will query: https://www.sephora.fr/p/colorkick%C2%AE---shampoing-dejaunisseur-550420.html\n"
     ]
    },
    {
     "name": "stderr",
     "output_type": "stream",
     "text": [
      "INFO:Will query: https://www.sephora.fr/p/blonde-revival-purple-toning---shampooing-raviveur-de-blond-617475.html\n"
     ]
    },
    {
     "name": "stderr",
     "output_type": "stream",
     "text": [
      "INFO:Will query: https://www.sephora.fr/p/resistance---bouteille-rechargeable-610320.html\n"
     ]
    },
    {
     "name": "stderr",
     "output_type": "stream",
     "text": [
      "INFO:Will query: https://www.sephora.fr/p/thirsty-girl---shampooing-anti-frisottis-au-lait-de-coco-479360.html\n"
     ]
    },
    {
     "name": "stderr",
     "output_type": "stream",
     "text": [
      "INFO:Will query: https://www.sephora.fr/p/no-frizz---shampooing-lissant-587498.html\n"
     ]
    },
    {
     "name": "stderr",
     "output_type": "stream",
     "text": [
      "INFO:Will query: https://www.sephora.fr/p/nutriplenish%C2%AE---shampooing-hydratation-legere-format-voyage-506833.html\n"
     ]
    },
    {
     "name": "stderr",
     "output_type": "stream",
     "text": [
      "INFO:Will query: https://www.sephora.fr/p/cherry-almond---shampooing-adoucissant-format-voyage-471623.html\n"
     ]
    },
    {
     "name": "stderr",
     "output_type": "stream",
     "text": [
      "INFO:Will query: https://www.sephora.fr/p/cherry-almond---shampooing-adoucissant-457030.html\n"
     ]
    },
    {
     "name": "stderr",
     "output_type": "stream",
     "text": [
      "INFO:Will query: https://www.sephora.fr/p-kerastase_set_8.html\n"
     ]
    },
    {
     "name": "stderr",
     "output_type": "stream",
     "text": [
      "ERROR:Couldn't find the ingredients\n"
     ]
    },
    {
     "name": "stderr",
     "output_type": "stream",
     "text": [
      "INFO:Will query: https://www.sephora.fr/p/extra-doux-shampoing-a-l-avoine---tous-types-de-cheveux-P10026562.html\n"
     ]
    },
    {
     "name": "stderr",
     "output_type": "stream",
     "text": [
      "INFO:Will query: https://www.sephora.fr/p/absolut-repair---shampoing-reparateur-et-hydratant-pour-cheveux-abimes-557761.html\n"
     ]
    },
    {
     "name": "stderr",
     "output_type": "stream",
     "text": [
      "INFO:Will query: https://www.sephora.fr/p/fusion-intense-repair---shampoing-reparation-intense-pour-cheveux-abimes-444299.html\n"
     ]
    },
    {
     "name": "stderr",
     "output_type": "stream",
     "text": [
      "INFO:Will query: https://www.sephora.fr/p/vitamino-color---shampooing-fixateur-de-couleur-antioxydant-et-filtre-uv-557776.html\n"
     ]
    },
    {
     "name": "stderr",
     "output_type": "stream",
     "text": [
      "INFO:Will query: https://www.sephora.fr/p/pro-longer---shampoing-pour-cheveux-longs-aux-pointes-afffinees-557770.html\n"
     ]
    },
    {
     "name": "stderr",
     "output_type": "stream",
     "text": [
      "INFO:Will query: https://www.sephora.fr/p/serie-expert---blondifier-shampoo-cool-557765.html\n"
     ]
    }
   ],
   "source": [
    "import logging\n",
    "import re\n",
    "import requests\n",
    "import csv\n",
    "from bs4 import BeautifulSoup\n",
    "\n",
    "\n",
    "def get(uri):\n",
    "    logging.info(f'Will query: {uri}')\n",
    "    headers = {'User-Agent': 'Mozilla/5.0'}\n",
    "    r = requests.get(uri, headers=headers)\n",
    "    r.raise_for_status()\n",
    "    r.encoding = 'UTF-8'\n",
    "    return r\n",
    "\n",
    "\n",
    "def get_soup(uri: str) -> BeautifulSoup:\n",
    "    r = get(uri)\n",
    "    return BeautifulSoup(r.text, 'html.parser')\n",
    "\n",
    "def main():\n",
    "    host = \"https://www.sephora.fr\"\n",
    "    path = \"/shop/cheveux/soin-cheveux/shampoing-c447/\"\n",
    "    uri = host + path\n",
    "    soup = get_soup(uri)\n",
    "\n",
    "    with open('sephora_data.csv', 'w', newline='\\n',encoding=\"utf-8\") as csvfile:\n",
    "        writer = csv.writer(csvfile, delimiter=',')\n",
    "        writer.writerow(['ingredients', 'brand', 'name', 'price', 'quantity', 'unit'])\n",
    "\n",
    "\n",
    "        expected_article_amount = soup.find('div', {'class': 'results-hits'}).text.split()[0]\n",
    "        logging.info(f'Will get {expected_article_amount} of articles.')\n",
    "        all_articles_uri = f'{host}{path}?srule=GoLiveSortingRule&sz={expected_article_amount}&format=page-element&start=0&on=onclickload'\n",
    "        soup = get_soup(all_articles_uri)\n",
    "        articles = soup.find_all('div', attrs={'class': 'product-info-wrapper'})\n",
    "        logging.info(f'Got {len(articles)} articles.')\n",
    "        for article in articles:\n",
    "            article_product_link = article.find('a', attrs={'class': 'product-tile-link'} )['href']\n",
    "            article_soup = get_soup(article_product_link)\n",
    "            brand = article_soup.find('a', {'class': 'brand-link'}).text.replace('\\n', '')\n",
    "            name = article_soup.find('span', {'class': 'product-name product-name-bold'}).text.replace('\\n', '')\n",
    "            try:\n",
    "                ingredients = article_soup.find('div', {'class': 'accordion-content ingredients-content'}).text.replace('\\n','').split('.')[0]\n",
    "                ingredients = re.sub(\"[\\(\\[].*?[\\)\\]]\", \"\", ingredients)\n",
    "            except Exception as e:\n",
    "                logging.error(\"Couldn't find the ingredients\")\n",
    "                continue\n",
    "            try:\n",
    "                # unit contains the price and price the unit (go figure, I guess they are not talented enough)\n",
    "                price = article_soup.find('span', {'class': 'unit'}).text.replace('\\n', '').replace(' €', '')\n",
    "                quantity, unit = article_soup.find('span', {'class': 'price'}).text.replace('\\n', '').replace('ml', ' ml').split()\n",
    "            except Exception as e:\n",
    "                logging.error(\"Couldn't find the price or unit \")\n",
    "                continue\n",
    "\n",
    "            writer.writerow([ingredients, brand, name, price, quantity, unit])\n",
    "\n",
    "\n",
    "if __name__ == '__main__':\n",
    "    logging.basicConfig(format='%(levelname)s:%(message)s', level=logging.INFO)\n",
    "    main()"
   ]
  }
 ],
 "metadata": {
  "kernelspec": {
   "display_name": "Python 3 (ipykernel)",
   "language": "python",
   "name": "python3"
  },
  "language_info": {
   "codemirror_mode": {
    "name": "ipython",
    "version": 3
   },
   "file_extension": ".py",
   "mimetype": "text/x-python",
   "name": "python",
   "nbconvert_exporter": "python",
   "pygments_lexer": "ipython3",
   "version": "3.11.3"
  }
 },
 "nbformat": 4,
 "nbformat_minor": 5
}